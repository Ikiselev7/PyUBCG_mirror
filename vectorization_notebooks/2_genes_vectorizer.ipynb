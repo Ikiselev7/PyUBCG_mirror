{
 "cells": [
  {
   "cell_type": "markdown",
   "metadata": {},
   "source": [
    "This file started 28.05.2019"
   ]
  },
  {
   "cell_type": "code",
   "execution_count": 1,
   "metadata": {},
   "outputs": [],
   "source": [
    "from Bio import SeqIO\n",
    "\n",
    "from sklearn.feature_extraction.text import CountVectorizer\n",
    "from sklearn.feature_extraction.text import TfidfVectorizer\n",
    "import numpy as np\n",
    "\n",
    "import os\n",
    "\n",
    "from timeit import default_timer as timer"
   ]
  },
  {
   "cell_type": "markdown",
   "metadata": {},
   "source": [
    "## TfidfVectorizer (+CountVectorizer) on all genes from all organisms"
   ]
  },
  {
   "cell_type": "markdown",
   "metadata": {},
   "source": [
    "Создать большой список всех генов.\n",
    "\n",
    "По ним сделать fit для TfidfVectorizer.\n",
    "\n",
    "Потом сделать transform для всех генов.\n",
    "\n",
    "На выходе должен получиться кортеж, который содержит:\n",
    "\n",
    "(organism_name, gene, tfidf)\n",
    "\n",
    "Можно сразу брать n-grams (3,5)\n",
    "\n",
    "ВАЖНО: сколько слов в словаре. и сколько из них встречаются только 1 раз (в одном гене)"
   ]
  },
  {
   "cell_type": "code",
   "execution_count": 2,
   "metadata": {},
   "outputs": [
    {
     "name": "stdout",
     "output_type": "stream",
     "text": [
      "Bacillus_amyloliquefaciens_GCF_000196735.1_ASM19673v1_genomic.fasta\n",
      "Bacillus_atrophaeus_GCF_000742675.1_ASM74267v1_genomic.fasta\n",
      "Bacillus_halotolerans_GCF_001517105.1_ASM151710v1_genomic.fasta\n",
      "Bacillus_licheniformis_GCF_000011645.1_ASM1164v1_genomic.fasta\n",
      "Bacillus_mojavensis_GCF_000245335.1_ASM24533v1_genomic.fasta\n",
      "Bacillus_paralicheniformis_GCF_000408885.1_ASM40888v1_genomic.fasta\n",
      "Bacillus_siamensis_GCF_000262045.1_KCTC_13613_01_genomic.fasta\n",
      "Bacillus_sonorensis_GCF_002202015.1_ASM220201v1_genomic.fasta\n",
      "Bacillus_subtilis_GCF_000009045.1_ASM904v1_genomic.fasta\n",
      "Bacillus_tequilensis_GCF_000507145.1_KCTC_13622_01_genomic.fasta\n",
      "Bacillus_vallismortis_GCF_000245315.1_ASM24531v1_genomic.fasta\n",
      "Bacillus_velezensis_GCF_002117165.1_ASM211716v1_genomic.fasta\n"
     ]
    },
    {
     "data": {
      "text/plain": [
       "[None, None, None, None, None, None, None, None, None, None, None, None]"
      ]
     },
     "execution_count": 2,
     "metadata": {},
     "output_type": "execute_result"
    }
   ],
   "source": [
    "path_gene_nuc = '../../sf_data/prodigal_output/gene_nuc/'\n",
    "\n",
    "[print(f) for f in os.listdir(path_gene_nuc)]"
   ]
  },
  {
   "cell_type": "code",
   "execution_count": 3,
   "metadata": {},
   "outputs": [
    {
     "data": {
      "text/plain": [
       "['Bacillus_amyloliquefaciens',\n",
       " 'Bacillus_atrophaeus',\n",
       " 'Bacillus_halotolerans',\n",
       " 'Bacillus_licheniformis',\n",
       " 'Bacillus_mojavensis',\n",
       " 'Bacillus_paralicheniformis',\n",
       " 'Bacillus_siamensis',\n",
       " 'Bacillus_sonorensis',\n",
       " 'Bacillus_subtilis',\n",
       " 'Bacillus_tequilensis',\n",
       " 'Bacillus_vallismortis',\n",
       " 'Bacillus_velezensis']"
      ]
     },
     "execution_count": 3,
     "metadata": {},
     "output_type": "execute_result"
    }
   ],
   "source": [
    "organisms_names = [f[:f.index('_', f.index('_') + 1)] for f in os.listdir(path_gene_nuc)]\n",
    "organisms_names"
   ]
  },
  {
   "cell_type": "code",
   "execution_count": 4,
   "metadata": {},
   "outputs": [],
   "source": [
    "full_path_gene_nuc = [path_gene_nuc + f for f in os.listdir(path_gene_nuc)]"
   ]
  },
  {
   "cell_type": "code",
   "execution_count": 5,
   "metadata": {},
   "outputs": [],
   "source": [
    "# Read fasta data with deleting symbol N in nuc seq\n",
    "organisms = [SeqIO.parse(gene_nuc_file, 'fasta') for gene_nuc_file in full_path_gene_nuc]\n",
    "all_genes_list = []\n",
    "\n",
    "for (id_org, organism) in enumerate(organisms):\n",
    "    for gene_record in organism:\n",
    "        all_genes_list.append(str(gene_record.seq).replace('N', ''))"
   ]
  },
  {
   "cell_type": "markdown",
   "metadata": {},
   "source": [
    "### Custom ngram-range"
   ]
  },
  {
   "cell_type": "code",
   "execution_count": null,
   "metadata": {},
   "outputs": [],
   "source": [
    "def vectorize(vectorizer):\n",
    "    start = timer()\n",
    "    vectorizer.fit(all_genes_list)\n",
    "    end = timer()\n",
    "    print(f'vectorizer.fit worked {end - start:.2f} sec')\n",
    "    \n",
    "    start = timer()\n",
    "    all_genes_tfidf_3_5gram = tfidf_vectorizer_3_5gram.transform(all_genes_list)\n",
    "    end = timer()\n",
    "    print(f'{end - start} sec')\n",
    "\n",
    "end = timer()\n",
    "print(f'{end - start} sec')\n",
    "\n",
    "def tfidf_vectorize(ngram_range=(3,3)):\n",
    "    tfidf_vectorizer = TfidfVectorizer(analyzer='char',\n",
    "                                       ngram_range=ngram_range)\n",
    "    vectorize(tfidf_vectorizer)\n",
    "    \n",
    "def count_vectorizer(ngram_range=(3,3)):\n",
    "    count_vectorizer = CountVectorizer(analyzer='char',\n",
    "                                       ngram_range=ngram_range)\n",
    "    \n",
    "    "
   ]
  },
  {
   "cell_type": "code",
   "execution_count": null,
   "metadata": {},
   "outputs": [],
   "source": []
  },
  {
   "cell_type": "code",
   "execution_count": null,
   "metadata": {},
   "outputs": [],
   "source": []
  },
  {
   "cell_type": "code",
   "execution_count": null,
   "metadata": {},
   "outputs": [],
   "source": []
  },
  {
   "cell_type": "code",
   "execution_count": null,
   "metadata": {},
   "outputs": [],
   "source": []
  },
  {
   "cell_type": "markdown",
   "metadata": {},
   "source": [
    "### (3-5) ngrams"
   ]
  },
  {
   "cell_type": "markdown",
   "metadata": {},
   "source": [
    "#### Tfidf Vectorization"
   ]
  },
  {
   "cell_type": "code",
   "execution_count": null,
   "metadata": {},
   "outputs": [],
   "source": [
    "tfidf_vectorizer_3_5gram = TfidfVectorizer(analyzer='char',\n",
    "                                           ngram_range=(3,5))"
   ]
  },
  {
   "cell_type": "code",
   "execution_count": null,
   "metadata": {},
   "outputs": [],
   "source": [
    "start = timer()\n",
    "\n",
    "tfidf_vectorizer_3_5gram.fit(all_genes_list)\n",
    "\n",
    "end = timer()\n",
    "print(f'{end - start} sec')"
   ]
  },
  {
   "cell_type": "code",
   "execution_count": null,
   "metadata": {},
   "outputs": [],
   "source": [
    "start = timer()\n",
    "\n",
    "all_genes_tfidf_3_5gram = tfidf_vectorizer_3_5gram.transform(all_genes_list)\n",
    "\n",
    "end = timer()\n",
    "print(f'{end - start} sec')"
   ]
  },
  {
   "cell_type": "markdown",
   "metadata": {},
   "source": [
    "#### Count Vectorization"
   ]
  },
  {
   "cell_type": "code",
   "execution_count": 6,
   "metadata": {},
   "outputs": [],
   "source": [
    "count_vectorizer_3_5gram = CountVectorizer(analyzer='char',\n",
    "                                           ngram_range=(3,5))"
   ]
  },
  {
   "cell_type": "code",
   "execution_count": 7,
   "metadata": {},
   "outputs": [
    {
     "name": "stdout",
     "output_type": "stream",
     "text": [
      "147.66302881700085 sec\n"
     ]
    }
   ],
   "source": [
    "start = timer()\n",
    "\n",
    "count_vectorizer_3_5gram.fit(all_genes_list)\n",
    "\n",
    "end = timer()\n",
    "print(f'{end - start} sec')"
   ]
  },
  {
   "cell_type": "code",
   "execution_count": 8,
   "metadata": {},
   "outputs": [
    {
     "name": "stdout",
     "output_type": "stream",
     "text": [
      "165.24323143699985 sec\n"
     ]
    }
   ],
   "source": [
    "start = timer()\n",
    "\n",
    "# bow for bag-of-words\n",
    "all_genes_bow_3_5gram = count_vectorizer_3_5gram.transform(all_genes_list)\n",
    "\n",
    "end = timer()\n",
    "print(f'{end - start} sec')"
   ]
  },
  {
   "cell_type": "code",
   "execution_count": 42,
   "metadata": {},
   "outputs": [],
   "source": [
    "all_genes_bow_3_5gram_array = all_genes_bow_3_5gram.toarray()"
   ]
  },
  {
   "cell_type": "markdown",
   "metadata": {},
   "source": [
    "### (3,6)-grams"
   ]
  },
  {
   "cell_type": "code",
   "execution_count": null,
   "metadata": {},
   "outputs": [],
   "source": []
  },
  {
   "cell_type": "code",
   "execution_count": null,
   "metadata": {},
   "outputs": [],
   "source": []
  },
  {
   "cell_type": "code",
   "execution_count": null,
   "metadata": {},
   "outputs": [],
   "source": []
  },
  {
   "cell_type": "code",
   "execution_count": null,
   "metadata": {},
   "outputs": [],
   "source": []
  },
  {
   "cell_type": "code",
   "execution_count": null,
   "metadata": {},
   "outputs": [],
   "source": []
  },
  {
   "cell_type": "markdown",
   "metadata": {},
   "source": [
    "#### Explore vectorized data"
   ]
  },
  {
   "cell_type": "code",
   "execution_count": null,
   "metadata": {},
   "outputs": [],
   "source": [
    "print('TfidfVectorized data:\\n')\n",
    "print(all_genes_tfidf_3_5gram.toarray())"
   ]
  },
  {
   "cell_type": "code",
   "execution_count": null,
   "metadata": {},
   "outputs": [],
   "source": [
    "# number of all genes (in all organisms)\n",
    "# and\n",
    "# length of vectorized data\n",
    "print(len(all_genes_list), len(all_genes_tfidf_3_5gram.toarray()))"
   ]
  },
  {
   "cell_type": "code",
   "execution_count": null,
   "metadata": {},
   "outputs": [],
   "source": [
    "# first five features of TfidfVectorizer\n",
    "tfidf_vectorizer_3_5gram.get_feature_names()[:5]"
   ]
  },
  {
   "cell_type": "code",
   "execution_count": null,
   "metadata": {},
   "outputs": [],
   "source": [
    "# first five features of CountVectorizer\n",
    "count_vectorizer_3_5gram.get_feature_names()[:5]"
   ]
  },
  {
   "cell_type": "code",
   "execution_count": null,
   "metadata": {},
   "outputs": [],
   "source": [
    "# number of features (if 3-5grams)\n",
    "print(f'tfidf: {len(tfidf_vectorizer_3_5gram.get_feature_names())} features')\n",
    "print(f'count: {len(count_vectorizer_3_5gram.get_feature_names())} features')"
   ]
  },
  {
   "cell_type": "code",
   "execution_count": null,
   "metadata": {},
   "outputs": [],
   "source": [
    "# length of each list for each gene is the same (some ngrams are with 0, others with more value)\n",
    "[len(all_genes_tfidf_3_5gram.toarray()[i]) for i in range(5)]"
   ]
  },
  {
   "cell_type": "code",
   "execution_count": 9,
   "metadata": {},
   "outputs": [
    {
     "name": "stdout",
     "output_type": "stream",
     "text": [
      "CountVectorized data\\:n\n",
      "[[66 22  6 ...  3  1  2]\n",
      " [57 19  6 ...  0  1  1]\n",
      " [ 7  2  0 ...  0  0  1]\n",
      " ...\n",
      " [ 5  1  0 ...  0  0  1]\n",
      " [56 17  5 ...  0  1  1]\n",
      " [ 7  4  2 ...  0  0  0]]\n"
     ]
    }
   ],
   "source": [
    "print('CountVectorized data\\:n')\n",
    "print(all_genes_bow_3_5gram.toarray())"
   ]
  },
  {
   "cell_type": "markdown",
   "metadata": {},
   "source": [
    "#### Find ngrams, which appeares only in one gene"
   ]
  },
  {
   "cell_type": "code",
   "execution_count": 19,
   "metadata": {},
   "outputs": [
    {
     "data": {
      "text/plain": [
       "matrix([[4014],\n",
       "        [3402],\n",
       "        [ 639],\n",
       "        ...,\n",
       "        [ 639],\n",
       "        [3402],\n",
       "        [ 324]])"
      ]
     },
     "execution_count": 19,
     "metadata": {},
     "output_type": "execute_result"
    }
   ],
   "source": [
    "# sum for each gene\n",
    "sum_for_each_gene = all_genes_bow_3_5gram.sum(axis=1)\n",
    "sum_for_each_gene"
   ]
  },
  {
   "cell_type": "code",
   "execution_count": 10,
   "metadata": {},
   "outputs": [
    {
     "data": {
      "text/plain": [
       "matrix([[1901833,  773450,  293550, ...,   81289,   88432,  116538]],\n",
       "       dtype=int64)"
      ]
     },
     "execution_count": 10,
     "metadata": {},
     "output_type": "execute_result"
    }
   ],
   "source": [
    "# sum for each feature (ngram)\n",
    "sum_for_each_ngram = all_genes_bow_3_5gram.sum(axis=0)\n",
    "sum_for_each_ngram"
   ]
  },
  {
   "cell_type": "code",
   "execution_count": 11,
   "metadata": {},
   "outputs": [
    {
     "name": "stdout",
     "output_type": "stream",
     "text": [
      "min value for ngrams is 3265\n",
      " ngram index = 487\n",
      " ngram = cctag\n"
     ]
    }
   ],
   "source": [
    "min_val_for_ngrams = sum_for_each_ngram.min()\n",
    "indx_min_for_ngrams = np.where(sum_for_each_ngram ==\\\n",
    "                               sum_for_each_ngram.min())[1][0]\n",
    "\n",
    "print(f'min value for ngrams is {min_val_for_ngrams}\\n',\n",
    "      f'ngram index = {indx_min_for_ngrams}\\n',\n",
    "      f'ngram = {count_vectorizer_3_5gram.get_feature_names()[indx_min_for_ngrams]}')"
   ]
  },
  {
   "cell_type": "code",
   "execution_count": 12,
   "metadata": {},
   "outputs": [
    {
     "name": "stdout",
     "output_type": "stream",
     "text": [
      "[0 0 0 ... 0 0 0]\n"
     ]
    }
   ],
   "source": [
    "min_value_ngram_appearences = all_genes_bow_3_5gram.toarray()[:, 487]\n",
    "print(min_value_ngram_appearences)"
   ]
  },
  {
   "cell_type": "code",
   "execution_count": 14,
   "metadata": {},
   "outputs": [
    {
     "data": {
      "text/plain": [
       "49807"
      ]
     },
     "execution_count": 14,
     "metadata": {},
     "output_type": "execute_result"
    }
   ],
   "source": [
    "len(min_value_ngram_appearences)"
   ]
  },
  {
   "cell_type": "code",
   "execution_count": 13,
   "metadata": {},
   "outputs": [
    {
     "name": "stdout",
     "output_type": "stream",
     "text": [
      "3265\n"
     ]
    }
   ],
   "source": [
    "print(min_value_ngram_appearences.sum())"
   ]
  },
  {
   "cell_type": "code",
   "execution_count": 18,
   "metadata": {},
   "outputs": [
    {
     "name": "stdout",
     "output_type": "stream",
     "text": [
      "4\n",
      "4\n",
      "4\n"
     ]
    },
    {
     "data": {
      "text/plain": [
       "[None, None, None]"
      ]
     },
     "execution_count": 18,
     "metadata": {},
     "output_type": "execute_result"
    }
   ],
   "source": [
    "[print(ngram_num_in_gene) for ngram_num_in_gene in min_value_ngram_appearences if ngram_num_in_gene > 3]"
   ]
  },
  {
   "cell_type": "markdown",
   "metadata": {},
   "source": [
    "feature 'cctag' occures in one gene less than 5 times"
   ]
  },
  {
   "cell_type": "code",
   "execution_count": 29,
   "metadata": {
    "scrolled": true
   },
   "outputs": [
    {
     "name": "stdout",
     "output_type": "stream",
     "text": [
      "aaa appeares [66 57  7 ...  5 56  7] in each gene\n",
      "aaaa appeares [22 19  2 ...  1 17  4] in each gene\n",
      "aaaaa appeares [6 6 0 ... 0 5 2] in each gene\n",
      "aaaac appeares [3 5 1 ... 0 5 0] in each gene\n",
      "aaaag appeares [9 5 0 ... 0 4 2] in each gene\n",
      "aaaat appeares [4 3 1 ... 1 3 0] in each gene\n",
      "aaac appeares [10 13  1 ...  0 13  1] in each gene\n",
      "aaaca appeares [2 2 0 ... 0 1 1] in each gene\n",
      "aaacc appeares [4 4 0 ... 0 5 0] in each gene\n",
      "aaacg appeares [1 4 0 ... 0 4 0] in each gene\n",
      "aaact appeares [3 3 1 ... 0 3 0] in each gene\n",
      "aaag appeares [22 13  0 ...  1 14  2] in each gene\n",
      "aaaga appeares [10  2  0 ...  0  3  1] in each gene\n",
      "aaagc appeares [11  6  0 ...  1  6  0] in each gene\n",
      "aaagg appeares [0 1 0 ... 0 1 0] in each gene\n",
      "aaagt appeares [1 4 0 ... 0 4 1] in each gene\n",
      "aaat appeares [12 12  4 ...  3 12  0] in each gene\n",
      "aaata appeares [3 2 0 ... 0 2 0] in each gene\n",
      "aaatc appeares [4 7 1 ... 1 7 0] in each gene\n",
      "aaatg appeares [2 0 2 ... 1 0 0] in each gene\n",
      "aaatt appeares [3 3 1 ... 1 3 0] in each gene\n",
      "aac appeares [24 23  3 ...  2 23  1] in each gene\n",
      "aaca appeares [7 6 1 ... 1 3 1] in each gene\n",
      "aacaa appeares [2 3 1 ... 1 1 0] in each gene\n",
      "aacac appeares [2 2 0 ... 0 2 1] in each gene\n",
      "aacag appeares [1 1 0 ... 0 0 0] in each gene\n",
      "aacat appeares [2 0 0 ... 0 0 0] in each gene\n",
      "aacc appeares [11  5  1 ...  1  8  0] in each gene\n",
      "aacca appeares [1 1 0 ... 0 3 0] in each gene\n",
      "aaccc appeares [3 0 0 ... 0 1 0] in each gene\n",
      "aaccg appeares [6 3 0 ... 0 3 0] in each gene\n",
      "aacct appeares [1 1 1 ... 1 1 0] in each gene\n",
      "aacg appeares [1 8 0 ... 0 8 0] in each gene\n",
      "aacga appeares [0 1 0 ... 0 1 0] in each gene\n",
      "aacgc appeares [1 1 0 ... 0 0 0] in each gene\n",
      "aacgg appeares [0 2 0 ... 0 3 0] in each gene\n",
      "aacgt appeares [0 4 0 ... 0 4 0] in each gene\n",
      "aact appeares [5 4 1 ... 0 4 0] in each gene\n",
      "aacta appeares [0 0 0 ... 0 1 0] in each gene\n",
      "aactc appeares [1 1 0 ... 0 0 0] in each gene\n",
      "aactg appeares [2 2 0 ... 0 3 0] in each gene\n",
      "aactt appeares [2 1 1 ... 0 0 0] in each gene\n",
      "aag appeares [44 34  2 ...  4 33  3] in each gene\n",
      "aaga appeares [18 10  0 ...  0 11  1] in each gene\n",
      "aagaa appeares [8 4 0 ... 0 4 0] in each gene\n",
      "aagac appeares [3 2 0 ... 0 2 1] in each gene\n",
      "aagag appeares [4 1 0 ... 0 1 0] in each gene\n",
      "aagat appeares [3 3 0 ... 0 4 0] in each gene\n",
      "aagc appeares [17 10  0 ...  1  9  0] in each gene\n",
      "aagca appeares [5 1 0 ... 0 1 0] in each gene\n",
      "aagcc appeares [4 2 0 ... 0 2 0] in each gene\n",
      "aagcg appeares [6 2 0 ... 0 2 0] in each gene\n",
      "aagct appeares [2 5 0 ... 1 4 0] in each gene\n",
      "aagg appeares [5 7 1 ... 1 5 0] in each gene\n",
      "aagga appeares [1 4 1 ... 1 2 0] in each gene\n",
      "aaggc appeares [2 3 0 ... 0 2 0] in each gene\n",
      "aaggg appeares [1 0 0 ... 0 0 0] in each gene\n",
      "aaggt appeares [1 0 0 ... 0 1 0] in each gene\n",
      "aagt appeares [4 7 1 ... 2 8 2] in each gene\n",
      "aagta appeares [0 3 0 ... 0 2 0] in each gene\n",
      "aagtc appeares [2 0 1 ... 1 1 0] in each gene\n",
      "aagtg appeares [2 2 0 ... 1 3 0] in each gene\n",
      "aagtt appeares [0 2 0 ... 0 2 2] in each gene\n",
      "aat appeares [34 24  7 ...  6 23  0] in each gene\n",
      "aata appeares [6 4 0 ... 0 4 0] in each gene\n",
      "aataa appeares [4 0 0 ... 0 0 0] in each gene\n",
      "aatac appeares [0 0 0 ... 0 0 0] in each gene\n",
      "aatag appeares [0 0 0 ... 0 0 0] in each gene\n",
      "aatat appeares [2 4 0 ... 0 4 0] in each gene\n",
      "aatc appeares [11  9  2 ...  2  8  0] in each gene\n",
      "aatca appeares [4 1 0 ... 0 1 0] in each gene\n",
      "aatcc appeares [4 1 1 ... 1 0 0] in each gene\n",
      "aatcg appeares [3 7 1 ... 1 7 0] in each gene\n",
      "aatct appeares [0 0 0 ... 0 0 0] in each gene\n",
      "aatg appeares [8 1 3 ... 2 1 0] in each gene\n",
      "aatga appeares [4 1 2 ... 2 1 0] in each gene\n",
      "aatgc appeares [2 0 0 ... 0 0 0] in each gene\n",
      "aatgg appeares [1 0 1 ... 0 0 0] in each gene\n",
      "aatgt appeares [1 0 0 ... 0 0 0] in each gene\n",
      "aatt appeares [ 9 10  2 ...  2 10  0] in each gene\n",
      "aatta appeares [1 3 2 ... 2 2 0] in each gene\n",
      "aattc appeares [2 3 0 ... 0 4 0] in each gene\n",
      "aattg appeares [2 0 0 ... 0 0 0] in each gene\n",
      "aattt appeares [4 4 0 ... 0 4 0] in each gene\n",
      "aca appeares [25 15  3 ...  3 13  7] in each gene\n",
      "acaa appeares [7 4 2 ... 2 4 0] in each gene\n",
      "acaaa appeares [4 0 0 ... 0 0 0] in each gene\n",
      "acaac appeares [2 2 0 ... 0 2 0] in each gene\n",
      "acaag appeares [0 1 0 ... 0 1 0] in each gene\n",
      "acaat appeares [1 1 2 ... 2 1 0] in each gene\n",
      "acac appeares [4 3 0 ... 0 3 3] in each gene\n",
      "acaca appeares [2 0 0 ... 0 0 1] in each gene\n",
      "acacc appeares [1 0 0 ... 0 0 0] in each gene\n",
      "acacg appeares [1 3 0 ... 0 3 0] in each gene\n",
      "acact appeares [0 0 0 ... 0 0 2] in each gene\n",
      "acag appeares [6 7 1 ... 1 5 3] in each gene\n",
      "acaga appeares [2 2 1 ... 1 1 1] in each gene\n",
      "acagc appeares [3 2 0 ... 0 1 1] in each gene\n",
      "acagg appeares [1 3 0 ... 0 3 1] in each gene\n",
      "acagt appeares [0 0 0 ... 0 0 0] in each gene\n",
      "acat appeares [8 1 0 ... 0 1 1] in each gene\n",
      "acata appeares [0 0 0 ... 0 0 0] in each gene\n",
      "acatc appeares [3 1 0 ... 0 1 0] in each gene\n",
      "acatg appeares [0 0 0 ... 0 0 1] in each gene\n"
     ]
    },
    {
     "ename": "KeyboardInterrupt",
     "evalue": "",
     "output_type": "error",
     "traceback": [
      "\u001b[0;31m---------------------------------------------------------------------------\u001b[0m",
      "\u001b[0;31mKeyboardInterrupt\u001b[0m                         Traceback (most recent call last)",
      "\u001b[0;32m<ipython-input-29-81be50cd4dca>\u001b[0m in \u001b[0;36m<module>\u001b[0;34m\u001b[0m\n\u001b[1;32m      1\u001b[0m for (feature_num, feature_name) in zip(range(all_genes_bow_3_5gram.shape[1]),\n\u001b[1;32m      2\u001b[0m                                        count_vectorizer_3_5gram.get_feature_names()):\n\u001b[0;32m----> 3\u001b[0;31m     \u001b[0mprint\u001b[0m\u001b[0;34m(\u001b[0m\u001b[0;34mf'{feature_name} appeares {all_genes_bow_3_5gram.toarray()[:, feature_num]} in each gene'\u001b[0m\u001b[0;34m)\u001b[0m\u001b[0;34m\u001b[0m\u001b[0;34m\u001b[0m\u001b[0m\n\u001b[0m",
      "\u001b[0;32m~/anaconda3/envs/pyubcg/lib/python3.7/site-packages/scipy/sparse/compressed.py\u001b[0m in \u001b[0;36mtoarray\u001b[0;34m(self, order, out)\u001b[0m\n\u001b[1;32m    971\u001b[0m             \u001b[0my\u001b[0m \u001b[0;34m=\u001b[0m \u001b[0mout\u001b[0m\u001b[0;34m.\u001b[0m\u001b[0mT\u001b[0m\u001b[0;34m\u001b[0m\u001b[0;34m\u001b[0m\u001b[0m\n\u001b[1;32m    972\u001b[0m         \u001b[0mM\u001b[0m\u001b[0;34m,\u001b[0m \u001b[0mN\u001b[0m \u001b[0;34m=\u001b[0m \u001b[0mx\u001b[0m\u001b[0;34m.\u001b[0m\u001b[0m_swap\u001b[0m\u001b[0;34m(\u001b[0m\u001b[0mx\u001b[0m\u001b[0;34m.\u001b[0m\u001b[0mshape\u001b[0m\u001b[0;34m)\u001b[0m\u001b[0;34m\u001b[0m\u001b[0;34m\u001b[0m\u001b[0m\n\u001b[0;32m--> 973\u001b[0;31m         \u001b[0m_sparsetools\u001b[0m\u001b[0;34m.\u001b[0m\u001b[0mcsr_todense\u001b[0m\u001b[0;34m(\u001b[0m\u001b[0mM\u001b[0m\u001b[0;34m,\u001b[0m \u001b[0mN\u001b[0m\u001b[0;34m,\u001b[0m \u001b[0mx\u001b[0m\u001b[0;34m.\u001b[0m\u001b[0mindptr\u001b[0m\u001b[0;34m,\u001b[0m \u001b[0mx\u001b[0m\u001b[0;34m.\u001b[0m\u001b[0mindices\u001b[0m\u001b[0;34m,\u001b[0m \u001b[0mx\u001b[0m\u001b[0;34m.\u001b[0m\u001b[0mdata\u001b[0m\u001b[0;34m,\u001b[0m \u001b[0my\u001b[0m\u001b[0;34m)\u001b[0m\u001b[0;34m\u001b[0m\u001b[0;34m\u001b[0m\u001b[0m\n\u001b[0m\u001b[1;32m    974\u001b[0m         \u001b[0;32mreturn\u001b[0m \u001b[0mout\u001b[0m\u001b[0;34m\u001b[0m\u001b[0;34m\u001b[0m\u001b[0m\n\u001b[1;32m    975\u001b[0m \u001b[0;34m\u001b[0m\u001b[0m\n",
      "\u001b[0;31mKeyboardInterrupt\u001b[0m: "
     ]
    }
   ],
   "source": [
    "# very long!\n",
    "#for (feature_num, feature_name) in zip(range(all_genes_bow_3_5gram.shape[1]),\n",
    "#                                       count_vectorizer_3_5gram.get_feature_names()):\n",
    "#    print(f'{feature_name} appeares {all_genes_bow_3_5gram.toarray()[:, feature_num]} in each gene')"
   ]
  },
  {
   "cell_type": "code",
   "execution_count": 31,
   "metadata": {
    "scrolled": true
   },
   "outputs": [
    {
     "name": "stdout",
     "output_type": "stream",
     "text": [
      "aaa is in  49676 genes\n",
      "aaaa is in  48876 genes\n",
      "aaaaa is in  44930 genes\n",
      "aaaac is in  41857 genes\n",
      "aaaag is in  44747 genes\n",
      "aaaat is in  41718 genes\n",
      "aaac is in  47649 genes\n",
      "aaaca is in  39702 genes\n",
      "aaacc is in  30117 genes\n",
      "aaacg is in  37426 genes\n",
      "aaact is in  25779 genes\n",
      "aaag is in  48615 genes\n",
      "aaaga is in  42587 genes\n",
      "aaagc is in  40115 genes\n",
      "aaagg is in  37473 genes\n",
      "aaagt is in  29927 genes\n",
      "aaat is in  48175 genes\n",
      "aaata is in  32397 genes\n",
      "aaatc is in  36961 genes\n",
      "aaatg is in  37784 genes\n",
      "aaatt is in  34290 genes\n",
      "aac is in  49415 genes\n",
      "aaca is in  46363 genes\n",
      "aacaa is in  35106 genes\n",
      "aacac is in  21186 genes\n",
      "aacag is in  34588 genes\n",
      "aacat is in  29218 genes\n",
      "aacc is in  40434 genes\n",
      "aacca is in  20162 genes\n",
      "aaccc is in  14167 genes\n",
      "aaccg is in  27823 genes\n",
      "aacct is in  19203 genes\n",
      "aacg is in  44338 genes\n",
      "aacga is in  29380 genes\n",
      "aacgc is in  24958 genes\n",
      "aacgg is in  32778 genes\n",
      "aacgt is in  20880 genes\n",
      "aact is in  39230 genes\n",
      "aacta is in  12679 genes\n",
      "aactc is in  14621 genes\n",
      "aactg is in  26584 genes\n",
      "aactt is in  20797 genes\n",
      "aag is in  49627 genes\n",
      "aaga is in  47570 genes\n",
      "aagaa is in  42067 genes\n",
      "aagac is in  29262 genes\n",
      "aagag is in  32990 genes\n",
      "aagat is in  31962 genes\n",
      "aagc is in  46911 genes\n",
      "aagca is in  35268 genes\n",
      "aagcc is in  30008 genes\n",
      "aagcg is in  34774 genes\n",
      "aagct is in  33697 genes\n",
      "aagg is in  45379 genes\n",
      "aagga is in  34746 genes\n",
      "aaggc is in  31368 genes\n",
      "aaggg is in  25357 genes\n",
      "aaggt is in  22557 genes\n",
      "aagt is in  42343 genes\n",
      "aagta is in  21112 genes\n",
      "aagtc is in  23036 genes\n",
      "aagtg is in  27161 genes\n",
      "aagtt is in  19924 genes\n",
      "aat is in  49667 genes\n",
      "aata is in  44400 genes\n",
      "aataa is in  25955 genes\n",
      "aatac is in  25807 genes\n",
      "aatag is in  12925 genes\n",
      "aatat is in  32441 genes\n",
      "aatc is in  45910 genes\n",
      "aatca is in  35444 genes\n",
      "aatcc is in  24612 genes\n",
      "aatcg is in  31603 genes\n",
      "aatct is in  23373 genes\n",
      "aatg is in  46181 genes\n",
      "aatga is in  35000 genes\n",
      "aatgc is in  26620 genes\n",
      "aatgg is in  32075 genes\n",
      "aatgt is in  24363 genes\n",
      "aatt is in  45840 genes\n",
      "aatta is in  27227 genes\n",
      "aattc is in  25598 genes\n",
      "aattg is in  31420 genes\n",
      "aattt is in  31549 genes\n",
      "aca is in  49335 genes\n",
      "acaa is in  45749 genes\n",
      "acaaa is in  37297 genes\n",
      "acaac is in  20792 genes\n",
      "acaag is in  27089 genes\n",
      "acaat is in  27696 genes\n",
      "acac is in  36165 genes\n",
      "acaca is in  19634 genes\n",
      "acacc is in  16116 genes\n",
      "acacg is in  16999 genes\n",
      "acact is in  15263 genes\n",
      "acag is in  44959 genes\n",
      "acaga is in  30552 genes\n",
      "acagc is in  32544 genes\n",
      "acagg is in  27544 genes\n",
      "acagt is in  20119 genes\n",
      "acat is in  43319 genes\n",
      "acata is in  19829 genes\n",
      "acatc is in  25050 genes\n",
      "acatg is in  22985 genes\n",
      "acatt is in  30484 genes\n",
      "acc is in  47893 genes\n",
      "acca is in  36453 genes\n",
      "accaa is in  18819 genes\n",
      "accac is in  9067 genes\n",
      "accag is in  15232 genes\n",
      "accat is in  21632 genes\n",
      "accc is in  28988 genes\n",
      "accca is in  9311 genes\n",
      "acccc is in  6402 genes\n",
      "acccg is in  16375 genes\n",
      "accct is in  12234 genes\n",
      "accg is in  40506 genes\n",
      "accga is in  20853 genes\n",
      "accgc is in  23305 genes\n",
      "accgg is in  24614 genes\n",
      "accgt is in  21077 genes\n",
      "acct is in  34519 genes\n",
      "accta is in  8718 genes\n",
      "acctc is in  11078 genes\n",
      "acctg is in  18293 genes\n",
      "acctt is in  20309 genes\n",
      "acg is in  48712 genes\n",
      "acga is in  42756 genes\n",
      "acgaa is in  30100 genes\n",
      "acgac is in  17436 genes\n",
      "acgag is in  17743 genes\n",
      "acgat is in  29520 genes\n",
      "acgc is in  38799 genes\n",
      "acgca is in  18890 genes\n",
      "acgcc is in  20719 genes\n",
      "acgcg is in  17305 genes\n",
      "acgct is in  24082 genes\n",
      "acgg is in  43069 genes\n",
      "acgga is in  30413 genes\n",
      "acggc is in  30398 genes\n",
      "acggg is in  22984 genes\n",
      "acggt is in  23585 genes\n",
      "acgt is in  36264 genes\n",
      "acgta is in  14965 genes\n",
      "acgtc is in  16541 genes\n",
      "acgtg is in  14624 genes\n",
      "acgtt is in  20108 genes\n",
      "act is in  48181 genes\n",
      "acta is in  27095 genes\n",
      "actaa is in  8198 genes\n",
      "actac is in  9938 genes\n",
      "actag is in  4286 genes\n",
      "actat is in  17041 genes\n",
      "actc is in  31297 genes\n",
      "actca is in  15118 genes\n",
      "actcc is in  10060 genes\n",
      "actcg is in  13915 genes\n",
      "actct is in  10705 genes\n",
      "actg is in  40686 genes\n",
      "actga is in  24605 genes\n",
      "actgc is in  19858 genes\n",
      "actgg is in  20432 genes\n",
      "actgt is in  17305 genes\n",
      "actt is in  39304 genes\n",
      "actta is in  15610 genes\n",
      "acttc is in  17362 genes\n",
      "acttg is in  20633 genes\n",
      "acttt is in  23327 genes\n",
      "aga is in  49394 genes\n",
      "agaa is in  47727 genes\n",
      "agaaa is in  41841 genes\n",
      "agaac is in  26474 genes\n",
      "agaag is in  36016 genes\n",
      "agaat is in  28832 genes\n",
      "agac is in  41089 genes\n",
      "agaca is in  26463 genes\n",
      "agacc is in  17276 genes\n",
      "agacg is in  26321 genes\n",
      "agact is in  15803 genes\n",
      "agag is in  41917 genes\n",
      "agaga is in  25916 genes\n",
      "agagc is in  26533 genes\n",
      "agagg is in  24482 genes\n",
      "agagt is in  15095 genes\n",
      "agat is in  43734 genes\n",
      "agata is in  22032 genes\n",
      "agatc is in  23801 genes\n",
      "agatg is in  28560 genes\n",
      "agatt is in  27243 genes\n",
      "agc is in  49353 genes\n",
      "agca is in  45174 genes\n",
      "agcaa is in  31258 genes\n",
      "agcac is in  19402 genes\n",
      "agcag is in  31638 genes\n",
      "agcat is in  29930 genes\n",
      "agcc is in  41522 genes\n",
      "agcca is in  22312 genes\n",
      "agccc is in  13727 genes\n",
      "agccg is in  30523 genes\n",
      "agcct is in  22578 genes\n",
      "agcg is in  43058 genes\n",
      "agcga is in  26494 genes\n",
      "agcgc is in  24863 genes\n",
      "agcgg is in  31912 genes\n",
      "agcgt is in  20081 genes\n",
      "agct is in  45043 genes\n",
      "agcta is in  15597 genes\n",
      "agctc is in  21341 genes\n",
      "agctg is in  35142 genes\n",
      "agctt is in  33431 genes\n",
      "agg is in  49106 genes\n",
      "agga is in  44877 genes\n",
      "aggaa is in  35597 genes\n",
      "aggac is in  19341 genes\n",
      "aggag is in  24814 genes\n",
      "aggat is in  27415 genes\n",
      "aggc is in  42488 genes\n",
      "aggca is in  25851 genes\n",
      "aggcc is in  17687 genes\n",
      "aggcg is in  29399 genes\n",
      "aggct is in  24481 genes\n",
      "aggg is in  37396 genes\n",
      "aggga is in  22818 genes\n",
      "agggc is in  18554 genes\n",
      "agggg is in  17434 genes\n",
      "agggt is in  12216 genes\n",
      "aggt is in  36922 genes\n",
      "aggta is in  13207 genes\n",
      "aggtc is in  14416 genes\n",
      "aggtg is in  21043 genes\n",
      "aggtt is in  18314 genes\n",
      "agt is in  48275 genes\n",
      "agta is in  34004 genes\n",
      "agtaa is in  15420 genes\n",
      "agtac is in  11735 genes\n",
      "agtag is in  8659 genes\n",
      "agtat is in  20540 genes\n",
      "agtc is in  36147 genes\n",
      "agtca is in  21181 genes\n",
      "agtcc is in  10917 genes\n",
      "agtcg is in  17994 genes\n",
      "agtct is in  13800 genes\n",
      "agtg is in  38001 genes\n",
      "agtga is in  23512 genes\n",
      "agtgc is in  16483 genes\n",
      "agtgg is in  17054 genes\n",
      "agtgt is in  13469 genes\n",
      "agtt is in  36322 genes\n",
      "agtta is in  11490 genes\n",
      "agttc is in  14862 genes\n",
      "agttg is in  14493 genes\n",
      "agttt is in  22398 genes\n",
      "ata is in  49331 genes\n",
      "ataa is in  43561 genes\n",
      "ataaa is in  32832 genes\n",
      "ataac is in  16392 genes\n",
      "ataag is in  16876 genes\n",
      "ataat is in  15307 genes\n",
      "atac is in  41969 genes\n",
      "ataca is in  27658 genes\n",
      "atacc is in  17743 genes\n",
      "atacg is in  26575 genes\n",
      "atact is in  15241 genes\n",
      "atag is in  27238 genes\n",
      "ataga is in  16099 genes\n",
      "atagc is in  9305 genes\n",
      "atagg is in  7195 genes\n",
      "atagt is in  4904 genes\n",
      "atat is in  45574 genes\n",
      "atata is in  22425 genes\n",
      "atatc is in  30280 genes\n",
      "atatg is in  31568 genes\n",
      "atatt is in  33819 genes\n",
      "atc is in  49487 genes\n",
      "atca is in  47288 genes\n",
      "atcaa is in  36887 genes\n",
      "atcac is in  24802 genes\n",
      "atcag is in  34419 genes\n",
      "atcat is in  35099 genes\n",
      "atcc is in  41601 genes\n",
      "atcca is in  21618 genes\n",
      "atccc is in  17106 genes\n",
      "atccg is in  28943 genes\n",
      "atcct is in  22293 genes\n",
      "atcg is in  44298 genes\n",
      "atcga is in  27254 genes\n",
      "atcgc is in  26999 genes\n",
      "atcgg is in  31695 genes\n",
      "atcgt is in  26049 genes\n",
      "atct is in  42144 genes\n",
      "atcta is in  15200 genes\n",
      "atctc is in  20563 genes\n",
      "atctg is in  26236 genes\n",
      "atctt is in  27259 genes\n",
      "atg is in  49763 genes\n",
      "atga is in  48255 genes\n",
      "atgaa is in  42361 genes\n",
      "atgac is in  29574 genes\n",
      "atgag is in  27414 genes\n",
      "atgat is in  36184 genes\n",
      "atgc is in  43907 genes\n",
      "atgca is in  25677 genes\n",
      "atgcc is in  25211 genes\n",
      "atgcg is in  24180 genes\n",
      "atgct is in  28734 genes\n",
      "atgg is in  45385 genes\n",
      "atgga is in  33817 genes\n",
      "atggc is in  28527 genes\n",
      "atggg is in  25364 genes\n",
      "atggt is in  22700 genes\n",
      "atgt is in  43574 genes\n",
      "atgta is in  22456 genes\n",
      "atgtc is in  26291 genes\n",
      "atgtg is in  23596 genes\n",
      "atgtt is in  25828 genes\n",
      "att is in  49621 genes\n",
      "atta is in  45629 genes\n",
      "attaa is in  32379 genes\n",
      "attac is in  28257 genes\n",
      "attag is in  14563 genes\n",
      "attat is in  34589 genes\n",
      "attc is in  44814 genes\n",
      "attca is in  33345 genes\n",
      "attcc is in  26589 genes\n",
      "attcg is in  23741 genes\n",
      "attct is in  26095 genes\n",
      "attg is in  46301 genes\n",
      "attga is in  36921 genes\n",
      "attgc is in  29714 genes\n",
      "attgg is in  26191 genes\n",
      "attgt is in  26733 genes\n",
      "attt is in  47460 genes\n"
     ]
    },
    {
     "name": "stdout",
     "output_type": "stream",
     "text": [
      "attta is in  34044 genes\n",
      "atttc is in  31823 genes\n",
      "atttg is in  33617 genes\n",
      "atttt is in  38453 genes\n",
      "caa is in  49551 genes\n",
      "caaa is in  48026 genes\n",
      "caaaa is in  42346 genes\n",
      "caaac is in  30517 genes\n",
      "caaag is in  33813 genes\n",
      "caaat is in  32309 genes\n",
      "caac is in  37141 genes\n",
      "caaca is in  22458 genes\n",
      "caacc is in  16458 genes\n",
      "caacg is in  18190 genes\n",
      "caact is in  14309 genes\n",
      "caag is in  43375 genes\n",
      "caaga is in  27191 genes\n",
      "caagc is in  28896 genes\n",
      "caagg is in  23047 genes\n",
      "caagt is in  19316 genes\n",
      "caat is in  44490 genes\n",
      "caata is in  24495 genes\n",
      "caatc is in  27546 genes\n",
      "caatg is in  27161 genes\n",
      "caatt is in  28157 genes\n",
      "cac is in  47452 genes\n",
      "caca is in  38480 genes\n",
      "cacaa is in  22681 genes\n",
      "cacac is in  13381 genes\n",
      "cacag is in  21541 genes\n",
      "cacat is in  19442 genes\n",
      "cacc is in  33575 genes\n",
      "cacca is in  14675 genes\n",
      "caccc is in  10868 genes\n",
      "caccg is in  19041 genes\n",
      "cacct is in  13756 genes\n",
      "cacg is in  34764 genes\n",
      "cacga is in  17784 genes\n",
      "cacgc is in  15615 genes\n",
      "cacgg is in  18534 genes\n",
      "cacgt is in  12336 genes\n",
      "cact is in  34020 genes\n",
      "cacta is in  8239 genes\n",
      "cactc is in  12639 genes\n",
      "cactg is in  17680 genes\n",
      "cactt is in  18656 genes\n",
      "cag is in  49199 genes\n",
      "caga is in  44678 genes\n",
      "cagaa is in  33891 genes\n",
      "cagac is in  24337 genes\n",
      "cagag is in  23284 genes\n",
      "cagat is in  27323 genes\n",
      "cagc is in  45031 genes\n",
      "cagca is in  32789 genes\n",
      "cagcc is in  27479 genes\n",
      "cagcg is in  27299 genes\n",
      "cagct is in  32492 genes\n",
      "cagg is in  42623 genes\n",
      "cagga is in  29592 genes\n",
      "caggc is in  28831 genes\n",
      "caggg is in  19847 genes\n",
      "caggt is in  19785 genes\n",
      "cagt is in  38303 genes\n",
      "cagta is in  15789 genes\n",
      "cagtc is in  19506 genes\n",
      "cagtg is in  17622 genes\n",
      "cagtt is in  20476 genes\n",
      "cat is in  49301 genes\n",
      "cata is in  39704 genes\n",
      "cataa is in  19600 genes\n",
      "catac is in  20551 genes\n",
      "catag is in  8327 genes\n",
      "catat is in  26877 genes\n",
      "catc is in  43127 genes\n",
      "catca is in  31973 genes\n",
      "catcc is in  23418 genes\n",
      "catcg is in  26459 genes\n",
      "catct is in  22689 genes\n",
      "catg is in  42318 genes\n",
      "catga is in  29616 genes\n",
      "catgc is in  22996 genes\n",
      "catgg is in  23110 genes\n",
      "catgt is in  20304 genes\n",
      "catt is in  46021 genes\n",
      "catta is in  30309 genes\n",
      "cattc is in  29053 genes\n",
      "cattg is in  30542 genes\n",
      "cattt is in  34666 genes\n",
      "cca is in  47843 genes\n",
      "ccaa is in  39555 genes\n",
      "ccaaa is in  27590 genes\n",
      "ccaac is in  10920 genes\n",
      "ccaag is in  18144 genes\n",
      "ccaat is in  20220 genes\n",
      "ccac is in  24861 genes\n",
      "ccaca is in  11255 genes\n",
      "ccacc is in  7989 genes\n",
      "ccacg is in  9224 genes\n",
      "ccact is in  7776 genes\n",
      "ccag is in  34510 genes\n",
      "ccaga is in  16885 genes\n",
      "ccagc is in  19374 genes\n",
      "ccagg is in  13327 genes\n",
      "ccagt is in  10693 genes\n",
      "ccat is in  40104 genes\n",
      "ccata is in  15634 genes\n",
      "ccatc is in  21849 genes\n",
      "ccatg is in  19268 genes\n",
      "ccatt is in  27051 genes\n",
      "ccc is in  43452 genes\n",
      "ccca is in  26384 genes\n",
      "cccaa is in  11383 genes\n",
      "cccac is in  5638 genes\n",
      "cccag is in  8932 genes\n",
      "cccat is in  12508 genes\n",
      "cccc is in  17723 genes\n",
      "cccca is in  5494 genes\n",
      "ccccc is in  3207 genes\n",
      "ccccg is in  10077 genes\n",
      "cccct is in  6587 genes\n",
      "cccg is in  34460 genes\n",
      "cccga is in  17071 genes\n",
      "cccgc is in  17269 genes\n",
      "cccgg is in  18079 genes\n",
      "cccgt is in  14276 genes\n",
      "ccct is in  29407 genes\n",
      "cccta is in  5690 genes\n",
      "ccctc is in  9029 genes\n",
      "ccctg is in  14854 genes\n",
      "ccctt is in  15236 genes\n",
      "ccg is in  47817 genes\n",
      "ccga is in  40510 genes\n",
      "ccgaa is in  28030 genes\n",
      "ccgac is in  17537 genes\n",
      "ccgag is in  15491 genes\n",
      "ccgat is in  27502 genes\n",
      "ccgc is in  40031 genes\n",
      "ccgca is in  25696 genes\n",
      "ccgcc is in  21335 genes\n",
      "ccgcg is in  20009 genes\n",
      "ccgct is in  27550 genes\n",
      "ccgg is in  41087 genes\n",
      "ccgga is in  29805 genes\n",
      "ccggc is in  27293 genes\n",
      "ccggg is in  21560 genes\n",
      "ccggt is in  22030 genes\n",
      "ccgt is in  38921 genes\n",
      "ccgta is in  16481 genes\n",
      "ccgtc is in  22075 genes\n",
      "ccgtg is in  16772 genes\n",
      "ccgtt is in  26972 genes\n",
      "cct is in  47573 genes\n",
      "ccta is in  26053 genes\n",
      "cctaa is in  9323 genes\n",
      "cctac is in  8129 genes\n",
      "cctag is in  3023 genes\n",
      "cctat is in  16164 genes\n",
      "cctc is in  30724 genes\n",
      "cctca is in  15846 genes\n",
      "cctcc is in  9704 genes\n",
      "cctcg is in  12365 genes\n",
      "cctct is in  12600 genes\n",
      "cctg is in  39359 genes\n",
      "cctga is in  26739 genes\n",
      "cctgc is in  20834 genes\n",
      "cctgg is in  13213 genes\n",
      "cctgt is in  19531 genes\n",
      "cctt is in  40094 genes\n",
      "cctta is in  16266 genes\n",
      "ccttc is in  19769 genes\n",
      "ccttg is in  21061 genes\n",
      "ccttt is in  25328 genes\n",
      "cga is in  48650 genes\n",
      "cgaa is in  44672 genes\n",
      "cgaaa is in  35545 genes\n",
      "cgaac is in  21027 genes\n",
      "cgaag is in  28214 genes\n",
      "cgaat is in  24989 genes\n",
      "cgac is in  34927 genes\n",
      "cgaca is in  21978 genes\n",
      "cgacc is in  14030 genes\n",
      "cgacg is in  17389 genes\n",
      "cgact is in  13467 genes\n",
      "cgag is in  34953 genes\n",
      "cgaga is in  18120 genes\n",
      "cgagc is in  19102 genes\n",
      "cgagg is in  14542 genes\n",
      "cgagt is in  10852 genes\n",
      "cgat is in  43768 genes\n",
      "cgata is in  21988 genes\n",
      "cgatc is in  27090 genes\n",
      "cgatg is in  28147 genes\n",
      "cgatt is in  32073 genes\n",
      "cgc is in  47593 genes\n",
      "cgca is in  40159 genes\n",
      "cgcaa is in  25605 genes\n",
      "cgcac is in  15515 genes\n",
      "cgcag is in  23308 genes\n",
      "cgcat is in  21972 genes\n",
      "cgcc is in  38095 genes\n",
      "cgcca is in  22247 genes\n",
      "cgccc is in  14199 genes\n",
      "cgccg is in  26015 genes\n",
      "cgcct is in  20018 genes\n",
      "cgcg is in  35449 genes\n",
      "cgcga is in  19038 genes\n",
      "cgcgc is in  17710 genes\n",
      "cgcgg is in  21907 genes\n",
      "cgcgt is in  14864 genes\n",
      "cgct is in  41870 genes\n",
      "cgcta is in  14637 genes\n",
      "cgctc is in  21844 genes\n",
      "cgctg is in  29355 genes\n",
      "cgctt is in  30946 genes\n",
      "cgg is in  48571 genes\n",
      "cgga is in  44669 genes\n",
      "cggaa is in  36347 genes\n",
      "cggac is in  24812 genes\n",
      "cggag is in  28549 genes\n",
      "cggat is in  29769 genes\n",
      "cggc is in  42912 genes\n",
      "cggca is in  33155 genes\n",
      "cggcc is in  24828 genes\n",
      "cggcg is in  30589 genes\n",
      "cggct is in  29871 genes\n",
      "cggg is in  39228 genes\n",
      "cggga is in  27573 genes\n",
      "cgggc is in  23675 genes\n",
      "cgggg is in  20584 genes\n",
      "cgggt is in  17585 genes\n",
      "cggt is in  40688 genes\n",
      "cggta is in  19219 genes\n",
      "cggtc is in  20797 genes\n",
      "cggtg is in  24339 genes\n",
      "cggtt is in  27486 genes\n",
      "cgt is in  47912 genes\n",
      "cgta is in  34838 genes\n",
      "cgtaa is in  14824 genes\n",
      "cgtac is in  14447 genes\n",
      "cgtag is in  6932 genes\n",
      "cgtat is in  22664 genes\n",
      "cgtc is in  37428 genes\n",
      "cgtca is in  26025 genes\n",
      "cgtcc is in  15839 genes\n",
      "cgtcg is in  16685 genes\n",
      "cgtct is in  19261 genes\n",
      "cgtg is in  35094 genes\n",
      "cgtga is in  21056 genes\n",
      "cgtgc is in  16833 genes\n",
      "cgtgg is in  12078 genes\n",
      "cgtgt is in  14603 genes\n",
      "cgtt is in  41930 genes\n",
      "cgtta is in  19232 genes\n",
      "cgttc is in  22705 genes\n",
      "cgttg is in  17965 genes\n",
      "cgttt is in  30804 genes\n",
      "cta is in  46310 genes\n",
      "ctaa is in  28602 genes\n",
      "ctaaa is in  18113 genes\n",
      "ctaac is in  6541 genes\n",
      "ctaag is in  7829 genes\n",
      "ctaat is in  8209 genes\n",
      "ctac is in  27916 genes\n",
      "ctaca is in  14383 genes\n",
      "ctacc is in  8402 genes\n",
      "ctacg is in  10999 genes\n",
      "ctact is in  9413 genes\n",
      "ctag is in  13807 genes\n",
      "ctaga is in  5727 genes\n",
      "ctagc is in  3646 genes\n",
      "ctagg is in  3384 genes\n",
      "ctagt is in  3603 genes\n",
      "ctat is in  39456 genes\n",
      "ctata is in  17506 genes\n",
      "ctatc is in  18670 genes\n",
      "ctatg is in  20533 genes\n",
      "ctatt is in  22664 genes\n",
      "ctc is in  47322 genes\n",
      "ctca is in  39512 genes\n",
      "ctcaa is in  22501 genes\n",
      "ctcac is in  13536 genes\n",
      "ctcag is in  19973 genes\n",
      "ctcat is in  22035 genes\n",
      "ctcc is in  32198 genes\n",
      "ctcca is in  13873 genes\n",
      "ctccc is in  10364 genes\n",
      "ctccg is in  16551 genes\n",
      "ctcct is in  13934 genes\n",
      "ctcg is in  35759 genes\n",
      "ctcga is in  15748 genes\n",
      "ctcgc is in  15624 genes\n",
      "ctcgg is in  21403 genes\n",
      "ctcgt is in  16041 genes\n",
      "ctct is in  34255 genes\n",
      "ctcta is in  10418 genes\n",
      "ctctc is in  13645 genes\n",
      "ctctg is in  15377 genes\n",
      "ctctt is in  21223 genes\n",
      "ctg is in  49172 genes\n",
      "ctga is in  45696 genes\n",
      "ctgaa is in  36086 genes\n",
      "ctgac is in  26426 genes\n",
      "ctgag is in  19848 genes\n",
      "ctgat is in  33324 genes\n",
      "ctgc is in  42104 genes\n",
      "ctgca is in  25825 genes\n",
      "ctgcc is in  23536 genes\n",
      "ctgcg is in  19648 genes\n",
      "ctgct is in  28416 genes\n",
      "ctgg is in  40675 genes\n",
      "ctgga is in  27293 genes\n",
      "ctggc is in  23357 genes\n",
      "ctggg is in  17166 genes\n",
      "ctggt is in  16449 genes\n",
      "ctgt is in  41475 genes\n",
      "ctgta is in  19453 genes\n",
      "ctgtc is in  24525 genes\n",
      "ctgtg is in  16111 genes\n",
      "ctgtt is in  28898 genes\n",
      "ctt is in  49308 genes\n",
      "ctta is in  39456 genes\n",
      "cttaa is in  21042 genes\n",
      "cttac is in  17148 genes\n",
      "cttag is in  10029 genes\n",
      "cttat is in  26045 genes\n",
      "cttc is in  41716 genes\n",
      "cttca is in  28826 genes\n",
      "cttcc is in  22098 genes\n",
      "cttcg is in  18005 genes\n",
      "cttct is in  24330 genes\n",
      "cttg is in  43701 genes\n",
      "cttga is in  31801 genes\n",
      "cttgc is in  24911 genes\n"
     ]
    },
    {
     "name": "stdout",
     "output_type": "stream",
     "text": [
      "cttgg is in  21826 genes\n",
      "cttgt is in  23916 genes\n",
      "cttt is in  45208 genes\n",
      "cttta is in  29410 genes\n",
      "ctttc is in  26611 genes\n",
      "ctttg is in  26238 genes\n",
      "ctttt is in  32961 genes\n",
      "gaa is in  49713 genes\n",
      "gaaa is in  49023 genes\n",
      "gaaaa is in  45788 genes\n",
      "gaaac is in  35197 genes\n",
      "gaaag is in  37509 genes\n",
      "gaaat is in  38462 genes\n",
      "gaac is in  44297 genes\n",
      "gaaca is in  33009 genes\n",
      "gaacc is in  20694 genes\n",
      "gaacg is in  27629 genes\n",
      "gaact is in  24104 genes\n",
      "gaag is in  47117 genes\n",
      "gaaga is in  39182 genes\n",
      "gaagc is in  36629 genes\n",
      "gaagg is in  32999 genes\n",
      "gaagt is in  28105 genes\n",
      "gaat is in  46390 genes\n",
      "gaata is in  28070 genes\n",
      "gaatc is in  29725 genes\n",
      "gaatg is in  30131 genes\n",
      "gaatt is in  33663 genes\n",
      "gac is in  48694 genes\n",
      "gaca is in  43827 genes\n",
      "gacaa is in  30224 genes\n",
      "gacac is in  17208 genes\n",
      "gacag is in  28846 genes\n",
      "gacat is in  27390 genes\n",
      "gacc is in  36112 genes\n",
      "gacca is in  17843 genes\n",
      "gaccc is in  11378 genes\n",
      "gaccg is in  22103 genes\n",
      "gacct is in  15064 genes\n",
      "gacg is in  41608 genes\n",
      "gacga is in  26974 genes\n",
      "gacgc is in  21753 genes\n",
      "gacgg is in  29358 genes\n",
      "gacgt is in  18169 genes\n",
      "gact is in  36388 genes\n",
      "gacta is in  11183 genes\n",
      "gactc is in  11779 genes\n",
      "gactg is in  20614 genes\n",
      "gactt is in  20691 genes\n",
      "gag is in  48862 genes\n",
      "gaga is in  42864 genes\n",
      "gagaa is in  33124 genes\n",
      "gagac is in  19456 genes\n",
      "gagag is in  18919 genes\n",
      "gagat is in  24952 genes\n",
      "gagc is in  42941 genes\n",
      "gagca is in  27232 genes\n",
      "gagcc is in  19915 genes\n",
      "gagcg is in  24208 genes\n",
      "gagct is in  28904 genes\n",
      "gagg is in  40279 genes\n",
      "gagga is in  28454 genes\n",
      "gaggc is in  21143 genes\n",
      "gaggg is in  15880 genes\n",
      "gaggt is in  16141 genes\n",
      "gagt is in  34088 genes\n",
      "gagta is in  13427 genes\n",
      "gagtc is in  12849 genes\n",
      "gagtg is in  14745 genes\n",
      "gagtt is in  16435 genes\n",
      "gat is in  49549 genes\n",
      "gata is in  43132 genes\n",
      "gataa is in  25866 genes\n",
      "gatac is in  22517 genes\n",
      "gatag is in  10122 genes\n",
      "gatat is in  32314 genes\n",
      "gatc is in  44305 genes\n",
      "gatca is in  34133 genes\n",
      "gatcc is in  21916 genes\n",
      "gatcg is in  28012 genes\n",
      "gatct is in  24101 genes\n",
      "gatg is in  45662 genes\n",
      "gatga is in  37570 genes\n",
      "gatgc is in  28124 genes\n",
      "gatgg is in  26230 genes\n",
      "gatgt is in  27639 genes\n",
      "gatt is in  46645 genes\n",
      "gatta is in  30446 genes\n",
      "gattc is in  28742 genes\n",
      "gattg is in  31759 genes\n",
      "gattt is in  36576 genes\n",
      "gca is in  49331 genes\n",
      "gcaa is in  45323 genes\n",
      "gcaaa is in  37530 genes\n",
      "gcaac is in  17284 genes\n",
      "gcaag is in  25682 genes\n",
      "gcaat is in  26642 genes\n",
      "gcac is in  37024 genes\n",
      "gcaca is in  21309 genes\n",
      "gcacc is in  14697 genes\n",
      "gcacg is in  17965 genes\n",
      "gcact is in  16168 genes\n",
      "gcag is in  44645 genes\n",
      "gcaga is in  30591 genes\n",
      "gcagc is in  31151 genes\n",
      "gcagg is in  28560 genes\n",
      "gcagt is in  20956 genes\n",
      "gcat is in  43589 genes\n",
      "gcata is in  20690 genes\n",
      "gcatc is in  26650 genes\n",
      "gcatg is in  25127 genes\n",
      "gcatt is in  31533 genes\n",
      "gcc is in  47990 genes\n",
      "gcca is in  40325 genes\n",
      "gccaa is in  25812 genes\n",
      "gccac is in  11376 genes\n",
      "gccag is in  19253 genes\n",
      "gccat is in  26570 genes\n",
      "gccc is in  31306 genes\n",
      "gccca is in  12847 genes\n",
      "gcccc is in  7649 genes\n",
      "gcccg is in  18050 genes\n",
      "gccct is in  13414 genes\n",
      "gccg is in  42538 genes\n",
      "gccga is in  28606 genes\n",
      "gccgc is in  27716 genes\n",
      "gccgg is in  30723 genes\n",
      "gccgt is in  25945 genes\n",
      "gcct is in  38535 genes\n",
      "gccta is in  12259 genes\n",
      "gcctc is in  15462 genes\n",
      "gcctg is in  24929 genes\n",
      "gcctt is in  24218 genes\n",
      "gcg is in  48237 genes\n",
      "gcga is in  41529 genes\n",
      "gcgaa is in  29052 genes\n",
      "gcgac is in  17483 genes\n",
      "gcgag is in  16651 genes\n",
      "gcgat is in  28966 genes\n",
      "gcgc is in  39025 genes\n",
      "gcgca is in  21679 genes\n",
      "gcgcc is in  21320 genes\n",
      "gcgcg is in  18773 genes\n",
      "gcgct is in  27620 genes\n",
      "gcgg is in  43224 genes\n",
      "gcgga is in  32938 genes\n",
      "gcggc is in  30607 genes\n",
      "gcggg is in  25529 genes\n",
      "gcggt is in  25165 genes\n",
      "gcgt is in  37484 genes\n",
      "gcgta is in  15145 genes\n",
      "gcgtc is in  18769 genes\n",
      "gcgtg is in  17003 genes\n",
      "gcgtt is in  23201 genes\n",
      "gct is in  49291 genes\n",
      "gcta is in  34823 genes\n",
      "gctaa is in  14118 genes\n",
      "gctac is in  13938 genes\n",
      "gctag is in  5147 genes\n",
      "gctat is in  23374 genes\n",
      "gctc is in  39671 genes\n",
      "gctca is in  24684 genes\n",
      "gctcc is in  17172 genes\n",
      "gctcg is in  22759 genes\n",
      "gctct is in  19791 genes\n",
      "gctg is in  46166 genes\n",
      "gctga is in  38381 genes\n",
      "gctgc is in  31173 genes\n",
      "gctgg is in  29472 genes\n"
     ]
    },
    {
     "ename": "KeyboardInterrupt",
     "evalue": "",
     "output_type": "error",
     "traceback": [
      "\u001b[0;31m---------------------------------------------------------------------------\u001b[0m",
      "\u001b[0;31mKeyboardInterrupt\u001b[0m                         Traceback (most recent call last)",
      "\u001b[0;32m<ipython-input-31-a7ff388130aa>\u001b[0m in \u001b[0;36m<module>\u001b[0;34m\u001b[0m\n\u001b[1;32m      2\u001b[0m                                        count_vectorizer_3_5gram.get_feature_names()):\n\u001b[1;32m      3\u001b[0m     print(f'{feature_name} is in ',\n\u001b[0;32m----> 4\u001b[0;31m           f'{np.count_nonzero(all_genes_bow_3_5gram.toarray()[:, feature_num])} genes')\n\u001b[0m",
      "\u001b[0;32m~/anaconda3/envs/pyubcg/lib/python3.7/site-packages/scipy/sparse/compressed.py\u001b[0m in \u001b[0;36mtoarray\u001b[0;34m(self, order, out)\u001b[0m\n\u001b[1;32m    971\u001b[0m             \u001b[0my\u001b[0m \u001b[0;34m=\u001b[0m \u001b[0mout\u001b[0m\u001b[0;34m.\u001b[0m\u001b[0mT\u001b[0m\u001b[0;34m\u001b[0m\u001b[0;34m\u001b[0m\u001b[0m\n\u001b[1;32m    972\u001b[0m         \u001b[0mM\u001b[0m\u001b[0;34m,\u001b[0m \u001b[0mN\u001b[0m \u001b[0;34m=\u001b[0m \u001b[0mx\u001b[0m\u001b[0;34m.\u001b[0m\u001b[0m_swap\u001b[0m\u001b[0;34m(\u001b[0m\u001b[0mx\u001b[0m\u001b[0;34m.\u001b[0m\u001b[0mshape\u001b[0m\u001b[0;34m)\u001b[0m\u001b[0;34m\u001b[0m\u001b[0;34m\u001b[0m\u001b[0m\n\u001b[0;32m--> 973\u001b[0;31m         \u001b[0m_sparsetools\u001b[0m\u001b[0;34m.\u001b[0m\u001b[0mcsr_todense\u001b[0m\u001b[0;34m(\u001b[0m\u001b[0mM\u001b[0m\u001b[0;34m,\u001b[0m \u001b[0mN\u001b[0m\u001b[0;34m,\u001b[0m \u001b[0mx\u001b[0m\u001b[0;34m.\u001b[0m\u001b[0mindptr\u001b[0m\u001b[0;34m,\u001b[0m \u001b[0mx\u001b[0m\u001b[0;34m.\u001b[0m\u001b[0mindices\u001b[0m\u001b[0;34m,\u001b[0m \u001b[0mx\u001b[0m\u001b[0;34m.\u001b[0m\u001b[0mdata\u001b[0m\u001b[0;34m,\u001b[0m \u001b[0my\u001b[0m\u001b[0;34m)\u001b[0m\u001b[0;34m\u001b[0m\u001b[0;34m\u001b[0m\u001b[0m\n\u001b[0m\u001b[1;32m    974\u001b[0m         \u001b[0;32mreturn\u001b[0m \u001b[0mout\u001b[0m\u001b[0;34m\u001b[0m\u001b[0;34m\u001b[0m\u001b[0m\n\u001b[1;32m    975\u001b[0m \u001b[0;34m\u001b[0m\u001b[0m\n",
      "\u001b[0;31mKeyboardInterrupt\u001b[0m: "
     ]
    }
   ],
   "source": [
    "# very long!\n",
    "#for (feature_num, feature_name) in zip(range(all_genes_bow_3_5gram.shape[1]),\n",
    "#                                       count_vectorizer_3_5gram.get_feature_names()):\n",
    "#    print(f'{feature_name} is in ',\n",
    "#          f'{np.count_nonzero(all_genes_bow_3_5gram.toarray()[:, feature_num])} genes')"
   ]
  },
  {
   "cell_type": "code",
   "execution_count": 55,
   "metadata": {},
   "outputs": [
    {
     "name": "stdout",
     "output_type": "stream",
     "text": [
      "[]\n"
     ]
    }
   ],
   "source": [
    "features_appered_once = []\n",
    "\n",
    "for (feature_num, feature_name) in zip(range(all_genes_bow_3_5gram.shape[1]),\n",
    "                                       count_vectorizer_3_5gram.get_feature_names()):\n",
    "    if(np.count_nonzero(all_genes_bow_3_5gram_array[:, feature_num]) == 1):\n",
    "        features_appered_once.append(feature_name)\n",
    "        \n",
    "print(features_appered_once)"
   ]
  },
  {
   "cell_type": "code",
   "execution_count": null,
   "metadata": {},
   "outputs": [],
   "source": []
  },
  {
   "cell_type": "code",
   "execution_count": null,
   "metadata": {},
   "outputs": [],
   "source": []
  },
  {
   "cell_type": "markdown",
   "metadata": {},
   "source": [
    "### Output tuples"
   ]
  },
  {
   "cell_type": "code",
   "execution_count": null,
   "metadata": {},
   "outputs": [],
   "source": [
    "type(all_genes_tfidf_3_5gram.toarray()[0])"
   ]
  },
  {
   "cell_type": "code",
   "execution_count": null,
   "metadata": {},
   "outputs": [],
   "source": [
    "organisms = [SeqIO.parse(gene_nuc_file, 'fasta') for gene_nuc_file in full_path_gene_nuc]\n",
    "tmp_list_of_tuples = []\n",
    "\n",
    "for (id_org, organism), org_name in zip(enumerate(organisms), organisms_names):\n",
    "    for gene_record in organism:\n",
    "        tmp_list_of_tuples.append((id_org, org_name, gene_record.id))"
   ]
  },
  {
   "cell_type": "code",
   "execution_count": null,
   "metadata": {},
   "outputs": [],
   "source": [
    "tmp_list_of_tuples[0]"
   ]
  },
  {
   "cell_type": "code",
   "execution_count": null,
   "metadata": {},
   "outputs": [],
   "source": [
    "tmp_list_of_tuples[-1]"
   ]
  },
  {
   "cell_type": "code",
   "execution_count": null,
   "metadata": {},
   "outputs": [],
   "source": [
    "lst_org_gene_tfidf = []\n",
    "\n",
    "for (org_gene, gene_tfidf) in zip(tmp_list_of_tuples, all_genes_tfidf_3_5gram.toarray()):\n",
    "    lst_org_gene_tfidf.append((org_gene[0], org_gene[1], org_gene[2], gene_tfidf))"
   ]
  },
  {
   "cell_type": "code",
   "execution_count": null,
   "metadata": {},
   "outputs": [],
   "source": [
    "lst_org_gene_tfidf[:3]"
   ]
  },
  {
   "cell_type": "code",
   "execution_count": null,
   "metadata": {},
   "outputs": [],
   "source": [
    "lst_org_gene_tfidf[-1]"
   ]
  },
  {
   "cell_type": "code",
   "execution_count": null,
   "metadata": {},
   "outputs": [],
   "source": [
    "lst_org_gene_bow = []\n",
    "\n",
    "for (org_gene, gene_bow) in zip(tmp_list_of_tuples, all_genes_bow_3_5gram.toarray()):\n",
    "    lst_org_gene_bow.append((org_gene[0], org_gene[1], org_gene[2], gene_bow))"
   ]
  },
  {
   "cell_type": "code",
   "execution_count": null,
   "metadata": {},
   "outputs": [],
   "source": [
    "lst_org_gene_bow[:3]"
   ]
  },
  {
   "cell_type": "code",
   "execution_count": null,
   "metadata": {},
   "outputs": [],
   "source": [
    "lst_org_gene_bow[-1]"
   ]
  },
  {
   "cell_type": "markdown",
   "metadata": {},
   "source": [
    "#### Explore ngrams in vectorizer"
   ]
  },
  {
   "cell_type": "code",
   "execution_count": null,
   "metadata": {},
   "outputs": [],
   "source": [
    "names_tfidf_3_5grams = tfidf_vectorizer_3_5gram.get_feature_names()\n",
    "names_bow_3_5grams = count_vectorizer_3_5gram.get_feature_names()"
   ]
  },
  {
   "cell_type": "code",
   "execution_count": null,
   "metadata": {},
   "outputs": [],
   "source": [
    "gene_num = 15\n",
    "\n",
    "print(f'ngram tfidf values for gene number {gene_num}:\\n')\n",
    "for (ngram, tfidf_value) in zip(names_tfidf_3_5grams, lst_org_gene_tfidf[gene_num][3]):\n",
    "    print(f'{ngram}\\t{tfidf_value}')"
   ]
  },
  {
   "cell_type": "code",
   "execution_count": null,
   "metadata": {},
   "outputs": [],
   "source": [
    "print(f'ngram bow values for gene number {gene_num}:\\n')\n",
    "for (ngram, bow_value) in zip(names_bow_3_5grams, lst_org_gene_bow[gene_num][3]):\n",
    "    print(f'{ngram}\\t{bow_value}')"
   ]
  },
  {
   "cell_type": "markdown",
   "metadata": {},
   "source": [
    "### Find ngrams, that are only in one gene / in one organism"
   ]
  },
  {
   "cell_type": "code",
   "execution_count": null,
   "metadata": {},
   "outputs": [],
   "source": [
    "#all_genes_bow_3_5gram.toarray().sum(axis=1)"
   ]
  },
  {
   "cell_type": "code",
   "execution_count": null,
   "metadata": {},
   "outputs": [],
   "source": []
  },
  {
   "cell_type": "code",
   "execution_count": null,
   "metadata": {},
   "outputs": [],
   "source": []
  },
  {
   "cell_type": "code",
   "execution_count": null,
   "metadata": {},
   "outputs": [],
   "source": []
  },
  {
   "cell_type": "code",
   "execution_count": null,
   "metadata": {},
   "outputs": [],
   "source": []
  },
  {
   "cell_type": "code",
   "execution_count": null,
   "metadata": {},
   "outputs": [],
   "source": []
  },
  {
   "cell_type": "code",
   "execution_count": null,
   "metadata": {},
   "outputs": [],
   "source": []
  },
  {
   "cell_type": "code",
   "execution_count": null,
   "metadata": {},
   "outputs": [],
   "source": []
  },
  {
   "cell_type": "code",
   "execution_count": null,
   "metadata": {},
   "outputs": [],
   "source": []
  },
  {
   "cell_type": "code",
   "execution_count": null,
   "metadata": {},
   "outputs": [],
   "source": []
  }
 ],
 "metadata": {
  "kernelspec": {
   "display_name": "Python 3",
   "language": "python",
   "name": "python3"
  },
  "language_info": {
   "codemirror_mode": {
    "name": "ipython",
    "version": 3
   },
   "file_extension": ".py",
   "mimetype": "text/x-python",
   "name": "python",
   "nbconvert_exporter": "python",
   "pygments_lexer": "ipython3",
   "version": "3.7.3"
  }
 },
 "nbformat": 4,
 "nbformat_minor": 2
}
