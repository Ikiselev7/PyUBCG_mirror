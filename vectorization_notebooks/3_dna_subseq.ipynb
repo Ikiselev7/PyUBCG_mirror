{
 "cells": [
  {
   "cell_type": "markdown",
   "metadata": {},
   "source": [
    "Started 30.05.2019\n",
    "\n",
    "It is first part of word2vec pipeline\n",
    "\n",
    "<b>ngram extractor from gene sequence</b>"
   ]
  },
  {
   "cell_type": "code",
   "execution_count": 1,
   "metadata": {},
   "outputs": [],
   "source": [
    "import numpy as np\n",
    "import os\n",
    "from timeit import default_timer as timer\n",
    "\n",
    "from Bio import SeqIO\n",
    "from nltk.util import ngrams\n",
    "from collections import OrderedDict"
   ]
  },
  {
   "cell_type": "markdown",
   "metadata": {},
   "source": [
    "### Read seq"
   ]
  },
  {
   "cell_type": "code",
   "execution_count": 2,
   "metadata": {},
   "outputs": [],
   "source": [
    "path_gene_nuc = '../../sf_data/prodigal_output/gene_nuc/'"
   ]
  },
  {
   "cell_type": "code",
   "execution_count": 3,
   "metadata": {},
   "outputs": [
    {
     "data": {
      "text/plain": [
       "['Bacillus_amyloliquefaciens',\n",
       " 'Bacillus_atrophaeus',\n",
       " 'Bacillus_halotolerans',\n",
       " 'Bacillus_licheniformis',\n",
       " 'Bacillus_mojavensis',\n",
       " 'Bacillus_paralicheniformis',\n",
       " 'Bacillus_siamensis',\n",
       " 'Bacillus_sonorensis',\n",
       " 'Bacillus_subtilis',\n",
       " 'Bacillus_tequilensis',\n",
       " 'Bacillus_vallismortis',\n",
       " 'Bacillus_velezensis']"
      ]
     },
     "execution_count": 3,
     "metadata": {},
     "output_type": "execute_result"
    }
   ],
   "source": [
    "organisms_names = [f[:f.index('_', f.index('_') + 1)] for f in os.listdir(path_gene_nuc)]\n",
    "organisms_names"
   ]
  },
  {
   "cell_type": "code",
   "execution_count": 4,
   "metadata": {},
   "outputs": [],
   "source": [
    "full_path_gene_nuc = [path_gene_nuc + f for f in os.listdir(path_gene_nuc)]"
   ]
  },
  {
   "cell_type": "code",
   "execution_count": 5,
   "metadata": {},
   "outputs": [],
   "source": [
    "# Read fasta data with deleting symbol N in nuc seq\n",
    "organisms = [SeqIO.parse(gene_nuc_file, 'fasta') for gene_nuc_file in full_path_gene_nuc]\n",
    "all_genes_list = []\n",
    "\n",
    "for (id_org, organism) in enumerate(organisms):\n",
    "    for gene_record in organism:\n",
    "        all_genes_list.append(str(gene_record.seq).replace('N', ''))"
   ]
  },
  {
   "cell_type": "markdown",
   "metadata": {},
   "source": [
    "### Extract ngrams from one gene (safing order)"
   ]
  },
  {
   "cell_type": "code",
   "execution_count": 10,
   "metadata": {},
   "outputs": [
    {
     "name": "stdout",
     "output_type": "stream",
     "text": [
      "ATGACGTCAAATCATCATGCCCCTTATGACCTGGGCTACACACGTGCTACAATGGGCAGAACAAAGGGCAGCGAAACCGCGAGGTTAAGCCAATCCCACAAATCTGTTCTCAGTTCGGATCGCAGTCTGCAACTCGACTGCGTGAAGCTGGAATCGCTAGTAATCGCGGATCAGCATGCCGCGGTGAATACGTTCCCGGGCCTTGTACACACCGCCCGTCACACCACGAGAGTTTGTAACACCCGAAGTCGGTGA\n",
      "\n",
      "len=255\n"
     ]
    }
   ],
   "source": [
    "# just example\n",
    "gene_x = all_genes_list[7]\n",
    "print(f'{gene_x}\\n\\nlen={len(gene_x)}')"
   ]
  },
  {
   "cell_type": "code",
   "execution_count": 44,
   "metadata": {},
   "outputs": [
    {
     "data": {
      "text/plain": [
       "[3]"
      ]
     },
     "execution_count": 44,
     "metadata": {},
     "output_type": "execute_result"
    }
   ],
   "source": [
    "ngram_range = list(range(3,4))\n",
    "ngram_range"
   ]
  },
  {
   "cell_type": "code",
   "execution_count": 45,
   "metadata": {},
   "outputs": [],
   "source": [
    "ngrams_with_order = []\n",
    "\n",
    "for i in range(len(gene_x)):\n",
    "    for n in ngram_range:\n",
    "        ngrams_with_order.append(gene_x[i:i+n])"
   ]
  },
  {
   "cell_type": "code",
   "execution_count": 46,
   "metadata": {},
   "outputs": [],
   "source": [
    "ngrams_with_order = [ngram for ngram in ngrams_with_order if len(ngram) >= min(ngram_range)]"
   ]
  },
  {
   "cell_type": "code",
   "execution_count": 47,
   "metadata": {
    "scrolled": true
   },
   "outputs": [
    {
     "name": "stdout",
     "output_type": "stream",
     "text": [
      "['ATG', 'TGA', 'GAC', 'ACG', 'CGT', 'GTC', 'TCA', 'CAA', 'AAA', 'AAT', 'ATC', 'TCA', 'CAT', 'ATC', 'TCA', 'CAT', 'ATG', 'TGC', 'GCC', 'CCC', 'CCC', 'CCT', 'CTT', 'TTA', 'TAT', 'ATG', 'TGA', 'GAC', 'ACC', 'CCT', 'CTG', 'TGG', 'GGG', 'GGC', 'GCT', 'CTA', 'TAC', 'ACA', 'CAC', 'ACA', 'CAC', 'ACG', 'CGT', 'GTG', 'TGC', 'GCT', 'CTA', 'TAC', 'ACA', 'CAA', 'AAT', 'ATG', 'TGG', 'GGG', 'GGC', 'GCA', 'CAG', 'AGA', 'GAA', 'AAC', 'ACA', 'CAA', 'AAA', 'AAG', 'AGG', 'GGG', 'GGC', 'GCA', 'CAG', 'AGC', 'GCG', 'CGA', 'GAA', 'AAA', 'AAC', 'ACC', 'CCG', 'CGC', 'GCG', 'CGA', 'GAG', 'AGG', 'GGT', 'GTT', 'TTA', 'TAA', 'AAG', 'AGC', 'GCC', 'CCA', 'CAA', 'AAT', 'ATC', 'TCC', 'CCC', 'CCA', 'CAC', 'ACA', 'CAA', 'AAA', 'AAT', 'ATC', 'TCT', 'CTG', 'TGT', 'GTT', 'TTC', 'TCT', 'CTC', 'TCA', 'CAG', 'AGT', 'GTT', 'TTC', 'TCG', 'CGG', 'GGA', 'GAT', 'ATC', 'TCG', 'CGC', 'GCA', 'CAG', 'AGT', 'GTC', 'TCT', 'CTG', 'TGC', 'GCA', 'CAA', 'AAC', 'ACT', 'CTC', 'TCG', 'CGA', 'GAC', 'ACT', 'CTG', 'TGC', 'GCG', 'CGT', 'GTG', 'TGA', 'GAA', 'AAG', 'AGC', 'GCT', 'CTG', 'TGG', 'GGA', 'GAA', 'AAT', 'ATC', 'TCG', 'CGC', 'GCT', 'CTA', 'TAG', 'AGT', 'GTA', 'TAA', 'AAT', 'ATC', 'TCG', 'CGC', 'GCG', 'CGG', 'GGA', 'GAT', 'ATC', 'TCA', 'CAG', 'AGC', 'GCA', 'CAT', 'ATG', 'TGC', 'GCC', 'CCG', 'CGC', 'GCG', 'CGG', 'GGT', 'GTG', 'TGA', 'GAA', 'AAT', 'ATA', 'TAC', 'ACG', 'CGT', 'GTT', 'TTC', 'TCC', 'CCC', 'CCG', 'CGG', 'GGG', 'GGC', 'GCC', 'CCT', 'CTT', 'TTG', 'TGT', 'GTA', 'TAC', 'ACA', 'CAC', 'ACA', 'CAC', 'ACC', 'CCG', 'CGC', 'GCC', 'CCC', 'CCG', 'CGT', 'GTC', 'TCA', 'CAC', 'ACA', 'CAC', 'ACC', 'CCA', 'CAC', 'ACG', 'CGA', 'GAG', 'AGA', 'GAG', 'AGT', 'GTT', 'TTT', 'TTG', 'TGT', 'GTA', 'TAA', 'AAC', 'ACA', 'CAC', 'ACC', 'CCC', 'CCG', 'CGA', 'GAA', 'AAG', 'AGT', 'GTC', 'TCG', 'CGG', 'GGT', 'GTG', 'TGA']\n"
     ]
    }
   ],
   "source": [
    "print(ngrams_with_order)"
   ]
  },
  {
   "cell_type": "code",
   "execution_count": 48,
   "metadata": {},
   "outputs": [],
   "source": [
    "# one of the ways to delete duplicates and safe the order\n",
    "# but it may be inefficient because of index\n",
    "ngrams_with_order_unique = sorted(set(ngrams_with_order), key=ngrams_with_order.index)"
   ]
  },
  {
   "cell_type": "code",
   "execution_count": 49,
   "metadata": {
    "scrolled": true
   },
   "outputs": [
    {
     "name": "stdout",
     "output_type": "stream",
     "text": [
      "['ATG', 'TGA', 'GAC', 'ACG', 'CGT', 'GTC', 'TCA', 'CAA', 'AAA', 'AAT', 'ATC', 'CAT', 'TGC', 'GCC', 'CCC', 'CCT', 'CTT', 'TTA', 'TAT', 'ACC', 'CTG', 'TGG', 'GGG', 'GGC', 'GCT', 'CTA', 'TAC', 'ACA', 'CAC', 'GTG', 'GCA', 'CAG', 'AGA', 'GAA', 'AAC', 'AAG', 'AGG', 'AGC', 'GCG', 'CGA', 'CCG', 'CGC', 'GAG', 'GGT', 'GTT', 'TAA', 'CCA', 'TCC', 'TCT', 'TGT', 'TTC', 'CTC', 'AGT', 'TCG', 'CGG', 'GGA', 'GAT', 'ACT', 'TAG', 'GTA', 'ATA', 'TTG', 'TTT']\n"
     ]
    }
   ],
   "source": [
    "print(ngrams_with_order_unique)"
   ]
  },
  {
   "cell_type": "code",
   "execution_count": 50,
   "metadata": {},
   "outputs": [
    {
     "name": "stdout",
     "output_type": "stream",
     "text": [
      "ngram_range = [3]\n",
      " len(ngrams_with_order) = 253\n",
      " len(ngrams_with_order_unique) = 63\n"
     ]
    }
   ],
   "source": [
    "print(f'ngram_range = {ngram_range}\\n',\n",
    "      f'len(ngrams_with_order) = {len(ngrams_with_order)}\\n',\n",
    "      f'len(ngrams_with_order_unique) = {len(ngrams_with_order_unique)}')"
   ]
  },
  {
   "cell_type": "markdown",
   "metadata": {},
   "source": [
    "### Extract ngrams from list of genes (saving order for each gene)"
   ]
  },
  {
   "cell_type": "markdown",
   "metadata": {},
   "source": [
    "Time Statistics for Simple algorithm\n",
    "\n",
    "For all genes (49807):\n",
    "\n",
    "3-grams = 150 sec = 2.5 min\n",
    "\n",
    "(3,4)-grams = 320 sec = 5.3 min (but one time kernel died here)\n",
    "\n",
    "Starts (3,8)-grams test\n",
    "\n",
    "* 5000 genes -> 29.7 min\n",
    "\n",
    "* 10000 genes -> 61.3 min\n",
    "  \n",
    "* 15000 genes -> 92.6 min\n",
    "  \n",
    "* 17250 genes -> 105.5 min\n",
    "\n",
    "After that kernel died (may be memory overload)"
   ]
  },
  {
   "cell_type": "code",
   "execution_count": 6,
   "metadata": {},
   "outputs": [
    {
     "data": {
      "text/plain": [
       "49807"
      ]
     },
     "execution_count": 6,
     "metadata": {},
     "output_type": "execute_result"
    }
   ],
   "source": [
    "len(all_genes_list)"
   ]
  },
  {
   "cell_type": "code",
   "execution_count": 13,
   "metadata": {},
   "outputs": [
    {
     "data": {
      "text/plain": [
       "[3, 4]"
      ]
     },
     "execution_count": 13,
     "metadata": {},
     "output_type": "execute_result"
    }
   ],
   "source": [
    "ngram_range = list(range(3,5))\n",
    "ngram_range"
   ]
  },
  {
   "cell_type": "code",
   "execution_count": 14,
   "metadata": {
    "scrolled": true
   },
   "outputs": [
    {
     "name": "stdout",
     "output_type": "stream",
     "text": [
      "time: 23594.54707745\tid_gene=0\n",
      "time: 23613.185459801\tid_gene=3000\n",
      "time: 23631.813330557\tid_gene=6000\n",
      "time: 23651.295328262\tid_gene=9000\n",
      "time: 23670.666137944\tid_gene=12000\n",
      "time: 23689.690551298\tid_gene=15000\n",
      "time: 23709.409350258\tid_gene=18000\n",
      "time: 23728.016730018\tid_gene=21000\n",
      "time: 23748.603795443\tid_gene=24000\n",
      "time: 23769.300753399\tid_gene=27000\n",
      "time: 23788.622285335\tid_gene=30000\n",
      "time: 23806.838323196\tid_gene=33000\n",
      "time: 23827.149895554\tid_gene=36000\n",
      "time: 23847.232104294\tid_gene=39000\n",
      "time: 23869.455597786\tid_gene=42000\n",
      "time: 23888.380526415\tid_gene=45000\n",
      "time: 23908.191213454\tid_gene=48000\n",
      "\n",
      "end time: 23920.580942985\n",
      "\n",
      "common time: 3.3e+02 sec\n"
     ]
    }
   ],
   "source": [
    "start = timer()\n",
    "\n",
    "gene_ngrams = []\n",
    "\n",
    "for (id_gene, gene) in enumerate(all_genes_list):\n",
    "    if(id_gene % 3000) == 0:\n",
    "        print(f'time: {timer()}\\tid_gene={id_gene}')\n",
    "    \n",
    "    ngrams_with_order = []\n",
    "    \n",
    "    [ngrams_with_order.append(gene[indx:indx+n])\n",
    "     for indx in range(len(gene)) for n in ngram_range]\n",
    "    \n",
    "    ngrams_with_order = [ngram for ngram in ngrams_with_order if len(ngram) >= min(ngram_range)]\n",
    "    ngrams_with_order_unique = sorted(set(ngrams_with_order), key=ngrams_with_order.index)\n",
    "    \n",
    "    gene_ngrams.append((gene, ngrams_with_order_unique))\n",
    "    \n",
    "end = timer()\n",
    "print(f'\\nend time: {end}')\n",
    "print(f'\\ncommon time: {end - start:.2} sec')"
   ]
  },
  {
   "cell_type": "code",
   "execution_count": 17,
   "metadata": {},
   "outputs": [
    {
     "name": "stdout",
     "output_type": "stream",
     "text": [
      "('ATGACGTCAAATCATCATGCCCCTTATGACCTGGGCTACACACGTGCTACAATGGGCAGAACAAAGGGCAGCGAAACCGCGAGGTTAAGCCAATCCCACAAATCTGTTCTCAGTTCGGATCGCAGTCTGCAACTCGACTGCGTGAAGCTGGAATCGCTAGTAATCGCGGATCAGCATGCCGCGGTGAATACGTTCCCGGGCCTTGTACACACCGCCCGTCACACCACGAGAGTTTGTAACACCCGAAGTCGGTGA', ['ATG', 'ATGA', 'TGA', 'TGAC', 'GAC', 'GACG', 'ACG', 'ACGT', 'CGT', 'CGTC', 'GTC', 'GTCA', 'TCA', 'TCAA', 'CAA', 'CAAA', 'AAA', 'AAAT', 'AAT', 'AATC', 'ATC', 'ATCA', 'TCAT', 'CAT', 'CATC', 'CATG', 'ATGC', 'TGC', 'TGCC', 'GCC', 'GCCC', 'CCC', 'CCCC', 'CCCT', 'CCT', 'CCTT', 'CTT', 'CTTA', 'TTA', 'TTAT', 'TAT', 'TATG', 'GACC', 'ACC', 'ACCT', 'CCTG', 'CTG', 'CTGG', 'TGG', 'TGGG', 'GGG', 'GGGC', 'GGC', 'GGCT', 'GCT', 'GCTA', 'CTA', 'CTAC', 'TAC', 'TACA', 'ACA', 'ACAC', 'CAC', 'CACA', 'CACG', 'CGTG', 'GTG', 'GTGC', 'TGCT', 'ACAA', 'CAAT', 'AATG', 'ATGG', 'GGCA', 'GCA', 'GCAG', 'CAG', 'CAGA', 'AGA', 'AGAA', 'GAA', 'GAAC', 'AAC', 'AACA', 'AAAG', 'AAG', 'AAGG', 'AGG', 'AGGG', 'CAGC', 'AGC', 'AGCG', 'GCG', 'GCGA', 'CGA', 'CGAA', 'GAAA', 'AAAC', 'AACC', 'ACCG', 'CCG', 'CCGC', 'CGC', 'CGCG', 'CGAG', 'GAG', 'GAGG', 'AGGT', 'GGT', 'GGTT', 'GTT', 'GTTA', 'TTAA', 'TAA', 'TAAG', 'AAGC', 'AGCC', 'GCCA', 'CCA', 'CCAA', 'ATCC', 'TCC', 'TCCC', 'CCCA', 'CCAC', 'ATCT', 'TCT', 'TCTG', 'CTGT', 'TGT', 'TGTT', 'GTTC', 'TTC', 'TTCT', 'TCTC', 'CTC', 'CTCA', 'TCAG', 'CAGT', 'AGT', 'AGTT', 'TTCG', 'TCG', 'TCGG', 'CGG', 'CGGA', 'GGA', 'GGAT', 'GAT', 'GATC', 'ATCG', 'TCGC', 'CGCA', 'AGTC', 'GTCT', 'CTGC', 'TGCA', 'GCAA', 'CAAC', 'AACT', 'ACT', 'ACTC', 'CTCG', 'TCGA', 'CGAC', 'GACT', 'ACTG', 'TGCG', 'GCGT', 'GTGA', 'TGAA', 'GAAG', 'AGCT', 'GCTG', 'TGGA', 'GGAA', 'GAAT', 'CGCT', 'CTAG', 'TAG', 'TAGT', 'AGTA', 'GTA', 'GTAA', 'TAAT', 'GCGG', 'AGCA', 'GCAT', 'GCCG', 'CGGT', 'GGTG', 'AATA', 'ATA', 'ATAC', 'TACG', 'CGTT', 'TTCC', 'CCCG', 'CCGG', 'CGGG', 'GGCC', 'GCCT', 'CTTG', 'TTG', 'TTGT', 'TGTA', 'GTAC', 'CACC', 'CGCC', 'CCGT', 'TCAC', 'ACCA', 'ACGA', 'GAGA', 'AGAG', 'GAGT', 'GTTT', 'TTT', 'TTTG', 'TAAC', 'ACCC', 'CCGA', 'AAGT', 'GTCG'])\n"
     ]
    }
   ],
   "source": [
    "print(gene_ngrams[7])"
   ]
  },
  {
   "cell_type": "code",
   "execution_count": 18,
   "metadata": {},
   "outputs": [
    {
     "data": {
      "text/plain": [
       "49807"
      ]
     },
     "execution_count": 18,
     "metadata": {},
     "output_type": "execute_result"
    }
   ],
   "source": [
    "len(gene_ngrams)"
   ]
  },
  {
   "cell_type": "markdown",
   "metadata": {},
   "source": [
    "### Using nltk.util.ngrams()"
   ]
  },
  {
   "cell_type": "code",
   "execution_count": null,
   "metadata": {},
   "outputs": [],
   "source": [
    "#http://www.nltk.org/_modules/nltk/util.html"
   ]
  },
  {
   "cell_type": "code",
   "execution_count": 62,
   "metadata": {},
   "outputs": [
    {
     "data": {
      "text/plain": [
       "[('A', 'T', 'G'),\n",
       " ('T', 'G', 'A'),\n",
       " ('G', 'A', 'C'),\n",
       " ('A', 'C', 'G'),\n",
       " ('C', 'G', 'T')]"
      ]
     },
     "execution_count": 62,
     "metadata": {},
     "output_type": "execute_result"
    }
   ],
   "source": [
    "gene_x_3grams = list(ngrams(gene_x, 3))\n",
    "gene_x_3grams[:5]"
   ]
  },
  {
   "cell_type": "code",
   "execution_count": 63,
   "metadata": {
    "scrolled": true
   },
   "outputs": [
    {
     "data": {
      "text/plain": [
       "[('A', 'T', 'G'),\n",
       " ('T', 'G', 'A'),\n",
       " ('G', 'A', 'C'),\n",
       " ('A', 'C', 'G'),\n",
       " ('C', 'G', 'T')]"
      ]
     },
     "execution_count": 63,
     "metadata": {},
     "output_type": "execute_result"
    }
   ],
   "source": [
    "gene_x_3grams_unique = sorted(set(gene_x_3grams), key=gene_x_3grams.index)\n",
    "gene_x_3grams_unique[:5]"
   ]
  },
  {
   "cell_type": "code",
   "execution_count": 43,
   "metadata": {},
   "outputs": [
    {
     "data": {
      "text/plain": [
       "(253, 63)"
      ]
     },
     "execution_count": 43,
     "metadata": {},
     "output_type": "execute_result"
    }
   ],
   "source": [
    "len(gene_x_3grams), len(gene_x_3grams_unique)"
   ]
  },
  {
   "cell_type": "code",
   "execution_count": 61,
   "metadata": {},
   "outputs": [
    {
     "name": "stdout",
     "output_type": "stream",
     "text": [
      "['ATG', 'TGA', 'GAC', 'ACG', 'CGT', 'GTC', 'TCA', 'CAA', 'AAA', 'AAT', 'ATC', 'CAT', 'TGC', 'GCC', 'CCC', 'CCT', 'CTT', 'TTA', 'TAT', 'ACC', 'CTG', 'TGG', 'GGG', 'GGC', 'GCT', 'CTA', 'TAC', 'ACA', 'CAC', 'GTG', 'GCA', 'CAG', 'AGA', 'GAA', 'AAC', 'AAG', 'AGG', 'AGC', 'GCG', 'CGA', 'CCG', 'CGC', 'GAG', 'GGT', 'GTT', 'TAA', 'CCA', 'TCC', 'TCT', 'TGT', 'TTC', 'CTC', 'AGT', 'TCG', 'CGG', 'GGA', 'GAT', 'ACT', 'TAG', 'GTA', 'ATA', 'TTG', 'TTT']\n"
     ]
    }
   ],
   "source": [
    "gene_x_3grams_unique_lst = [''.join(ngram) for ngram in gene_x_3grams_unique]\n",
    "print(gene_x_3grams_unique_lst)"
   ]
  },
  {
   "cell_type": "markdown",
   "metadata": {},
   "source": [
    "using nltk.util.ngrams() is faster than Simple extract algorithm\n",
    "\n",
    "3-grams -> 53 sec < 1 min\n",
    "\n",
    "(3,4)-grams -> 270 sec = 4.5 min\n",
    "\n",
    "(3,5)-grams ~ 16 min\n",
    "\n",
    "(3,6)-grams ~ 42 min\n",
    "\n",
    "(3,8)-grams ~ 2 h"
   ]
  },
  {
   "cell_type": "code",
   "execution_count": 6,
   "metadata": {},
   "outputs": [],
   "source": [
    "def get_ngrams_for_gene(id_gene, gene_seq, n_min=3, n_max=3):\n",
    "    if(id_gene % 3000) == 0:\n",
    "        print(f'time: {timer()}\\tid_gene={id_gene}')\n",
    "    \n",
    "    gene_ngrams = []\n",
    "    \n",
    "    for n in range(n_min, n_max+1):\n",
    "        ngrams_lst = list(ngrams(gene_seq, n))\n",
    "        ngrams_set = sorted(set(ngrams_lst), key=ngrams_lst.index)\n",
    "        ngrams_set = [''.join(ngram) for ngram in ngrams_set]\n",
    "        \n",
    "        gene_ngrams.append(ngrams_set)\n",
    "    \n",
    "    return (gene_seq, gene_ngrams)"
   ]
  },
  {
   "cell_type": "code",
   "execution_count": 19,
   "metadata": {
    "scrolled": true
   },
   "outputs": [
    {
     "name": "stdout",
     "output_type": "stream",
     "text": [
      "ngram_range = (3, 4)\n",
      "\n",
      "time: 24006.613189151\tid_gene=0\n",
      "time: 24022.129358984\tid_gene=3000\n",
      "time: 24038.056454398\tid_gene=6000\n",
      "time: 24054.63016484\tid_gene=9000\n",
      "time: 24070.315974468\tid_gene=12000\n",
      "time: 24086.111833888\tid_gene=15000\n",
      "time: 24102.331006637\tid_gene=18000\n",
      "time: 24117.754916375\tid_gene=21000\n",
      "time: 24136.004660633\tid_gene=24000\n",
      "time: 24152.586541377\tid_gene=27000\n",
      "time: 24168.053311949\tid_gene=30000\n",
      "time: 24182.75913325\tid_gene=33000\n",
      "time: 24198.325440516\tid_gene=36000\n",
      "time: 24214.066148711\tid_gene=39000\n",
      "time: 24229.430968752\tid_gene=42000\n",
      "time: 24244.581115966\tid_gene=45000\n",
      "time: 24308.284221694\tid_gene=48000\n",
      "\n",
      "end time: 24318.329087161\n",
      "\n",
      "common time: 3.1e+02 sec\n"
     ]
    }
   ],
   "source": [
    "ngram_range_min = 3\n",
    "ngram_range_max = 4\n",
    "\n",
    "start = timer()\n",
    "print(f'ngram_range = ({ngram_range_min}, {ngram_range_max})\\n')\n",
    "\n",
    "nltk_gene_ngrams = [get_ngrams_for_gene(id_gene, gene, n_min=ngram_range_min, n_max=ngram_range_max)\n",
    "                    for (id_gene, gene) in enumerate(all_genes_list)]\n",
    "\n",
    "end = timer()\n",
    "print(f'\\nend time: {end}')\n",
    "print(f'\\ncommon time: {end - start:.2} sec')"
   ]
  },
  {
   "cell_type": "code",
   "execution_count": 20,
   "metadata": {},
   "outputs": [
    {
     "name": "stdout",
     "output_type": "stream",
     "text": [
      "('ATGACGTCAAATCATCATGCCCCTTATGACCTGGGCTACACACGTGCTACAATGGGCAGAACAAAGGGCAGCGAAACCGCGAGGTTAAGCCAATCCCACAAATCTGTTCTCAGTTCGGATCGCAGTCTGCAACTCGACTGCGTGAAGCTGGAATCGCTAGTAATCGCGGATCAGCATGCCGCGGTGAATACGTTCCCGGGCCTTGTACACACCGCCCGTCACACCACGAGAGTTTGTAACACCCGAAGTCGGTGA', [['ATG', 'TGA', 'GAC', 'ACG', 'CGT', 'GTC', 'TCA', 'CAA', 'AAA', 'AAT', 'ATC', 'CAT', 'TGC', 'GCC', 'CCC', 'CCT', 'CTT', 'TTA', 'TAT', 'ACC', 'CTG', 'TGG', 'GGG', 'GGC', 'GCT', 'CTA', 'TAC', 'ACA', 'CAC', 'GTG', 'GCA', 'CAG', 'AGA', 'GAA', 'AAC', 'AAG', 'AGG', 'AGC', 'GCG', 'CGA', 'CCG', 'CGC', 'GAG', 'GGT', 'GTT', 'TAA', 'CCA', 'TCC', 'TCT', 'TGT', 'TTC', 'CTC', 'AGT', 'TCG', 'CGG', 'GGA', 'GAT', 'ACT', 'TAG', 'GTA', 'ATA', 'TTG', 'TTT'], ['ATGA', 'TGAC', 'GACG', 'ACGT', 'CGTC', 'GTCA', 'TCAA', 'CAAA', 'AAAT', 'AATC', 'ATCA', 'TCAT', 'CATC', 'CATG', 'ATGC', 'TGCC', 'GCCC', 'CCCC', 'CCCT', 'CCTT', 'CTTA', 'TTAT', 'TATG', 'GACC', 'ACCT', 'CCTG', 'CTGG', 'TGGG', 'GGGC', 'GGCT', 'GCTA', 'CTAC', 'TACA', 'ACAC', 'CACA', 'CACG', 'CGTG', 'GTGC', 'TGCT', 'ACAA', 'CAAT', 'AATG', 'ATGG', 'GGCA', 'GCAG', 'CAGA', 'AGAA', 'GAAC', 'AACA', 'AAAG', 'AAGG', 'AGGG', 'CAGC', 'AGCG', 'GCGA', 'CGAA', 'GAAA', 'AAAC', 'AACC', 'ACCG', 'CCGC', 'CGCG', 'CGAG', 'GAGG', 'AGGT', 'GGTT', 'GTTA', 'TTAA', 'TAAG', 'AAGC', 'AGCC', 'GCCA', 'CCAA', 'ATCC', 'TCCC', 'CCCA', 'CCAC', 'ATCT', 'TCTG', 'CTGT', 'TGTT', 'GTTC', 'TTCT', 'TCTC', 'CTCA', 'TCAG', 'CAGT', 'AGTT', 'TTCG', 'TCGG', 'CGGA', 'GGAT', 'GATC', 'ATCG', 'TCGC', 'CGCA', 'AGTC', 'GTCT', 'CTGC', 'TGCA', 'GCAA', 'CAAC', 'AACT', 'ACTC', 'CTCG', 'TCGA', 'CGAC', 'GACT', 'ACTG', 'TGCG', 'GCGT', 'GTGA', 'TGAA', 'GAAG', 'AGCT', 'GCTG', 'TGGA', 'GGAA', 'GAAT', 'CGCT', 'CTAG', 'TAGT', 'AGTA', 'GTAA', 'TAAT', 'GCGG', 'AGCA', 'GCAT', 'GCCG', 'CGGT', 'GGTG', 'AATA', 'ATAC', 'TACG', 'CGTT', 'TTCC', 'CCCG', 'CCGG', 'CGGG', 'GGCC', 'GCCT', 'CTTG', 'TTGT', 'TGTA', 'GTAC', 'CACC', 'CGCC', 'CCGT', 'TCAC', 'ACCA', 'ACGA', 'GAGA', 'AGAG', 'GAGT', 'GTTT', 'TTTG', 'TAAC', 'ACCC', 'CCGA', 'AAGT', 'GTCG']])\n"
     ]
    }
   ],
   "source": [
    "print(nltk_gene_ngrams[7])"
   ]
  },
  {
   "cell_type": "code",
   "execution_count": 21,
   "metadata": {},
   "outputs": [
    {
     "data": {
      "text/plain": [
       "49807"
      ]
     },
     "execution_count": 21,
     "metadata": {},
     "output_type": "execute_result"
    }
   ],
   "source": [
    "len(nltk_gene_ngrams)"
   ]
  },
  {
   "cell_type": "code",
   "execution_count": null,
   "metadata": {},
   "outputs": [],
   "source": []
  },
  {
   "cell_type": "code",
   "execution_count": null,
   "metadata": {},
   "outputs": [],
   "source": []
  },
  {
   "cell_type": "code",
   "execution_count": null,
   "metadata": {},
   "outputs": [],
   "source": []
  },
  {
   "cell_type": "code",
   "execution_count": null,
   "metadata": {},
   "outputs": [],
   "source": []
  },
  {
   "cell_type": "code",
   "execution_count": null,
   "metadata": {},
   "outputs": [],
   "source": []
  },
  {
   "cell_type": "code",
   "execution_count": null,
   "metadata": {},
   "outputs": [],
   "source": []
  }
 ],
 "metadata": {
  "kernelspec": {
   "display_name": "Python 3",
   "language": "python",
   "name": "python3"
  },
  "language_info": {
   "codemirror_mode": {
    "name": "ipython",
    "version": 3
   },
   "file_extension": ".py",
   "mimetype": "text/x-python",
   "name": "python",
   "nbconvert_exporter": "python",
   "pygments_lexer": "ipython3",
   "version": "3.7.3"
  }
 },
 "nbformat": 4,
 "nbformat_minor": 2
}
