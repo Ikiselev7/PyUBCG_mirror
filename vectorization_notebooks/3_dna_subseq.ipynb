{
 "cells": [
  {
   "cell_type": "markdown",
   "metadata": {},
   "source": [
    "Started 30.05.2019\n",
    "\n",
    "It is first part of word2vec pipeline\n",
    "\n",
    "<b>ngram extractor from gene sequence</b>"
   ]
  },
  {
   "cell_type": "code",
   "execution_count": 12,
   "metadata": {},
   "outputs": [],
   "source": [
    "import numpy as np\n",
    "import os\n",
    "import csv\n",
    "from timeit import default_timer as timer\n",
    "\n",
    "from Bio import SeqIO\n",
    "from nltk.util import ngrams\n",
    "from collections import OrderedDict"
   ]
  },
  {
   "cell_type": "markdown",
   "metadata": {},
   "source": [
    "### Read seq"
   ]
  },
  {
   "cell_type": "code",
   "execution_count": 2,
   "metadata": {},
   "outputs": [],
   "source": [
    "path_gene_nuc = '../../sf_data/prodigal_output/gene_nuc/'"
   ]
  },
  {
   "cell_type": "code",
   "execution_count": 3,
   "metadata": {},
   "outputs": [
    {
     "data": {
      "text/plain": [
       "['Bacillus_amyloliquefaciens',\n",
       " 'Bacillus_atrophaeus',\n",
       " 'Bacillus_halotolerans',\n",
       " 'Bacillus_licheniformis',\n",
       " 'Bacillus_mojavensis',\n",
       " 'Bacillus_paralicheniformis',\n",
       " 'Bacillus_siamensis',\n",
       " 'Bacillus_sonorensis',\n",
       " 'Bacillus_subtilis',\n",
       " 'Bacillus_tequilensis',\n",
       " 'Bacillus_vallismortis',\n",
       " 'Bacillus_velezensis']"
      ]
     },
     "execution_count": 3,
     "metadata": {},
     "output_type": "execute_result"
    }
   ],
   "source": [
    "organisms_names = [f[:f.index('_', f.index('_') + 1)] for f in os.listdir(path_gene_nuc)]\n",
    "organisms_names"
   ]
  },
  {
   "cell_type": "code",
   "execution_count": 4,
   "metadata": {},
   "outputs": [],
   "source": [
    "full_path_gene_nuc = [path_gene_nuc + f for f in os.listdir(path_gene_nuc)]"
   ]
  },
  {
   "cell_type": "code",
   "execution_count": 9,
   "metadata": {},
   "outputs": [],
   "source": [
    "organisms = [SeqIO.parse(gene_nuc_file, 'fasta') for gene_nuc_file in full_path_gene_nuc]\n",
    "org_gene_lst = []\n",
    "\n",
    "for (id_org, organism), org_name in zip(enumerate(organisms), organisms_names):\n",
    "    for gene_record in organism:\n",
    "        org_gene_lst.append(('_'.join((str(id_org), org_name)), gene_record.id,\n",
    "                             str(gene_record.seq).replace('N', '')))"
   ]
  },
  {
   "cell_type": "code",
   "execution_count": 11,
   "metadata": {},
   "outputs": [
    {
     "data": {
      "text/plain": [
       "('0_Bacillus_amyloliquefaciens',\n",
       " 'NC_014551.1_8',\n",
       " 'ATGACGTCAAATCATCATGCCCCTTATGACCTGGGCTACACACGTGCTACAATGGGCAGAACAAAGGGCAGCGAAACCGCGAGGTTAAGCCAATCCCACAAATCTGTTCTCAGTTCGGATCGCAGTCTGCAACTCGACTGCGTGAAGCTGGAATCGCTAGTAATCGCGGATCAGCATGCCGCGGTGAATACGTTCCCGGGCCTTGTACACACCGCCCGTCACACCACGAGAGTTTGTAACACCCGAAGTCGGTGA')"
      ]
     },
     "execution_count": 11,
     "metadata": {},
     "output_type": "execute_result"
    }
   ],
   "source": [
    "org_gene_lst[7]"
   ]
  },
  {
   "cell_type": "code",
   "execution_count": 10,
   "metadata": {},
   "outputs": [
    {
     "data": {
      "text/plain": [
       "('11_Bacillus_velezensis',\n",
       " 'NZ_CP011937.1_3760',\n",
       " 'TTGTGGATAAGTTGTGAAAAAGACAGGAAACACAGCCTATCCACATGTGGACAGACTGTGTATGGCTATGAAAAAGTTATTCACACTTTCCCCGATTCATCCGAGGACACT')"
      ]
     },
     "execution_count": 10,
     "metadata": {},
     "output_type": "execute_result"
    }
   ],
   "source": [
    "org_gene_lst[-1]"
   ]
  },
  {
   "cell_type": "code",
   "execution_count": 5,
   "metadata": {},
   "outputs": [],
   "source": [
    "# Read fasta data with deleting symbol N in nuc seq\n",
    "organisms = [SeqIO.parse(gene_nuc_file, 'fasta') for gene_nuc_file in full_path_gene_nuc]\n",
    "all_genes_list = []\n",
    "\n",
    "for (id_org, organism) in enumerate(organisms):\n",
    "    for gene_record in organism:\n",
    "        all_genes_list.append(str(gene_record.seq).replace('N', ''))"
   ]
  },
  {
   "cell_type": "markdown",
   "metadata": {},
   "source": [
    "### Функция n-gram extractor (save order (3,8))\n",
    "Based on my Simple algorithm"
   ]
  },
  {
   "cell_type": "markdown",
   "metadata": {},
   "source": [
    "Input: [(org_id + org_name, gene_id, gene_seq)]\n",
    "\n",
    "Output: [(org_id + org_name, gene_id, gene_seq, [ngram_seq])]"
   ]
  },
  {
   "cell_type": "code",
   "execution_count": 53,
   "metadata": {},
   "outputs": [],
   "source": [
    "def ngram_extractor_csv(file_name, org_g_lst, n_min=3, n_max=3):\n",
    "    ngram_range = list(range(n_min, n_max+1))\n",
    "    \n",
    "    with open(file_name, mode='w') as ngrams_file:\n",
    "        ngrams_writer = csv.writer(ngrams_file, delimiter=',',\n",
    "                                   quotechar='\"', quoting=csv.QUOTE_MINIMAL)\n",
    "        \n",
    "        start = timer()\n",
    "        \n",
    "        for (g_num, (org, g_id, g_seq)) in enumerate(org_g_lst):\n",
    "            if(g_num) % 50 == 0:\n",
    "                print(f'time: {timer()-start:.2} sec\\tid_gene={g_num}')\n",
    "            \n",
    "            ngrams_with_order = []\n",
    "            \n",
    "            [ngrams_with_order.append(g_seq[indx:indx+n])\n",
    "             for indx in range(len(g_seq))\n",
    "             for n in ngram_range]\n",
    "        \n",
    "            ngrams_with_order = [ngram for ngram in ngrams_with_order\n",
    "                                 if len(ngram) >= min(ngram_range)]\n",
    "        \n",
    "            ngrams_with_order_unique = sorted(set(ngrams_with_order), key=ngrams_with_order.index)\n",
    "\n",
    "            ngrams_writer.writerow((org, g_id, g_seq, ngrams_with_order_unique))"
   ]
  },
  {
   "cell_type": "code",
   "execution_count": 54,
   "metadata": {},
   "outputs": [
    {
     "name": "stdout",
     "output_type": "stream",
     "text": [
      "time: 4.3e-06 sec\tid_gene=0\n",
      "time: 4.3e+01 sec\tid_gene=50\n",
      "time: 9.7e+01 sec\tid_gene=100\n",
      "time: 1.3e+02 sec\tid_gene=150\n",
      "time: 1.9e+02 sec\tid_gene=200\n",
      "time: 2.2e+02 sec\tid_gene=250\n",
      "time: 2.6e+02 sec\tid_gene=300\n",
      "time: 4.2e+02 sec\tid_gene=350\n",
      "time: 4.7e+02 sec\tid_gene=400\n",
      "time: 5.1e+02 sec\tid_gene=450\n"
     ]
    }
   ],
   "source": [
    "ngram_extractor_csv('gene_ngrams_1.csv', org_gene_lst[:500], n_min=3, n_max=8)"
   ]
  },
  {
   "cell_type": "code",
   "execution_count": null,
   "metadata": {},
   "outputs": [],
   "source": [
    "#ngram_extractor_csv('gene_ngrams_0_4999.csv', org_gene_lst[:5000], n_min=3, n_max=8)"
   ]
  },
  {
   "cell_type": "markdown",
   "metadata": {},
   "source": [
    "### Using nltk.util.ngrams()"
   ]
  },
  {
   "cell_type": "code",
   "execution_count": null,
   "metadata": {},
   "outputs": [],
   "source": [
    "#http://www.nltk.org/_modules/nltk/util.html"
   ]
  },
  {
   "cell_type": "code",
   "execution_count": 62,
   "metadata": {},
   "outputs": [
    {
     "data": {
      "text/plain": [
       "[('A', 'T', 'G'),\n",
       " ('T', 'G', 'A'),\n",
       " ('G', 'A', 'C'),\n",
       " ('A', 'C', 'G'),\n",
       " ('C', 'G', 'T')]"
      ]
     },
     "execution_count": 62,
     "metadata": {},
     "output_type": "execute_result"
    }
   ],
   "source": [
    "gene_x_3grams = list(ngrams(gene_x, 3))\n",
    "gene_x_3grams[:5]"
   ]
  },
  {
   "cell_type": "code",
   "execution_count": 63,
   "metadata": {
    "scrolled": true
   },
   "outputs": [
    {
     "data": {
      "text/plain": [
       "[('A', 'T', 'G'),\n",
       " ('T', 'G', 'A'),\n",
       " ('G', 'A', 'C'),\n",
       " ('A', 'C', 'G'),\n",
       " ('C', 'G', 'T')]"
      ]
     },
     "execution_count": 63,
     "metadata": {},
     "output_type": "execute_result"
    }
   ],
   "source": [
    "gene_x_3grams_unique = sorted(set(gene_x_3grams), key=gene_x_3grams.index)\n",
    "gene_x_3grams_unique[:5]"
   ]
  },
  {
   "cell_type": "code",
   "execution_count": 43,
   "metadata": {},
   "outputs": [
    {
     "data": {
      "text/plain": [
       "(253, 63)"
      ]
     },
     "execution_count": 43,
     "metadata": {},
     "output_type": "execute_result"
    }
   ],
   "source": [
    "len(gene_x_3grams), len(gene_x_3grams_unique)"
   ]
  },
  {
   "cell_type": "code",
   "execution_count": 61,
   "metadata": {},
   "outputs": [
    {
     "name": "stdout",
     "output_type": "stream",
     "text": [
      "['ATG', 'TGA', 'GAC', 'ACG', 'CGT', 'GTC', 'TCA', 'CAA', 'AAA', 'AAT', 'ATC', 'CAT', 'TGC', 'GCC', 'CCC', 'CCT', 'CTT', 'TTA', 'TAT', 'ACC', 'CTG', 'TGG', 'GGG', 'GGC', 'GCT', 'CTA', 'TAC', 'ACA', 'CAC', 'GTG', 'GCA', 'CAG', 'AGA', 'GAA', 'AAC', 'AAG', 'AGG', 'AGC', 'GCG', 'CGA', 'CCG', 'CGC', 'GAG', 'GGT', 'GTT', 'TAA', 'CCA', 'TCC', 'TCT', 'TGT', 'TTC', 'CTC', 'AGT', 'TCG', 'CGG', 'GGA', 'GAT', 'ACT', 'TAG', 'GTA', 'ATA', 'TTG', 'TTT']\n"
     ]
    }
   ],
   "source": [
    "gene_x_3grams_unique_lst = [''.join(ngram) for ngram in gene_x_3grams_unique]\n",
    "print(gene_x_3grams_unique_lst)"
   ]
  },
  {
   "cell_type": "markdown",
   "metadata": {},
   "source": [
    "using nltk.util.ngrams() is faster than Simple extract algorithm\n",
    "\n",
    "3-grams -> 53 sec < 1 min\n",
    "\n",
    "(3,4)-grams -> 270 sec = 4.5 min\n",
    "\n",
    "(3,5)-grams ~ 16 min\n",
    "\n",
    "(3,6)-grams ~ 42 min\n",
    "\n",
    "(3,8)-grams ~ 2 h"
   ]
  },
  {
   "cell_type": "code",
   "execution_count": 6,
   "metadata": {},
   "outputs": [],
   "source": [
    "def get_ngrams_for_gene(id_gene, gene_seq, n_min=3, n_max=3):\n",
    "    if(id_gene % 3000) == 0:\n",
    "        print(f'time: {timer()}\\tid_gene={id_gene}')\n",
    "    \n",
    "    gene_ngrams = []\n",
    "    \n",
    "    for n in range(n_min, n_max+1):\n",
    "        ngrams_lst = list(ngrams(gene_seq, n))\n",
    "        ngrams_set = sorted(set(ngrams_lst), key=ngrams_lst.index)\n",
    "        ngrams_set = [''.join(ngram) for ngram in ngrams_set]\n",
    "        \n",
    "        gene_ngrams.append(ngrams_set)\n",
    "    \n",
    "    return (gene_seq, gene_ngrams)"
   ]
  },
  {
   "cell_type": "code",
   "execution_count": 19,
   "metadata": {
    "scrolled": true
   },
   "outputs": [
    {
     "name": "stdout",
     "output_type": "stream",
     "text": [
      "ngram_range = (3, 4)\n",
      "\n",
      "time: 24006.613189151\tid_gene=0\n",
      "time: 24022.129358984\tid_gene=3000\n",
      "time: 24038.056454398\tid_gene=6000\n",
      "time: 24054.63016484\tid_gene=9000\n",
      "time: 24070.315974468\tid_gene=12000\n",
      "time: 24086.111833888\tid_gene=15000\n",
      "time: 24102.331006637\tid_gene=18000\n",
      "time: 24117.754916375\tid_gene=21000\n",
      "time: 24136.004660633\tid_gene=24000\n",
      "time: 24152.586541377\tid_gene=27000\n",
      "time: 24168.053311949\tid_gene=30000\n",
      "time: 24182.75913325\tid_gene=33000\n",
      "time: 24198.325440516\tid_gene=36000\n",
      "time: 24214.066148711\tid_gene=39000\n",
      "time: 24229.430968752\tid_gene=42000\n",
      "time: 24244.581115966\tid_gene=45000\n",
      "time: 24308.284221694\tid_gene=48000\n",
      "\n",
      "end time: 24318.329087161\n",
      "\n",
      "common time: 3.1e+02 sec\n"
     ]
    }
   ],
   "source": [
    "ngram_range_min = 3\n",
    "ngram_range_max = 4\n",
    "\n",
    "start = timer()\n",
    "print(f'ngram_range = ({ngram_range_min}, {ngram_range_max})\\n')\n",
    "\n",
    "nltk_gene_ngrams = [get_ngrams_for_gene(id_gene, gene, n_min=ngram_range_min, n_max=ngram_range_max)\n",
    "                    for (id_gene, gene) in enumerate(all_genes_list)]\n",
    "\n",
    "end = timer()\n",
    "print(f'\\nend time: {end}')\n",
    "print(f'\\ncommon time: {end - start:.2} sec')"
   ]
  },
  {
   "cell_type": "code",
   "execution_count": 20,
   "metadata": {},
   "outputs": [
    {
     "name": "stdout",
     "output_type": "stream",
     "text": [
      "('ATGACGTCAAATCATCATGCCCCTTATGACCTGGGCTACACACGTGCTACAATGGGCAGAACAAAGGGCAGCGAAACCGCGAGGTTAAGCCAATCCCACAAATCTGTTCTCAGTTCGGATCGCAGTCTGCAACTCGACTGCGTGAAGCTGGAATCGCTAGTAATCGCGGATCAGCATGCCGCGGTGAATACGTTCCCGGGCCTTGTACACACCGCCCGTCACACCACGAGAGTTTGTAACACCCGAAGTCGGTGA', [['ATG', 'TGA', 'GAC', 'ACG', 'CGT', 'GTC', 'TCA', 'CAA', 'AAA', 'AAT', 'ATC', 'CAT', 'TGC', 'GCC', 'CCC', 'CCT', 'CTT', 'TTA', 'TAT', 'ACC', 'CTG', 'TGG', 'GGG', 'GGC', 'GCT', 'CTA', 'TAC', 'ACA', 'CAC', 'GTG', 'GCA', 'CAG', 'AGA', 'GAA', 'AAC', 'AAG', 'AGG', 'AGC', 'GCG', 'CGA', 'CCG', 'CGC', 'GAG', 'GGT', 'GTT', 'TAA', 'CCA', 'TCC', 'TCT', 'TGT', 'TTC', 'CTC', 'AGT', 'TCG', 'CGG', 'GGA', 'GAT', 'ACT', 'TAG', 'GTA', 'ATA', 'TTG', 'TTT'], ['ATGA', 'TGAC', 'GACG', 'ACGT', 'CGTC', 'GTCA', 'TCAA', 'CAAA', 'AAAT', 'AATC', 'ATCA', 'TCAT', 'CATC', 'CATG', 'ATGC', 'TGCC', 'GCCC', 'CCCC', 'CCCT', 'CCTT', 'CTTA', 'TTAT', 'TATG', 'GACC', 'ACCT', 'CCTG', 'CTGG', 'TGGG', 'GGGC', 'GGCT', 'GCTA', 'CTAC', 'TACA', 'ACAC', 'CACA', 'CACG', 'CGTG', 'GTGC', 'TGCT', 'ACAA', 'CAAT', 'AATG', 'ATGG', 'GGCA', 'GCAG', 'CAGA', 'AGAA', 'GAAC', 'AACA', 'AAAG', 'AAGG', 'AGGG', 'CAGC', 'AGCG', 'GCGA', 'CGAA', 'GAAA', 'AAAC', 'AACC', 'ACCG', 'CCGC', 'CGCG', 'CGAG', 'GAGG', 'AGGT', 'GGTT', 'GTTA', 'TTAA', 'TAAG', 'AAGC', 'AGCC', 'GCCA', 'CCAA', 'ATCC', 'TCCC', 'CCCA', 'CCAC', 'ATCT', 'TCTG', 'CTGT', 'TGTT', 'GTTC', 'TTCT', 'TCTC', 'CTCA', 'TCAG', 'CAGT', 'AGTT', 'TTCG', 'TCGG', 'CGGA', 'GGAT', 'GATC', 'ATCG', 'TCGC', 'CGCA', 'AGTC', 'GTCT', 'CTGC', 'TGCA', 'GCAA', 'CAAC', 'AACT', 'ACTC', 'CTCG', 'TCGA', 'CGAC', 'GACT', 'ACTG', 'TGCG', 'GCGT', 'GTGA', 'TGAA', 'GAAG', 'AGCT', 'GCTG', 'TGGA', 'GGAA', 'GAAT', 'CGCT', 'CTAG', 'TAGT', 'AGTA', 'GTAA', 'TAAT', 'GCGG', 'AGCA', 'GCAT', 'GCCG', 'CGGT', 'GGTG', 'AATA', 'ATAC', 'TACG', 'CGTT', 'TTCC', 'CCCG', 'CCGG', 'CGGG', 'GGCC', 'GCCT', 'CTTG', 'TTGT', 'TGTA', 'GTAC', 'CACC', 'CGCC', 'CCGT', 'TCAC', 'ACCA', 'ACGA', 'GAGA', 'AGAG', 'GAGT', 'GTTT', 'TTTG', 'TAAC', 'ACCC', 'CCGA', 'AAGT', 'GTCG']])\n"
     ]
    }
   ],
   "source": [
    "print(nltk_gene_ngrams[7])"
   ]
  },
  {
   "cell_type": "code",
   "execution_count": 21,
   "metadata": {},
   "outputs": [
    {
     "data": {
      "text/plain": [
       "49807"
      ]
     },
     "execution_count": 21,
     "metadata": {},
     "output_type": "execute_result"
    }
   ],
   "source": [
    "len(nltk_gene_ngrams)"
   ]
  }
 ],
 "metadata": {
  "kernelspec": {
   "display_name": "Python 3",
   "language": "python",
   "name": "python3"
  },
  "language_info": {
   "codemirror_mode": {
    "name": "ipython",
    "version": 3
   },
   "file_extension": ".py",
   "mimetype": "text/x-python",
   "name": "python",
   "nbconvert_exporter": "python",
   "pygments_lexer": "ipython3",
   "version": "3.7.3"
  }
 },
 "nbformat": 4,
 "nbformat_minor": 2
}
