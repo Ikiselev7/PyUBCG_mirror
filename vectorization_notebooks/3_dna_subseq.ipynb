{
 "cells": [
  {
   "cell_type": "markdown",
   "metadata": {},
   "source": [
    "Started 30.05.2019\n",
    "\n",
    "It is first part of word2vec pipeline\n",
    "\n",
    "<b>ngram extractor from gene sequence</b>"
   ]
  },
  {
   "cell_type": "code",
   "execution_count": 1,
   "metadata": {},
   "outputs": [],
   "source": [
    "from Bio import SeqIO\n",
    "from collections import OrderedDict\n",
    "import numpy as np\n",
    "import os\n",
    "from timeit import default_timer as timer"
   ]
  },
  {
   "cell_type": "markdown",
   "metadata": {},
   "source": [
    "### Read seq"
   ]
  },
  {
   "cell_type": "code",
   "execution_count": 2,
   "metadata": {},
   "outputs": [],
   "source": [
    "path_gene_nuc = '../../sf_data/prodigal_output/gene_nuc/'"
   ]
  },
  {
   "cell_type": "code",
   "execution_count": 3,
   "metadata": {},
   "outputs": [
    {
     "data": {
      "text/plain": [
       "['Bacillus_amyloliquefaciens',\n",
       " 'Bacillus_atrophaeus',\n",
       " 'Bacillus_halotolerans',\n",
       " 'Bacillus_licheniformis',\n",
       " 'Bacillus_mojavensis',\n",
       " 'Bacillus_paralicheniformis',\n",
       " 'Bacillus_siamensis',\n",
       " 'Bacillus_sonorensis',\n",
       " 'Bacillus_subtilis',\n",
       " 'Bacillus_tequilensis',\n",
       " 'Bacillus_vallismortis',\n",
       " 'Bacillus_velezensis']"
      ]
     },
     "execution_count": 3,
     "metadata": {},
     "output_type": "execute_result"
    }
   ],
   "source": [
    "organisms_names = [f[:f.index('_', f.index('_') + 1)] for f in os.listdir(path_gene_nuc)]\n",
    "organisms_names"
   ]
  },
  {
   "cell_type": "code",
   "execution_count": 4,
   "metadata": {},
   "outputs": [],
   "source": [
    "full_path_gene_nuc = [path_gene_nuc + f for f in os.listdir(path_gene_nuc)]"
   ]
  },
  {
   "cell_type": "code",
   "execution_count": 5,
   "metadata": {},
   "outputs": [],
   "source": [
    "# Read fasta data with deleting symbol N in nuc seq\n",
    "organisms = [SeqIO.parse(gene_nuc_file, 'fasta') for gene_nuc_file in full_path_gene_nuc]\n",
    "all_genes_list = []\n",
    "\n",
    "for (id_org, organism) in enumerate(organisms):\n",
    "    for gene_record in organism:\n",
    "        all_genes_list.append(str(gene_record.seq).replace('N', ''))"
   ]
  },
  {
   "cell_type": "markdown",
   "metadata": {},
   "source": [
    "### Extract ngrams from one gene (safing order)"
   ]
  },
  {
   "cell_type": "code",
   "execution_count": 9,
   "metadata": {},
   "outputs": [
    {
     "name": "stdout",
     "output_type": "stream",
     "text": [
      "ATGACGTCAAATCATCATGCCCCTTATGACCTGGGCTACACACGTGCTACAATGGGCAGAACAAAGGGCAGCGAAACCGCGAGGTTAAGCCAATCCCACAAATCTGTTCTCAGTTCGGATCGCAGTCTGCAACTCGACTGCGTGAAGCTGGAATCGCTAGTAATCGCGGATCAGCATGCCGCGGTGAATACGTTCCCGGGCCTTGTACACACCGCCCGTCACACCACGAGAGTTTGTAACACCCGAAGTCGGTGA\n",
      "\n",
      "len=255\n"
     ]
    }
   ],
   "source": [
    "# just example\n",
    "gene_x = all_genes_list[7]\n",
    "print(f'{gene_x}\\n\\nlen={len(gene_x)}')"
   ]
  },
  {
   "cell_type": "code",
   "execution_count": 10,
   "metadata": {},
   "outputs": [
    {
     "data": {
      "text/plain": [
       "[3, 4, 5]"
      ]
     },
     "execution_count": 10,
     "metadata": {},
     "output_type": "execute_result"
    }
   ],
   "source": [
    "ngram_range = list(range(3,6))\n",
    "ngram_range"
   ]
  },
  {
   "cell_type": "code",
   "execution_count": 11,
   "metadata": {},
   "outputs": [],
   "source": [
    "ngrams_with_order = []\n",
    "\n",
    "for i in range(len(gene_x)):\n",
    "    for n in ngram_range:\n",
    "        ngrams_with_order.append(gene_x[i:i+n])"
   ]
  },
  {
   "cell_type": "code",
   "execution_count": 12,
   "metadata": {},
   "outputs": [],
   "source": [
    "ngrams_with_order = [ngram for ngram in ngrams_with_order if len(ngram) >= min(ngram_range)]"
   ]
  },
  {
   "cell_type": "code",
   "execution_count": 13,
   "metadata": {
    "scrolled": true
   },
   "outputs": [
    {
     "name": "stdout",
     "output_type": "stream",
     "text": [
      "['ATG', 'ATGA', 'ATGAC', 'TGA', 'TGAC', 'TGACG', 'GAC', 'GACG', 'GACGT', 'ACG', 'ACGT', 'ACGTC', 'CGT', 'CGTC', 'CGTCA', 'GTC', 'GTCA', 'GTCAA', 'TCA', 'TCAA', 'TCAAA', 'CAA', 'CAAA', 'CAAAT', 'AAA', 'AAAT', 'AAATC', 'AAT', 'AATC', 'AATCA', 'ATC', 'ATCA', 'ATCAT', 'TCA', 'TCAT', 'TCATC', 'CAT', 'CATC', 'CATCA', 'ATC', 'ATCA', 'ATCAT', 'TCA', 'TCAT', 'TCATG', 'CAT', 'CATG', 'CATGC', 'ATG', 'ATGC', 'ATGCC', 'TGC', 'TGCC', 'TGCCC', 'GCC', 'GCCC', 'GCCCC', 'CCC', 'CCCC', 'CCCCT', 'CCC', 'CCCT', 'CCCTT', 'CCT', 'CCTT', 'CCTTA', 'CTT', 'CTTA', 'CTTAT', 'TTA', 'TTAT', 'TTATG', 'TAT', 'TATG', 'TATGA', 'ATG', 'ATGA', 'ATGAC', 'TGA', 'TGAC', 'TGACC', 'GAC', 'GACC', 'GACCT', 'ACC', 'ACCT', 'ACCTG', 'CCT', 'CCTG', 'CCTGG', 'CTG', 'CTGG', 'CTGGG', 'TGG', 'TGGG', 'TGGGC', 'GGG', 'GGGC', 'GGGCT', 'GGC', 'GGCT', 'GGCTA', 'GCT', 'GCTA', 'GCTAC', 'CTA', 'CTAC', 'CTACA', 'TAC', 'TACA', 'TACAC', 'ACA', 'ACAC', 'ACACA', 'CAC', 'CACA', 'CACAC', 'ACA', 'ACAC', 'ACACG', 'CAC', 'CACG', 'CACGT', 'ACG', 'ACGT', 'ACGTG', 'CGT', 'CGTG', 'CGTGC', 'GTG', 'GTGC', 'GTGCT', 'TGC', 'TGCT', 'TGCTA', 'GCT', 'GCTA', 'GCTAC', 'CTA', 'CTAC', 'CTACA', 'TAC', 'TACA', 'TACAA', 'ACA', 'ACAA', 'ACAAT', 'CAA', 'CAAT', 'CAATG', 'AAT', 'AATG', 'AATGG', 'ATG', 'ATGG', 'ATGGG', 'TGG', 'TGGG', 'TGGGC', 'GGG', 'GGGC', 'GGGCA', 'GGC', 'GGCA', 'GGCAG', 'GCA', 'GCAG', 'GCAGA', 'CAG', 'CAGA', 'CAGAA', 'AGA', 'AGAA', 'AGAAC', 'GAA', 'GAAC', 'GAACA', 'AAC', 'AACA', 'AACAA', 'ACA', 'ACAA', 'ACAAA', 'CAA', 'CAAA', 'CAAAG', 'AAA', 'AAAG', 'AAAGG', 'AAG', 'AAGG', 'AAGGG', 'AGG', 'AGGG', 'AGGGC', 'GGG', 'GGGC', 'GGGCA', 'GGC', 'GGCA', 'GGCAG', 'GCA', 'GCAG', 'GCAGC', 'CAG', 'CAGC', 'CAGCG', 'AGC', 'AGCG', 'AGCGA', 'GCG', 'GCGA', 'GCGAA', 'CGA', 'CGAA', 'CGAAA', 'GAA', 'GAAA', 'GAAAC', 'AAA', 'AAAC', 'AAACC', 'AAC', 'AACC', 'AACCG', 'ACC', 'ACCG', 'ACCGC', 'CCG', 'CCGC', 'CCGCG', 'CGC', 'CGCG', 'CGCGA', 'GCG', 'GCGA', 'GCGAG', 'CGA', 'CGAG', 'CGAGG', 'GAG', 'GAGG', 'GAGGT', 'AGG', 'AGGT', 'AGGTT', 'GGT', 'GGTT', 'GGTTA', 'GTT', 'GTTA', 'GTTAA', 'TTA', 'TTAA', 'TTAAG', 'TAA', 'TAAG', 'TAAGC', 'AAG', 'AAGC', 'AAGCC', 'AGC', 'AGCC', 'AGCCA', 'GCC', 'GCCA', 'GCCAA', 'CCA', 'CCAA', 'CCAAT', 'CAA', 'CAAT', 'CAATC', 'AAT', 'AATC', 'AATCC', 'ATC', 'ATCC', 'ATCCC', 'TCC', 'TCCC', 'TCCCA', 'CCC', 'CCCA', 'CCCAC', 'CCA', 'CCAC', 'CCACA', 'CAC', 'CACA', 'CACAA', 'ACA', 'ACAA', 'ACAAA', 'CAA', 'CAAA', 'CAAAT', 'AAA', 'AAAT', 'AAATC', 'AAT', 'AATC', 'AATCT', 'ATC', 'ATCT', 'ATCTG', 'TCT', 'TCTG', 'TCTGT', 'CTG', 'CTGT', 'CTGTT', 'TGT', 'TGTT', 'TGTTC', 'GTT', 'GTTC', 'GTTCT', 'TTC', 'TTCT', 'TTCTC', 'TCT', 'TCTC', 'TCTCA', 'CTC', 'CTCA', 'CTCAG', 'TCA', 'TCAG', 'TCAGT', 'CAG', 'CAGT', 'CAGTT', 'AGT', 'AGTT', 'AGTTC', 'GTT', 'GTTC', 'GTTCG', 'TTC', 'TTCG', 'TTCGG', 'TCG', 'TCGG', 'TCGGA', 'CGG', 'CGGA', 'CGGAT', 'GGA', 'GGAT', 'GGATC', 'GAT', 'GATC', 'GATCG', 'ATC', 'ATCG', 'ATCGC', 'TCG', 'TCGC', 'TCGCA', 'CGC', 'CGCA', 'CGCAG', 'GCA', 'GCAG', 'GCAGT', 'CAG', 'CAGT', 'CAGTC', 'AGT', 'AGTC', 'AGTCT', 'GTC', 'GTCT', 'GTCTG', 'TCT', 'TCTG', 'TCTGC', 'CTG', 'CTGC', 'CTGCA', 'TGC', 'TGCA', 'TGCAA', 'GCA', 'GCAA', 'GCAAC', 'CAA', 'CAAC', 'CAACT', 'AAC', 'AACT', 'AACTC', 'ACT', 'ACTC', 'ACTCG', 'CTC', 'CTCG', 'CTCGA', 'TCG', 'TCGA', 'TCGAC', 'CGA', 'CGAC', 'CGACT', 'GAC', 'GACT', 'GACTG', 'ACT', 'ACTG', 'ACTGC', 'CTG', 'CTGC', 'CTGCG', 'TGC', 'TGCG', 'TGCGT', 'GCG', 'GCGT', 'GCGTG', 'CGT', 'CGTG', 'CGTGA', 'GTG', 'GTGA', 'GTGAA', 'TGA', 'TGAA', 'TGAAG', 'GAA', 'GAAG', 'GAAGC', 'AAG', 'AAGC', 'AAGCT', 'AGC', 'AGCT', 'AGCTG', 'GCT', 'GCTG', 'GCTGG', 'CTG', 'CTGG', 'CTGGA', 'TGG', 'TGGA', 'TGGAA', 'GGA', 'GGAA', 'GGAAT', 'GAA', 'GAAT', 'GAATC', 'AAT', 'AATC', 'AATCG', 'ATC', 'ATCG', 'ATCGC', 'TCG', 'TCGC', 'TCGCT', 'CGC', 'CGCT', 'CGCTA', 'GCT', 'GCTA', 'GCTAG', 'CTA', 'CTAG', 'CTAGT', 'TAG', 'TAGT', 'TAGTA', 'AGT', 'AGTA', 'AGTAA', 'GTA', 'GTAA', 'GTAAT', 'TAA', 'TAAT', 'TAATC', 'AAT', 'AATC', 'AATCG', 'ATC', 'ATCG', 'ATCGC', 'TCG', 'TCGC', 'TCGCG', 'CGC', 'CGCG', 'CGCGG', 'GCG', 'GCGG', 'GCGGA', 'CGG', 'CGGA', 'CGGAT', 'GGA', 'GGAT', 'GGATC', 'GAT', 'GATC', 'GATCA', 'ATC', 'ATCA', 'ATCAG', 'TCA', 'TCAG', 'TCAGC', 'CAG', 'CAGC', 'CAGCA', 'AGC', 'AGCA', 'AGCAT', 'GCA', 'GCAT', 'GCATG', 'CAT', 'CATG', 'CATGC', 'ATG', 'ATGC', 'ATGCC', 'TGC', 'TGCC', 'TGCCG', 'GCC', 'GCCG', 'GCCGC', 'CCG', 'CCGC', 'CCGCG', 'CGC', 'CGCG', 'CGCGG', 'GCG', 'GCGG', 'GCGGT', 'CGG', 'CGGT', 'CGGTG', 'GGT', 'GGTG', 'GGTGA', 'GTG', 'GTGA', 'GTGAA', 'TGA', 'TGAA', 'TGAAT', 'GAA', 'GAAT', 'GAATA', 'AAT', 'AATA', 'AATAC', 'ATA', 'ATAC', 'ATACG', 'TAC', 'TACG', 'TACGT', 'ACG', 'ACGT', 'ACGTT', 'CGT', 'CGTT', 'CGTTC', 'GTT', 'GTTC', 'GTTCC', 'TTC', 'TTCC', 'TTCCC', 'TCC', 'TCCC', 'TCCCG', 'CCC', 'CCCG', 'CCCGG', 'CCG', 'CCGG', 'CCGGG', 'CGG', 'CGGG', 'CGGGC', 'GGG', 'GGGC', 'GGGCC', 'GGC', 'GGCC', 'GGCCT', 'GCC', 'GCCT', 'GCCTT', 'CCT', 'CCTT', 'CCTTG', 'CTT', 'CTTG', 'CTTGT', 'TTG', 'TTGT', 'TTGTA', 'TGT', 'TGTA', 'TGTAC', 'GTA', 'GTAC', 'GTACA', 'TAC', 'TACA', 'TACAC', 'ACA', 'ACAC', 'ACACA', 'CAC', 'CACA', 'CACAC', 'ACA', 'ACAC', 'ACACC', 'CAC', 'CACC', 'CACCG', 'ACC', 'ACCG', 'ACCGC', 'CCG', 'CCGC', 'CCGCC', 'CGC', 'CGCC', 'CGCCC', 'GCC', 'GCCC', 'GCCCG', 'CCC', 'CCCG', 'CCCGT', 'CCG', 'CCGT', 'CCGTC', 'CGT', 'CGTC', 'CGTCA', 'GTC', 'GTCA', 'GTCAC', 'TCA', 'TCAC', 'TCACA', 'CAC', 'CACA', 'CACAC', 'ACA', 'ACAC', 'ACACC', 'CAC', 'CACC', 'CACCA', 'ACC', 'ACCA', 'ACCAC', 'CCA', 'CCAC', 'CCACG', 'CAC', 'CACG', 'CACGA', 'ACG', 'ACGA', 'ACGAG', 'CGA', 'CGAG', 'CGAGA', 'GAG', 'GAGA', 'GAGAG', 'AGA', 'AGAG', 'AGAGT', 'GAG', 'GAGT', 'GAGTT', 'AGT', 'AGTT', 'AGTTT', 'GTT', 'GTTT', 'GTTTG', 'TTT', 'TTTG', 'TTTGT', 'TTG', 'TTGT', 'TTGTA', 'TGT', 'TGTA', 'TGTAA', 'GTA', 'GTAA', 'GTAAC', 'TAA', 'TAAC', 'TAACA', 'AAC', 'AACA', 'AACAC', 'ACA', 'ACAC', 'ACACC', 'CAC', 'CACC', 'CACCC', 'ACC', 'ACCC', 'ACCCG', 'CCC', 'CCCG', 'CCCGA', 'CCG', 'CCGA', 'CCGAA', 'CGA', 'CGAA', 'CGAAG', 'GAA', 'GAAG', 'GAAGT', 'AAG', 'AAGT', 'AAGTC', 'AGT', 'AGTC', 'AGTCG', 'GTC', 'GTCG', 'GTCGG', 'TCG', 'TCGG', 'TCGGT', 'CGG', 'CGGT', 'CGGTG', 'GGT', 'GGTG', 'GGTGA', 'GTG', 'GTGA', 'GTGA', 'TGA', 'TGA', 'TGA']\n"
     ]
    }
   ],
   "source": [
    "print(ngrams_with_order)"
   ]
  },
  {
   "cell_type": "code",
   "execution_count": 14,
   "metadata": {},
   "outputs": [],
   "source": [
    "# one of the ways to delete duplicates and safe the order\n",
    "# but it may be inefficient because of index\n",
    "ngrams_with_order_unique = sorted(set(ngrams_with_order), key=ngrams_with_order.index)"
   ]
  },
  {
   "cell_type": "code",
   "execution_count": 15,
   "metadata": {
    "scrolled": true
   },
   "outputs": [
    {
     "name": "stdout",
     "output_type": "stream",
     "text": [
      "['ATG', 'ATGA', 'ATGAC', 'TGA', 'TGAC', 'TGACG', 'GAC', 'GACG', 'GACGT', 'ACG', 'ACGT', 'ACGTC', 'CGT', 'CGTC', 'CGTCA', 'GTC', 'GTCA', 'GTCAA', 'TCA', 'TCAA', 'TCAAA', 'CAA', 'CAAA', 'CAAAT', 'AAA', 'AAAT', 'AAATC', 'AAT', 'AATC', 'AATCA', 'ATC', 'ATCA', 'ATCAT', 'TCAT', 'TCATC', 'CAT', 'CATC', 'CATCA', 'TCATG', 'CATG', 'CATGC', 'ATGC', 'ATGCC', 'TGC', 'TGCC', 'TGCCC', 'GCC', 'GCCC', 'GCCCC', 'CCC', 'CCCC', 'CCCCT', 'CCCT', 'CCCTT', 'CCT', 'CCTT', 'CCTTA', 'CTT', 'CTTA', 'CTTAT', 'TTA', 'TTAT', 'TTATG', 'TAT', 'TATG', 'TATGA', 'TGACC', 'GACC', 'GACCT', 'ACC', 'ACCT', 'ACCTG', 'CCTG', 'CCTGG', 'CTG', 'CTGG', 'CTGGG', 'TGG', 'TGGG', 'TGGGC', 'GGG', 'GGGC', 'GGGCT', 'GGC', 'GGCT', 'GGCTA', 'GCT', 'GCTA', 'GCTAC', 'CTA', 'CTAC', 'CTACA', 'TAC', 'TACA', 'TACAC', 'ACA', 'ACAC', 'ACACA', 'CAC', 'CACA', 'CACAC', 'ACACG', 'CACG', 'CACGT', 'ACGTG', 'CGTG', 'CGTGC', 'GTG', 'GTGC', 'GTGCT', 'TGCT', 'TGCTA', 'TACAA', 'ACAA', 'ACAAT', 'CAAT', 'CAATG', 'AATG', 'AATGG', 'ATGG', 'ATGGG', 'GGGCA', 'GGCA', 'GGCAG', 'GCA', 'GCAG', 'GCAGA', 'CAG', 'CAGA', 'CAGAA', 'AGA', 'AGAA', 'AGAAC', 'GAA', 'GAAC', 'GAACA', 'AAC', 'AACA', 'AACAA', 'ACAAA', 'CAAAG', 'AAAG', 'AAAGG', 'AAG', 'AAGG', 'AAGGG', 'AGG', 'AGGG', 'AGGGC', 'GCAGC', 'CAGC', 'CAGCG', 'AGC', 'AGCG', 'AGCGA', 'GCG', 'GCGA', 'GCGAA', 'CGA', 'CGAA', 'CGAAA', 'GAAA', 'GAAAC', 'AAAC', 'AAACC', 'AACC', 'AACCG', 'ACCG', 'ACCGC', 'CCG', 'CCGC', 'CCGCG', 'CGC', 'CGCG', 'CGCGA', 'GCGAG', 'CGAG', 'CGAGG', 'GAG', 'GAGG', 'GAGGT', 'AGGT', 'AGGTT', 'GGT', 'GGTT', 'GGTTA', 'GTT', 'GTTA', 'GTTAA', 'TTAA', 'TTAAG', 'TAA', 'TAAG', 'TAAGC', 'AAGC', 'AAGCC', 'AGCC', 'AGCCA', 'GCCA', 'GCCAA', 'CCA', 'CCAA', 'CCAAT', 'CAATC', 'AATCC', 'ATCC', 'ATCCC', 'TCC', 'TCCC', 'TCCCA', 'CCCA', 'CCCAC', 'CCAC', 'CCACA', 'CACAA', 'AATCT', 'ATCT', 'ATCTG', 'TCT', 'TCTG', 'TCTGT', 'CTGT', 'CTGTT', 'TGT', 'TGTT', 'TGTTC', 'GTTC', 'GTTCT', 'TTC', 'TTCT', 'TTCTC', 'TCTC', 'TCTCA', 'CTC', 'CTCA', 'CTCAG', 'TCAG', 'TCAGT', 'CAGT', 'CAGTT', 'AGT', 'AGTT', 'AGTTC', 'GTTCG', 'TTCG', 'TTCGG', 'TCG', 'TCGG', 'TCGGA', 'CGG', 'CGGA', 'CGGAT', 'GGA', 'GGAT', 'GGATC', 'GAT', 'GATC', 'GATCG', 'ATCG', 'ATCGC', 'TCGC', 'TCGCA', 'CGCA', 'CGCAG', 'GCAGT', 'CAGTC', 'AGTC', 'AGTCT', 'GTCT', 'GTCTG', 'TCTGC', 'CTGC', 'CTGCA', 'TGCA', 'TGCAA', 'GCAA', 'GCAAC', 'CAAC', 'CAACT', 'AACT', 'AACTC', 'ACT', 'ACTC', 'ACTCG', 'CTCG', 'CTCGA', 'TCGA', 'TCGAC', 'CGAC', 'CGACT', 'GACT', 'GACTG', 'ACTG', 'ACTGC', 'CTGCG', 'TGCG', 'TGCGT', 'GCGT', 'GCGTG', 'CGTGA', 'GTGA', 'GTGAA', 'TGAA', 'TGAAG', 'GAAG', 'GAAGC', 'AAGCT', 'AGCT', 'AGCTG', 'GCTG', 'GCTGG', 'CTGGA', 'TGGA', 'TGGAA', 'GGAA', 'GGAAT', 'GAAT', 'GAATC', 'AATCG', 'TCGCT', 'CGCT', 'CGCTA', 'GCTAG', 'CTAG', 'CTAGT', 'TAG', 'TAGT', 'TAGTA', 'AGTA', 'AGTAA', 'GTA', 'GTAA', 'GTAAT', 'TAAT', 'TAATC', 'TCGCG', 'CGCGG', 'GCGG', 'GCGGA', 'GATCA', 'ATCAG', 'TCAGC', 'CAGCA', 'AGCA', 'AGCAT', 'GCAT', 'GCATG', 'TGCCG', 'GCCG', 'GCCGC', 'GCGGT', 'CGGT', 'CGGTG', 'GGTG', 'GGTGA', 'TGAAT', 'GAATA', 'AATA', 'AATAC', 'ATA', 'ATAC', 'ATACG', 'TACG', 'TACGT', 'ACGTT', 'CGTT', 'CGTTC', 'GTTCC', 'TTCC', 'TTCCC', 'TCCCG', 'CCCG', 'CCCGG', 'CCGG', 'CCGGG', 'CGGG', 'CGGGC', 'GGGCC', 'GGCC', 'GGCCT', 'GCCT', 'GCCTT', 'CCTTG', 'CTTG', 'CTTGT', 'TTG', 'TTGT', 'TTGTA', 'TGTA', 'TGTAC', 'GTAC', 'GTACA', 'ACACC', 'CACC', 'CACCG', 'CCGCC', 'CGCC', 'CGCCC', 'GCCCG', 'CCCGT', 'CCGT', 'CCGTC', 'GTCAC', 'TCAC', 'TCACA', 'CACCA', 'ACCA', 'ACCAC', 'CCACG', 'CACGA', 'ACGA', 'ACGAG', 'CGAGA', 'GAGA', 'GAGAG', 'AGAG', 'AGAGT', 'GAGT', 'GAGTT', 'AGTTT', 'GTTT', 'GTTTG', 'TTT', 'TTTG', 'TTTGT', 'TGTAA', 'GTAAC', 'TAAC', 'TAACA', 'AACAC', 'CACCC', 'ACCC', 'ACCCG', 'CCCGA', 'CCGA', 'CCGAA', 'CGAAG', 'GAAGT', 'AAGT', 'AAGTC', 'AGTCG', 'GTCG', 'GTCGG', 'TCGGT']\n"
     ]
    }
   ],
   "source": [
    "print(ngrams_with_order_unique)"
   ]
  },
  {
   "cell_type": "code",
   "execution_count": 16,
   "metadata": {},
   "outputs": [
    {
     "name": "stdout",
     "output_type": "stream",
     "text": [
      "759, 444\n"
     ]
    }
   ],
   "source": [
    "print(f'{len(ngrams_with_order)}, {len(ngrams_with_order_unique)}')"
   ]
  },
  {
   "cell_type": "markdown",
   "metadata": {},
   "source": [
    "### Extract ngrams from list of genes (saving order for each gene)"
   ]
  },
  {
   "cell_type": "markdown",
   "metadata": {},
   "source": [
    "Time Statistics\n",
    "\n",
    "For all genes (49807):\n",
    "\n",
    "(3,4)-grams = 320 sec = 5.3 min\n",
    "\n",
    "(3,5)-grams = ... too long"
   ]
  },
  {
   "cell_type": "code",
   "execution_count": 17,
   "metadata": {},
   "outputs": [
    {
     "data": {
      "text/plain": [
       "49807"
      ]
     },
     "execution_count": 17,
     "metadata": {},
     "output_type": "execute_result"
    }
   ],
   "source": [
    "len(all_genes_list)"
   ]
  },
  {
   "cell_type": "code",
   "execution_count": 18,
   "metadata": {},
   "outputs": [
    {
     "data": {
      "text/plain": [
       "[3, 4]"
      ]
     },
     "execution_count": 18,
     "metadata": {},
     "output_type": "execute_result"
    }
   ],
   "source": [
    "ngram_range = list(range(3,5))\n",
    "ngram_range"
   ]
  },
  {
   "cell_type": "code",
   "execution_count": 19,
   "metadata": {},
   "outputs": [
    {
     "name": "stdout",
     "output_type": "stream",
     "text": [
      "3.2e+02 sec\n"
     ]
    }
   ],
   "source": [
    "start = timer()\n",
    "\n",
    "gene_ngrams = []\n",
    "\n",
    "for gene in all_genes_list:\n",
    "    ngrams_with_order = []\n",
    "    \n",
    "    [ngrams_with_order.append(gene[indx:indx+n])\n",
    "     for indx in range(len(gene)) for n in ngram_range]\n",
    "    \n",
    "    ngrams_with_order = [ngram for ngram in ngrams_with_order if len(ngram) >= min(ngram_range)]\n",
    "    ngrams_with_order_unique = sorted(set(ngrams_with_order), key=ngrams_with_order.index)\n",
    "    \n",
    "    gene_ngrams.append((gene, ngrams_with_order_unique))\n",
    "    \n",
    "end = timer()\n",
    "print(f'{end - start:.2} sec')"
   ]
  },
  {
   "cell_type": "code",
   "execution_count": 20,
   "metadata": {},
   "outputs": [
    {
     "name": "stdout",
     "output_type": "stream",
     "text": [
      "('ATGACGTCAAATCATCATGCCCCTTATGACCTGGGCTACACACGTGCTACAATGGGCAGAACAAAGGGCAGCGAAACCGCGAGGTTAAGCCAATCCCACAAATCTGTTCTCAGTTCGGATCGCAGTCTGCAACTCGACTGCGTGAAGCTGGAATCGCTAGTAATCGCGGATCAGCATGCCGCGGTGAATACGTTCCCGGGCCTTGTACACACCGCCCGTCACACCACGAGAGTTTGTAACACCCGAAGTCGGTGA', ['ATG', 'ATGA', 'TGA', 'TGAC', 'GAC', 'GACG', 'ACG', 'ACGT', 'CGT', 'CGTC', 'GTC', 'GTCA', 'TCA', 'TCAA', 'CAA', 'CAAA', 'AAA', 'AAAT', 'AAT', 'AATC', 'ATC', 'ATCA', 'TCAT', 'CAT', 'CATC', 'CATG', 'ATGC', 'TGC', 'TGCC', 'GCC', 'GCCC', 'CCC', 'CCCC', 'CCCT', 'CCT', 'CCTT', 'CTT', 'CTTA', 'TTA', 'TTAT', 'TAT', 'TATG', 'GACC', 'ACC', 'ACCT', 'CCTG', 'CTG', 'CTGG', 'TGG', 'TGGG', 'GGG', 'GGGC', 'GGC', 'GGCT', 'GCT', 'GCTA', 'CTA', 'CTAC', 'TAC', 'TACA', 'ACA', 'ACAC', 'CAC', 'CACA', 'CACG', 'CGTG', 'GTG', 'GTGC', 'TGCT', 'ACAA', 'CAAT', 'AATG', 'ATGG', 'GGCA', 'GCA', 'GCAG', 'CAG', 'CAGA', 'AGA', 'AGAA', 'GAA', 'GAAC', 'AAC', 'AACA', 'AAAG', 'AAG', 'AAGG', 'AGG', 'AGGG', 'CAGC', 'AGC', 'AGCG', 'GCG', 'GCGA', 'CGA', 'CGAA', 'GAAA', 'AAAC', 'AACC', 'ACCG', 'CCG', 'CCGC', 'CGC', 'CGCG', 'CGAG', 'GAG', 'GAGG', 'AGGT', 'GGT', 'GGTT', 'GTT', 'GTTA', 'TTAA', 'TAA', 'TAAG', 'AAGC', 'AGCC', 'GCCA', 'CCA', 'CCAA', 'ATCC', 'TCC', 'TCCC', 'CCCA', 'CCAC', 'ATCT', 'TCT', 'TCTG', 'CTGT', 'TGT', 'TGTT', 'GTTC', 'TTC', 'TTCT', 'TCTC', 'CTC', 'CTCA', 'TCAG', 'CAGT', 'AGT', 'AGTT', 'TTCG', 'TCG', 'TCGG', 'CGG', 'CGGA', 'GGA', 'GGAT', 'GAT', 'GATC', 'ATCG', 'TCGC', 'CGCA', 'AGTC', 'GTCT', 'CTGC', 'TGCA', 'GCAA', 'CAAC', 'AACT', 'ACT', 'ACTC', 'CTCG', 'TCGA', 'CGAC', 'GACT', 'ACTG', 'TGCG', 'GCGT', 'GTGA', 'TGAA', 'GAAG', 'AGCT', 'GCTG', 'TGGA', 'GGAA', 'GAAT', 'CGCT', 'CTAG', 'TAG', 'TAGT', 'AGTA', 'GTA', 'GTAA', 'TAAT', 'GCGG', 'AGCA', 'GCAT', 'GCCG', 'CGGT', 'GGTG', 'AATA', 'ATA', 'ATAC', 'TACG', 'CGTT', 'TTCC', 'CCCG', 'CCGG', 'CGGG', 'GGCC', 'GCCT', 'CTTG', 'TTG', 'TTGT', 'TGTA', 'GTAC', 'CACC', 'CGCC', 'CCGT', 'TCAC', 'ACCA', 'ACGA', 'GAGA', 'AGAG', 'GAGT', 'GTTT', 'TTT', 'TTTG', 'TAAC', 'ACCC', 'CCGA', 'AAGT', 'GTCG'])\n"
     ]
    }
   ],
   "source": [
    "print(gene_ngrams[7])"
   ]
  },
  {
   "cell_type": "code",
   "execution_count": 21,
   "metadata": {},
   "outputs": [
    {
     "data": {
      "text/plain": [
       "49807"
      ]
     },
     "execution_count": 21,
     "metadata": {},
     "output_type": "execute_result"
    }
   ],
   "source": [
    "len(gene_ngrams)"
   ]
  },
  {
   "cell_type": "code",
   "execution_count": null,
   "metadata": {},
   "outputs": [],
   "source": []
  },
  {
   "cell_type": "code",
   "execution_count": null,
   "metadata": {},
   "outputs": [],
   "source": []
  },
  {
   "cell_type": "code",
   "execution_count": null,
   "metadata": {},
   "outputs": [],
   "source": []
  },
  {
   "cell_type": "code",
   "execution_count": null,
   "metadata": {},
   "outputs": [],
   "source": []
  }
 ],
 "metadata": {
  "kernelspec": {
   "display_name": "Python 3",
   "language": "python",
   "name": "python3"
  },
  "language_info": {
   "codemirror_mode": {
    "name": "ipython",
    "version": 3
   },
   "file_extension": ".py",
   "mimetype": "text/x-python",
   "name": "python",
   "nbconvert_exporter": "python",
   "pygments_lexer": "ipython3",
   "version": "3.7.3"
  }
 },
 "nbformat": 4,
 "nbformat_minor": 2
}
