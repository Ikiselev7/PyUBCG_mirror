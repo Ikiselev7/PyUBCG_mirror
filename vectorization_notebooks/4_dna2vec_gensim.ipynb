{
 "cells": [
  {
   "cell_type": "code",
   "execution_count": 1,
   "metadata": {},
   "outputs": [],
   "source": [
    "import os\n",
    "from timeit import default_timer as timer\n",
    "\n",
    "import warnings\n",
    "warnings.filterwarnings('ignore')\n",
    "\n",
    "import pandas as pd\n",
    "import numpy as np\n",
    "from Bio import SeqIO\n",
    "from gensim.models import Word2Vec\n",
    "\n",
    "import multiprocessing"
   ]
  },
  {
   "cell_type": "markdown",
   "metadata": {},
   "source": [
    "### Read .fasta files (49000 genes)"
   ]
  },
  {
   "cell_type": "code",
   "execution_count": 2,
   "metadata": {},
   "outputs": [],
   "source": [
    "path_gene_nuc = '../../sf_data/prodigal_output/gene_nuc/'\n",
    "organisms_names = [f[:f.index('_', f.index('_') + 1)] for f in os.listdir(path_gene_nuc)]\n",
    "full_path_gene_nuc = [path_gene_nuc + f for f in os.listdir(path_gene_nuc)]"
   ]
  },
  {
   "cell_type": "code",
   "execution_count": 3,
   "metadata": {},
   "outputs": [],
   "source": [
    "organisms = [SeqIO.parse(gene_nuc_file, 'fasta') for gene_nuc_file in full_path_gene_nuc]\n",
    "org_gene_lst = []\n",
    "\n",
    "for (id_org, organism), org_name in zip(enumerate(organisms), organisms_names):\n",
    "    for gene_record in organism:\n",
    "        org_gene_lst.append(('_'.join((str(id_org), org_name)), gene_record.id,\n",
    "                             str(gene_record.seq).replace('N', '')))"
   ]
  },
  {
   "cell_type": "code",
   "execution_count": 4,
   "metadata": {},
   "outputs": [],
   "source": [
    "del path_gene_nuc\n",
    "del organisms\n",
    "del organisms_names\n",
    "del full_path_gene_nuc"
   ]
  },
  {
   "cell_type": "code",
   "execution_count": 5,
   "metadata": {},
   "outputs": [
    {
     "data": {
      "text/plain": [
       "49807"
      ]
     },
     "execution_count": 5,
     "metadata": {},
     "output_type": "execute_result"
    }
   ],
   "source": [
    "len(org_gene_lst)"
   ]
  },
  {
   "cell_type": "code",
   "execution_count": 6,
   "metadata": {},
   "outputs": [
    {
     "data": {
      "text/plain": [
       "('0_Bacillus_amyloliquefaciens',\n",
       " 'NC_014551.1_8',\n",
       " 'ATGACGTCAAATCATCATGCCCCTTATGACCTGGGCTACACACGTGCTACAATGGGCAGAACAAAGGGCAGCGAAACCGCGAGGTTAAGCCAATCCCACAAATCTGTTCTCAGTTCGGATCGCAGTCTGCAACTCGACTGCGTGAAGCTGGAATCGCTAGTAATCGCGGATCAGCATGCCGCGGTGAATACGTTCCCGGGCCTTGTACACACCGCCCGTCACACCACGAGAGTTTGTAACACCCGAAGTCGGTGA')"
      ]
     },
     "execution_count": 6,
     "metadata": {},
     "output_type": "execute_result"
    }
   ],
   "source": [
    "org_gene_lst[7]"
   ]
  },
  {
   "cell_type": "markdown",
   "metadata": {},
   "source": [
    "### Extract ngrams (5grams)"
   ]
  },
  {
   "cell_type": "code",
   "execution_count": 7,
   "metadata": {},
   "outputs": [],
   "source": [
    "def ngram_extractor2(org_g_lst, n_min=3, n_max=3):\n",
    "    ngram_range = list(range(min(n_min,n_max), max(n_min+1, n_max+1)))\n",
    "    \n",
    "    ngrams_result = []\n",
    "    \n",
    "    start = timer()\n",
    "    for (g_num, (org, g_id, g_seq)) in enumerate(org_g_lst):\n",
    "        if(g_num) % 100 == 0:\n",
    "            print(f'time: {timer()-start:.2} sec\\tid_gene={g_num}')\n",
    "        \n",
    "        ngrams_with_order = []\n",
    "        \n",
    "        [ngrams_with_order.append(g_seq[indx:indx+n])\n",
    "         for indx in range(len(g_seq) - (n_min-1))\n",
    "         for n in ngram_range\n",
    "         if (indx+n) <= len(g_seq)]\n",
    "        \n",
    "        ngrams_result.append(ngrams_with_order)\n",
    "        \n",
    "    return ngrams_result"
   ]
  },
  {
   "cell_type": "code",
   "execution_count": 8,
   "metadata": {
    "scrolled": true
   },
   "outputs": [
    {
     "name": "stdout",
     "output_type": "stream",
     "text": [
      "time: 1.8e-06 sec\tid_gene=0\n",
      "time: 0.096 sec\tid_gene=100\n",
      "time: 0.18 sec\tid_gene=200\n",
      "time: 0.28 sec\tid_gene=300\n",
      "time: 0.39 sec\tid_gene=400\n",
      "time: 0.45 sec\tid_gene=500\n",
      "time: 0.52 sec\tid_gene=600\n",
      "time: 0.62 sec\tid_gene=700\n",
      "time: 0.73 sec\tid_gene=800\n",
      "time: 0.8 sec\tid_gene=900\n",
      "time: 0.85 sec\tid_gene=1000\n",
      "time: 0.93 sec\tid_gene=1100\n",
      "time: 1.0 sec\tid_gene=1200\n",
      "time: 1.1 sec\tid_gene=1300\n",
      "time: 1.2 sec\tid_gene=1400\n",
      "time: 1.3 sec\tid_gene=1500\n",
      "time: 1.3 sec\tid_gene=1600\n",
      "time: 1.4 sec\tid_gene=1700\n",
      "time: 1.5 sec\tid_gene=1800\n",
      "time: 1.7 sec\tid_gene=1900\n",
      "time: 1.8 sec\tid_gene=2000\n",
      "time: 1.9 sec\tid_gene=2100\n",
      "time: 1.9 sec\tid_gene=2200\n",
      "time: 2.0 sec\tid_gene=2300\n",
      "time: 2.1 sec\tid_gene=2400\n",
      "time: 2.2 sec\tid_gene=2500\n",
      "time: 2.3 sec\tid_gene=2600\n",
      "time: 2.4 sec\tid_gene=2700\n",
      "time: 2.5 sec\tid_gene=2800\n",
      "time: 2.5 sec\tid_gene=2900\n",
      "time: 2.6 sec\tid_gene=3000\n",
      "time: 2.7 sec\tid_gene=3100\n",
      "time: 2.8 sec\tid_gene=3200\n",
      "time: 2.9 sec\tid_gene=3300\n",
      "time: 3.0 sec\tid_gene=3400\n",
      "time: 3.1 sec\tid_gene=3500\n",
      "time: 3.2 sec\tid_gene=3600\n",
      "time: 3.2 sec\tid_gene=3700\n",
      "time: 3.3 sec\tid_gene=3800\n",
      "time: 3.4 sec\tid_gene=3900\n",
      "time: 3.5 sec\tid_gene=4000\n",
      "time: 3.6 sec\tid_gene=4100\n",
      "time: 3.7 sec\tid_gene=4200\n",
      "time: 3.8 sec\tid_gene=4300\n",
      "time: 3.9 sec\tid_gene=4400\n",
      "time: 4.0 sec\tid_gene=4500\n",
      "time: 4.0 sec\tid_gene=4600\n",
      "time: 4.1 sec\tid_gene=4700\n",
      "time: 4.2 sec\tid_gene=4800\n",
      "time: 4.3 sec\tid_gene=4900\n",
      "time: 4.4 sec\tid_gene=5000\n",
      "time: 4.5 sec\tid_gene=5100\n",
      "time: 4.6 sec\tid_gene=5200\n",
      "time: 4.7 sec\tid_gene=5300\n",
      "time: 4.8 sec\tid_gene=5400\n",
      "time: 4.9 sec\tid_gene=5500\n",
      "time: 5.0 sec\tid_gene=5600\n",
      "time: 5.0 sec\tid_gene=5700\n",
      "time: 5.1 sec\tid_gene=5800\n",
      "time: 5.2 sec\tid_gene=5900\n",
      "time: 5.3 sec\tid_gene=6000\n",
      "time: 5.4 sec\tid_gene=6100\n",
      "time: 5.5 sec\tid_gene=6200\n",
      "time: 5.5 sec\tid_gene=6300\n",
      "time: 5.7 sec\tid_gene=6400\n",
      "time: 5.8 sec\tid_gene=6500\n",
      "time: 5.9 sec\tid_gene=6600\n",
      "time: 6.0 sec\tid_gene=6700\n",
      "time: 6.3 sec\tid_gene=6800\n",
      "time: 6.4 sec\tid_gene=6900\n",
      "time: 6.5 sec\tid_gene=7000\n",
      "time: 6.6 sec\tid_gene=7100\n",
      "time: 6.6 sec\tid_gene=7200\n",
      "time: 6.7 sec\tid_gene=7300\n",
      "time: 6.8 sec\tid_gene=7400\n",
      "time: 6.9 sec\tid_gene=7500\n",
      "time: 7.0 sec\tid_gene=7600\n",
      "time: 7.0 sec\tid_gene=7700\n",
      "time: 7.1 sec\tid_gene=7800\n",
      "time: 7.2 sec\tid_gene=7900\n",
      "time: 7.3 sec\tid_gene=8000\n",
      "time: 7.4 sec\tid_gene=8100\n",
      "time: 7.5 sec\tid_gene=8200\n",
      "time: 7.6 sec\tid_gene=8300\n",
      "time: 7.7 sec\tid_gene=8400\n",
      "time: 7.8 sec\tid_gene=8500\n",
      "time: 7.8 sec\tid_gene=8600\n",
      "time: 7.9 sec\tid_gene=8700\n",
      "time: 8.0 sec\tid_gene=8800\n",
      "time: 8.1 sec\tid_gene=8900\n",
      "time: 8.2 sec\tid_gene=9000\n",
      "time: 8.3 sec\tid_gene=9100\n",
      "time: 8.4 sec\tid_gene=9200\n",
      "time: 8.5 sec\tid_gene=9300\n",
      "time: 8.6 sec\tid_gene=9400\n",
      "time: 8.6 sec\tid_gene=9500\n",
      "time: 8.7 sec\tid_gene=9600\n",
      "time: 8.8 sec\tid_gene=9700\n",
      "time: 8.9 sec\tid_gene=9800\n",
      "time: 9.0 sec\tid_gene=9900\n",
      "time: 9.0 sec\tid_gene=10000\n",
      "time: 9.1 sec\tid_gene=10100\n",
      "time: 9.2 sec\tid_gene=10200\n",
      "time: 9.3 sec\tid_gene=10300\n",
      "time: 9.4 sec\tid_gene=10400\n",
      "time: 9.5 sec\tid_gene=10500\n",
      "time: 9.6 sec\tid_gene=10600\n",
      "time: 9.7 sec\tid_gene=10700\n",
      "time: 9.8 sec\tid_gene=10800\n",
      "time: 9.9 sec\tid_gene=10900\n",
      "time: 1e+01 sec\tid_gene=11000\n",
      "time: 1e+01 sec\tid_gene=11100\n",
      "time: 1e+01 sec\tid_gene=11200\n",
      "time: 1e+01 sec\tid_gene=11300\n",
      "time: 1e+01 sec\tid_gene=11400\n",
      "time: 1e+01 sec\tid_gene=11500\n",
      "time: 1e+01 sec\tid_gene=11600\n",
      "time: 1.1e+01 sec\tid_gene=11700\n",
      "time: 1.1e+01 sec\tid_gene=11800\n",
      "time: 1.1e+01 sec\tid_gene=11900\n",
      "time: 1.1e+01 sec\tid_gene=12000\n",
      "time: 1.1e+01 sec\tid_gene=12100\n",
      "time: 1.1e+01 sec\tid_gene=12200\n",
      "time: 1.1e+01 sec\tid_gene=12300\n",
      "time: 1.1e+01 sec\tid_gene=12400\n",
      "time: 1.1e+01 sec\tid_gene=12500\n",
      "time: 1.1e+01 sec\tid_gene=12600\n",
      "time: 1.1e+01 sec\tid_gene=12700\n",
      "time: 1.1e+01 sec\tid_gene=12800\n",
      "time: 1.2e+01 sec\tid_gene=12900\n",
      "time: 1.2e+01 sec\tid_gene=13000\n",
      "time: 1.2e+01 sec\tid_gene=13100\n",
      "time: 1.2e+01 sec\tid_gene=13200\n",
      "time: 1.2e+01 sec\tid_gene=13300\n",
      "time: 1.2e+01 sec\tid_gene=13400\n",
      "time: 1.2e+01 sec\tid_gene=13500\n",
      "time: 1.2e+01 sec\tid_gene=13600\n",
      "time: 1.2e+01 sec\tid_gene=13700\n",
      "time: 1.2e+01 sec\tid_gene=13800\n",
      "time: 1.2e+01 sec\tid_gene=13900\n",
      "time: 1.3e+01 sec\tid_gene=14000\n",
      "time: 1.3e+01 sec\tid_gene=14100\n",
      "time: 1.3e+01 sec\tid_gene=14200\n",
      "time: 1.3e+01 sec\tid_gene=14300\n",
      "time: 1.3e+01 sec\tid_gene=14400\n",
      "time: 1.3e+01 sec\tid_gene=14500\n",
      "time: 1.3e+01 sec\tid_gene=14600\n",
      "time: 1.3e+01 sec\tid_gene=14700\n",
      "time: 1.3e+01 sec\tid_gene=14800\n",
      "time: 1.3e+01 sec\tid_gene=14900\n",
      "time: 1.3e+01 sec\tid_gene=15000\n",
      "time: 1.3e+01 sec\tid_gene=15100\n",
      "time: 1.4e+01 sec\tid_gene=15200\n",
      "time: 1.4e+01 sec\tid_gene=15300\n",
      "time: 1.4e+01 sec\tid_gene=15400\n",
      "time: 1.4e+01 sec\tid_gene=15500\n",
      "time: 1.4e+01 sec\tid_gene=15600\n",
      "time: 1.4e+01 sec\tid_gene=15700\n",
      "time: 1.4e+01 sec\tid_gene=15800\n",
      "time: 1.4e+01 sec\tid_gene=15900\n",
      "time: 1.4e+01 sec\tid_gene=16000\n",
      "time: 1.4e+01 sec\tid_gene=16100\n",
      "time: 1.5e+01 sec\tid_gene=16200\n",
      "time: 1.5e+01 sec\tid_gene=16300\n",
      "time: 1.5e+01 sec\tid_gene=16400\n",
      "time: 1.5e+01 sec\tid_gene=16500\n",
      "time: 1.5e+01 sec\tid_gene=16600\n",
      "time: 1.5e+01 sec\tid_gene=16700\n",
      "time: 1.5e+01 sec\tid_gene=16800\n",
      "time: 1.5e+01 sec\tid_gene=16900\n",
      "time: 1.5e+01 sec\tid_gene=17000\n",
      "time: 1.5e+01 sec\tid_gene=17100\n",
      "time: 1.5e+01 sec\tid_gene=17200\n",
      "time: 1.6e+01 sec\tid_gene=17300\n",
      "time: 1.6e+01 sec\tid_gene=17400\n",
      "time: 1.6e+01 sec\tid_gene=17500\n",
      "time: 1.6e+01 sec\tid_gene=17600\n",
      "time: 1.6e+01 sec\tid_gene=17700\n",
      "time: 1.6e+01 sec\tid_gene=17800\n",
      "time: 1.6e+01 sec\tid_gene=17900\n",
      "time: 1.6e+01 sec\tid_gene=18000\n",
      "time: 1.6e+01 sec\tid_gene=18100\n",
      "time: 1.6e+01 sec\tid_gene=18200\n",
      "time: 1.6e+01 sec\tid_gene=18300\n",
      "time: 1.6e+01 sec\tid_gene=18400\n",
      "time: 1.7e+01 sec\tid_gene=18500\n",
      "time: 1.7e+01 sec\tid_gene=18600\n",
      "time: 1.7e+01 sec\tid_gene=18700\n",
      "time: 1.7e+01 sec\tid_gene=18800\n",
      "time: 1.7e+01 sec\tid_gene=18900\n",
      "time: 1.7e+01 sec\tid_gene=19000\n",
      "time: 1.7e+01 sec\tid_gene=19100\n",
      "time: 1.7e+01 sec\tid_gene=19200\n",
      "time: 1.7e+01 sec\tid_gene=19300\n",
      "time: 1.7e+01 sec\tid_gene=19400\n",
      "time: 1.7e+01 sec\tid_gene=19500\n",
      "time: 1.7e+01 sec\tid_gene=19600\n",
      "time: 1.8e+01 sec\tid_gene=19700\n",
      "time: 1.8e+01 sec\tid_gene=19800\n",
      "time: 1.8e+01 sec\tid_gene=19900\n",
      "time: 1.8e+01 sec\tid_gene=20000\n",
      "time: 1.8e+01 sec\tid_gene=20100\n",
      "time: 1.8e+01 sec\tid_gene=20200\n",
      "time: 1.8e+01 sec\tid_gene=20300\n",
      "time: 1.8e+01 sec\tid_gene=20400\n",
      "time: 1.8e+01 sec\tid_gene=20500\n",
      "time: 1.8e+01 sec\tid_gene=20600\n",
      "time: 1.8e+01 sec\tid_gene=20700\n",
      "time: 1.8e+01 sec\tid_gene=20800\n",
      "time: 1.9e+01 sec\tid_gene=20900\n",
      "time: 1.9e+01 sec\tid_gene=21000\n",
      "time: 1.9e+01 sec\tid_gene=21100\n",
      "time: 1.9e+01 sec\tid_gene=21200\n",
      "time: 1.9e+01 sec\tid_gene=21300\n",
      "time: 1.9e+01 sec\tid_gene=21400\n",
      "time: 1.9e+01 sec\tid_gene=21500\n",
      "time: 1.9e+01 sec\tid_gene=21600\n",
      "time: 1.9e+01 sec\tid_gene=21700\n",
      "time: 1.9e+01 sec\tid_gene=21800\n",
      "time: 1.9e+01 sec\tid_gene=21900\n",
      "time: 1.9e+01 sec\tid_gene=22000\n",
      "time: 2e+01 sec\tid_gene=22100\n",
      "time: 2e+01 sec\tid_gene=22200\n",
      "time: 2e+01 sec\tid_gene=22300\n",
      "time: 2e+01 sec\tid_gene=22400\n",
      "time: 2e+01 sec\tid_gene=22500\n",
      "time: 2e+01 sec\tid_gene=22600\n",
      "time: 2e+01 sec\tid_gene=22700\n",
      "time: 2e+01 sec\tid_gene=22800\n",
      "time: 2e+01 sec\tid_gene=22900\n",
      "time: 2e+01 sec\tid_gene=23000\n",
      "time: 2e+01 sec\tid_gene=23100\n",
      "time: 2.1e+01 sec\tid_gene=23200\n",
      "time: 2.1e+01 sec\tid_gene=23300\n",
      "time: 2.1e+01 sec\tid_gene=23400\n",
      "time: 2.1e+01 sec\tid_gene=23500\n",
      "time: 2.1e+01 sec\tid_gene=23600\n",
      "time: 2.1e+01 sec\tid_gene=23700\n",
      "time: 2.1e+01 sec\tid_gene=23800\n",
      "time: 2.1e+01 sec\tid_gene=23900\n",
      "time: 2.1e+01 sec\tid_gene=24000\n",
      "time: 2.1e+01 sec\tid_gene=24100\n",
      "time: 2.2e+01 sec\tid_gene=24200\n",
      "time: 2.2e+01 sec\tid_gene=24300\n",
      "time: 2.2e+01 sec\tid_gene=24400\n",
      "time: 2.2e+01 sec\tid_gene=24500\n",
      "time: 2.2e+01 sec\tid_gene=24600\n",
      "time: 2.2e+01 sec\tid_gene=24700\n",
      "time: 2.2e+01 sec\tid_gene=24800\n",
      "time: 2.2e+01 sec\tid_gene=24900\n",
      "time: 2.2e+01 sec\tid_gene=25000\n",
      "time: 2.2e+01 sec\tid_gene=25100\n",
      "time: 2.3e+01 sec\tid_gene=25200\n",
      "time: 2.3e+01 sec\tid_gene=25300\n",
      "time: 2.3e+01 sec\tid_gene=25400\n",
      "time: 2.3e+01 sec\tid_gene=25500\n",
      "time: 2.3e+01 sec\tid_gene=25600\n",
      "time: 2.3e+01 sec\tid_gene=25700\n",
      "time: 2.3e+01 sec\tid_gene=25800\n",
      "time: 2.3e+01 sec\tid_gene=25900\n",
      "time: 2.3e+01 sec\tid_gene=26000\n",
      "time: 2.3e+01 sec\tid_gene=26100\n",
      "time: 2.3e+01 sec\tid_gene=26200\n",
      "time: 2.4e+01 sec\tid_gene=26300\n",
      "time: 2.4e+01 sec\tid_gene=26400\n",
      "time: 2.4e+01 sec\tid_gene=26500\n",
      "time: 2.4e+01 sec\tid_gene=26600\n",
      "time: 2.4e+01 sec\tid_gene=26700\n",
      "time: 2.4e+01 sec\tid_gene=26800\n",
      "time: 2.4e+01 sec\tid_gene=26900\n",
      "time: 2.4e+01 sec\tid_gene=27000\n",
      "time: 2.4e+01 sec\tid_gene=27100\n",
      "time: 2.4e+01 sec\tid_gene=27200\n",
      "time: 2.4e+01 sec\tid_gene=27300\n"
     ]
    },
    {
     "name": "stdout",
     "output_type": "stream",
     "text": [
      "time: 2.5e+01 sec\tid_gene=27400\n",
      "time: 2.5e+01 sec\tid_gene=27500\n",
      "time: 2.5e+01 sec\tid_gene=27600\n",
      "time: 2.5e+01 sec\tid_gene=27700\n",
      "time: 2.5e+01 sec\tid_gene=27800\n",
      "time: 2.5e+01 sec\tid_gene=27900\n",
      "time: 2.5e+01 sec\tid_gene=28000\n",
      "time: 2.5e+01 sec\tid_gene=28100\n",
      "time: 2.5e+01 sec\tid_gene=28200\n",
      "time: 2.5e+01 sec\tid_gene=28300\n",
      "time: 2.6e+01 sec\tid_gene=28400\n",
      "time: 2.6e+01 sec\tid_gene=28500\n",
      "time: 2.6e+01 sec\tid_gene=28600\n",
      "time: 2.6e+01 sec\tid_gene=28700\n",
      "time: 2.6e+01 sec\tid_gene=28800\n",
      "time: 2.6e+01 sec\tid_gene=28900\n",
      "time: 2.6e+01 sec\tid_gene=29000\n",
      "time: 2.6e+01 sec\tid_gene=29100\n",
      "time: 2.6e+01 sec\tid_gene=29200\n",
      "time: 2.6e+01 sec\tid_gene=29300\n",
      "time: 2.7e+01 sec\tid_gene=29400\n",
      "time: 2.7e+01 sec\tid_gene=29500\n",
      "time: 2.7e+01 sec\tid_gene=29600\n",
      "time: 2.7e+01 sec\tid_gene=29700\n",
      "time: 2.7e+01 sec\tid_gene=29800\n",
      "time: 2.7e+01 sec\tid_gene=29900\n",
      "time: 2.7e+01 sec\tid_gene=30000\n",
      "time: 2.7e+01 sec\tid_gene=30100\n",
      "time: 2.7e+01 sec\tid_gene=30200\n",
      "time: 2.7e+01 sec\tid_gene=30300\n",
      "time: 2.7e+01 sec\tid_gene=30400\n",
      "time: 2.8e+01 sec\tid_gene=30500\n",
      "time: 2.8e+01 sec\tid_gene=30600\n",
      "time: 2.8e+01 sec\tid_gene=30700\n",
      "time: 2.8e+01 sec\tid_gene=30800\n",
      "time: 2.8e+01 sec\tid_gene=30900\n",
      "time: 2.8e+01 sec\tid_gene=31000\n",
      "time: 2.8e+01 sec\tid_gene=31100\n",
      "time: 2.8e+01 sec\tid_gene=31200\n",
      "time: 2.8e+01 sec\tid_gene=31300\n",
      "time: 2.8e+01 sec\tid_gene=31400\n",
      "time: 2.8e+01 sec\tid_gene=31500\n",
      "time: 2.9e+01 sec\tid_gene=31600\n",
      "time: 2.9e+01 sec\tid_gene=31700\n",
      "time: 2.9e+01 sec\tid_gene=31800\n",
      "time: 2.9e+01 sec\tid_gene=31900\n",
      "time: 2.9e+01 sec\tid_gene=32000\n",
      "time: 2.9e+01 sec\tid_gene=32100\n",
      "time: 2.9e+01 sec\tid_gene=32200\n",
      "time: 2.9e+01 sec\tid_gene=32300\n",
      "time: 3e+01 sec\tid_gene=32400\n",
      "time: 3e+01 sec\tid_gene=32500\n",
      "time: 3e+01 sec\tid_gene=32600\n",
      "time: 8.8e+01 sec\tid_gene=32700\n",
      "time: 8.8e+01 sec\tid_gene=32800\n",
      "time: 8.8e+01 sec\tid_gene=32900\n",
      "time: 8.8e+01 sec\tid_gene=33000\n",
      "time: 8.8e+01 sec\tid_gene=33100\n",
      "time: 8.9e+01 sec\tid_gene=33200\n",
      "time: 8.9e+01 sec\tid_gene=33300\n",
      "time: 8.9e+01 sec\tid_gene=33400\n",
      "time: 8.9e+01 sec\tid_gene=33500\n",
      "time: 8.9e+01 sec\tid_gene=33600\n",
      "time: 8.9e+01 sec\tid_gene=33700\n",
      "time: 8.9e+01 sec\tid_gene=33800\n",
      "time: 8.9e+01 sec\tid_gene=33900\n",
      "time: 8.9e+01 sec\tid_gene=34000\n",
      "time: 9e+01 sec\tid_gene=34100\n",
      "time: 9e+01 sec\tid_gene=34200\n",
      "time: 9e+01 sec\tid_gene=34300\n",
      "time: 9e+01 sec\tid_gene=34400\n",
      "time: 9e+01 sec\tid_gene=34500\n",
      "time: 9e+01 sec\tid_gene=34600\n",
      "time: 9e+01 sec\tid_gene=34700\n",
      "time: 9e+01 sec\tid_gene=34800\n",
      "time: 9e+01 sec\tid_gene=34900\n",
      "time: 9.1e+01 sec\tid_gene=35000\n",
      "time: 9.1e+01 sec\tid_gene=35100\n",
      "time: 9.1e+01 sec\tid_gene=35200\n",
      "time: 9.1e+01 sec\tid_gene=35300\n",
      "time: 9.1e+01 sec\tid_gene=35400\n",
      "time: 9.1e+01 sec\tid_gene=35500\n",
      "time: 9.1e+01 sec\tid_gene=35600\n",
      "time: 9.1e+01 sec\tid_gene=35700\n",
      "time: 9.1e+01 sec\tid_gene=35800\n",
      "time: 9.2e+01 sec\tid_gene=35900\n",
      "time: 9.2e+01 sec\tid_gene=36000\n",
      "time: 9.2e+01 sec\tid_gene=36100\n",
      "time: 9.2e+01 sec\tid_gene=36200\n",
      "time: 9.2e+01 sec\tid_gene=36300\n",
      "time: 9.2e+01 sec\tid_gene=36400\n",
      "time: 9.2e+01 sec\tid_gene=36500\n",
      "time: 9.2e+01 sec\tid_gene=36600\n",
      "time: 9.2e+01 sec\tid_gene=36700\n",
      "time: 9.2e+01 sec\tid_gene=36800\n",
      "time: 9.2e+01 sec\tid_gene=36900\n",
      "time: 9.3e+01 sec\tid_gene=37000\n",
      "time: 9.3e+01 sec\tid_gene=37100\n",
      "time: 9.3e+01 sec\tid_gene=37200\n",
      "time: 9.3e+01 sec\tid_gene=37300\n",
      "time: 9.3e+01 sec\tid_gene=37400\n",
      "time: 9.3e+01 sec\tid_gene=37500\n",
      "time: 9.3e+01 sec\tid_gene=37600\n",
      "time: 9.3e+01 sec\tid_gene=37700\n",
      "time: 9.3e+01 sec\tid_gene=37800\n",
      "time: 9.3e+01 sec\tid_gene=37900\n",
      "time: 9.4e+01 sec\tid_gene=38000\n",
      "time: 9.4e+01 sec\tid_gene=38100\n",
      "time: 9.4e+01 sec\tid_gene=38200\n",
      "time: 9.4e+01 sec\tid_gene=38300\n",
      "time: 9.4e+01 sec\tid_gene=38400\n",
      "time: 9.4e+01 sec\tid_gene=38500\n",
      "time: 9.4e+01 sec\tid_gene=38600\n",
      "time: 9.4e+01 sec\tid_gene=38700\n",
      "time: 9.4e+01 sec\tid_gene=38800\n",
      "time: 9.5e+01 sec\tid_gene=38900\n",
      "time: 9.5e+01 sec\tid_gene=39000\n",
      "time: 9.5e+01 sec\tid_gene=39100\n",
      "time: 9.5e+01 sec\tid_gene=39200\n",
      "time: 9.5e+01 sec\tid_gene=39300\n",
      "time: 9.5e+01 sec\tid_gene=39400\n",
      "time: 9.5e+01 sec\tid_gene=39500\n",
      "time: 9.5e+01 sec\tid_gene=39600\n",
      "time: 9.5e+01 sec\tid_gene=39700\n",
      "time: 9.6e+01 sec\tid_gene=39800\n",
      "time: 9.6e+01 sec\tid_gene=39900\n",
      "time: 9.6e+01 sec\tid_gene=40000\n",
      "time: 9.6e+01 sec\tid_gene=40100\n",
      "time: 9.6e+01 sec\tid_gene=40200\n",
      "time: 9.6e+01 sec\tid_gene=40300\n",
      "time: 9.6e+01 sec\tid_gene=40400\n",
      "time: 9.6e+01 sec\tid_gene=40500\n",
      "time: 9.6e+01 sec\tid_gene=40600\n",
      "time: 9.6e+01 sec\tid_gene=40700\n",
      "time: 9.6e+01 sec\tid_gene=40800\n",
      "time: 9.7e+01 sec\tid_gene=40900\n",
      "time: 9.7e+01 sec\tid_gene=41000\n",
      "time: 9.7e+01 sec\tid_gene=41100\n",
      "time: 9.7e+01 sec\tid_gene=41200\n",
      "time: 9.7e+01 sec\tid_gene=41300\n",
      "time: 9.7e+01 sec\tid_gene=41400\n",
      "time: 9.7e+01 sec\tid_gene=41500\n",
      "time: 9.7e+01 sec\tid_gene=41600\n",
      "time: 9.8e+01 sec\tid_gene=41700\n",
      "time: 9.8e+01 sec\tid_gene=41800\n",
      "time: 9.8e+01 sec\tid_gene=41900\n",
      "time: 9.8e+01 sec\tid_gene=42000\n",
      "time: 9.8e+01 sec\tid_gene=42100\n",
      "time: 9.8e+01 sec\tid_gene=42200\n",
      "time: 9.8e+01 sec\tid_gene=42300\n",
      "time: 9.8e+01 sec\tid_gene=42400\n",
      "time: 9.8e+01 sec\tid_gene=42500\n",
      "time: 9.8e+01 sec\tid_gene=42600\n",
      "time: 9.9e+01 sec\tid_gene=42700\n",
      "time: 9.9e+01 sec\tid_gene=42800\n",
      "time: 9.9e+01 sec\tid_gene=42900\n",
      "time: 9.9e+01 sec\tid_gene=43000\n",
      "time: 9.9e+01 sec\tid_gene=43100\n",
      "time: 9.9e+01 sec\tid_gene=43200\n",
      "time: 9.9e+01 sec\tid_gene=43300\n",
      "time: 9.9e+01 sec\tid_gene=43400\n",
      "time: 9.9e+01 sec\tid_gene=43500\n",
      "time: 9.9e+01 sec\tid_gene=43600\n",
      "time: 9.9e+01 sec\tid_gene=43700\n",
      "time: 1e+02 sec\tid_gene=43800\n",
      "time: 1e+02 sec\tid_gene=43900\n",
      "time: 1e+02 sec\tid_gene=44000\n",
      "time: 1e+02 sec\tid_gene=44100\n",
      "time: 1e+02 sec\tid_gene=44200\n",
      "time: 1e+02 sec\tid_gene=44300\n",
      "time: 1e+02 sec\tid_gene=44400\n",
      "time: 1e+02 sec\tid_gene=44500\n",
      "time: 1e+02 sec\tid_gene=44600\n",
      "time: 1e+02 sec\tid_gene=44700\n",
      "time: 1e+02 sec\tid_gene=44800\n",
      "time: 1e+02 sec\tid_gene=44900\n",
      "time: 1e+02 sec\tid_gene=45000\n",
      "time: 1e+02 sec\tid_gene=45100\n",
      "time: 1e+02 sec\tid_gene=45200\n",
      "time: 1e+02 sec\tid_gene=45300\n",
      "time: 1e+02 sec\tid_gene=45400\n",
      "time: 1e+02 sec\tid_gene=45500\n",
      "time: 1e+02 sec\tid_gene=45600\n",
      "time: 1e+02 sec\tid_gene=45700\n",
      "time: 1e+02 sec\tid_gene=45800\n",
      "time: 1e+02 sec\tid_gene=45900\n",
      "time: 1e+02 sec\tid_gene=46000\n",
      "time: 1e+02 sec\tid_gene=46100\n",
      "time: 1e+02 sec\tid_gene=46200\n",
      "time: 1e+02 sec\tid_gene=46300\n",
      "time: 1e+02 sec\tid_gene=46400\n",
      "time: 1e+02 sec\tid_gene=46500\n",
      "time: 1e+02 sec\tid_gene=46600\n",
      "time: 1e+02 sec\tid_gene=46700\n",
      "time: 1e+02 sec\tid_gene=46800\n",
      "time: 1e+02 sec\tid_gene=46900\n",
      "time: 1e+02 sec\tid_gene=47000\n",
      "time: 1e+02 sec\tid_gene=47100\n",
      "time: 1e+02 sec\tid_gene=47200\n",
      "time: 1e+02 sec\tid_gene=47300\n",
      "time: 1e+02 sec\tid_gene=47400\n",
      "time: 1e+02 sec\tid_gene=47500\n",
      "time: 1e+02 sec\tid_gene=47600\n",
      "time: 1e+02 sec\tid_gene=47700\n",
      "time: 1e+02 sec\tid_gene=47800\n",
      "time: 1e+02 sec\tid_gene=47900\n",
      "time: 1e+02 sec\tid_gene=48000\n",
      "time: 1e+02 sec\tid_gene=48100\n",
      "time: 1e+02 sec\tid_gene=48200\n",
      "time: 1e+02 sec\tid_gene=48300\n",
      "time: 1e+02 sec\tid_gene=48400\n",
      "time: 1e+02 sec\tid_gene=48500\n",
      "time: 1e+02 sec\tid_gene=48600\n",
      "time: 1e+02 sec\tid_gene=48700\n",
      "time: 1e+02 sec\tid_gene=48800\n",
      "time: 1.1e+02 sec\tid_gene=48900\n",
      "time: 1.1e+02 sec\tid_gene=49000\n",
      "time: 1.1e+02 sec\tid_gene=49100\n",
      "time: 1.1e+02 sec\tid_gene=49200\n",
      "time: 1.1e+02 sec\tid_gene=49300\n",
      "time: 1.1e+02 sec\tid_gene=49400\n",
      "time: 1.1e+02 sec\tid_gene=49500\n",
      "time: 1.1e+02 sec\tid_gene=49600\n",
      "time: 1.1e+02 sec\tid_gene=49700\n",
      "time: 1.1e+02 sec\tid_gene=49800\n"
     ]
    }
   ],
   "source": [
    "all_genes_5grams = ngram_extractor2(org_gene_lst, n_min=5, n_max=5)"
   ]
  },
  {
   "cell_type": "code",
   "execution_count": 9,
   "metadata": {},
   "outputs": [
    {
     "data": {
      "text/plain": [
       "49807"
      ]
     },
     "execution_count": 9,
     "metadata": {},
     "output_type": "execute_result"
    }
   ],
   "source": [
    "len(all_genes_5grams)"
   ]
  },
  {
   "cell_type": "markdown",
   "metadata": {},
   "source": [
    "### Train word2vec model (on 49000 genes, 5grams)"
   ]
  },
  {
   "cell_type": "code",
   "execution_count": 10,
   "metadata": {},
   "outputs": [],
   "source": [
    "path_w2v_model_5 = 'dna2vec_data/word2vec_49000genes_5grams_size300.model'"
   ]
  },
  {
   "cell_type": "code",
   "execution_count": 11,
   "metadata": {},
   "outputs": [],
   "source": [
    "num_features = 300\n",
    "context_size = 5\n",
    "min_count = 1\n",
    "num_workers = multiprocessing.cpu_count()\n",
    "seed = 42"
   ]
  },
  {
   "cell_type": "code",
   "execution_count": 12,
   "metadata": {},
   "outputs": [],
   "source": [
    "model_5 = Word2Vec(size=num_features,\n",
    "                 window=context_size,\n",
    "                 min_count=min_count,\n",
    "                 workers=num_workers,\n",
    "                 seed=seed)\n",
    "\n",
    "model_5.save(path_w2v_model_5)"
   ]
  },
  {
   "cell_type": "code",
   "execution_count": 13,
   "metadata": {},
   "outputs": [],
   "source": [
    "model_5.build_vocab(all_genes_5grams)\n",
    "model_5.save(path_w2v_model_5)"
   ]
  },
  {
   "cell_type": "code",
   "execution_count": 14,
   "metadata": {},
   "outputs": [
    {
     "data": {
      "text/plain": [
       "(49807, 5)"
      ]
     },
     "execution_count": 14,
     "metadata": {},
     "output_type": "execute_result"
    }
   ],
   "source": [
    "model_5.corpus_count, model_5.epochs"
   ]
  },
  {
   "cell_type": "code",
   "execution_count": 15,
   "metadata": {},
   "outputs": [
    {
     "name": "stdout",
     "output_type": "stream",
     "text": [
      "total time: 9.7e+02 sec\n"
     ]
    }
   ],
   "source": [
    "#about 16 min\n",
    "start = timer()\n",
    "model_5.train(all_genes_5grams, total_examples=model_5.corpus_count, epochs=model_5.epochs)\n",
    "model_5.save(path_w2v_model_5)\n",
    "print(f'total time: {timer()-start:.2} sec')"
   ]
  },
  {
   "cell_type": "code",
   "execution_count": null,
   "metadata": {},
   "outputs": [],
   "source": [
    "# if loading pretrained model:\n",
    "# model_5 = Word2Vec.load(path_w2v_model_5)"
   ]
  },
  {
   "cell_type": "markdown",
   "metadata": {},
   "source": [
    "### Read .csv file (1000 genes)"
   ]
  },
  {
   "cell_type": "code",
   "execution_count": 16,
   "metadata": {},
   "outputs": [
    {
     "data": {
      "text/plain": [
       "(1066, 4)"
      ]
     },
     "execution_count": 16,
     "metadata": {},
     "output_type": "execute_result"
    }
   ],
   "source": [
    "df_genes = pd.read_csv('~/sf_data/all_genes.csv', header=None)\n",
    "df_genes.shape"
   ]
  },
  {
   "cell_type": "code",
   "execution_count": 18,
   "metadata": {},
   "outputs": [
    {
     "data": {
      "text/html": [
       "<div>\n",
       "<style scoped>\n",
       "    .dataframe tbody tr th:only-of-type {\n",
       "        vertical-align: middle;\n",
       "    }\n",
       "\n",
       "    .dataframe tbody tr th {\n",
       "        vertical-align: top;\n",
       "    }\n",
       "\n",
       "    .dataframe thead th {\n",
       "        text-align: right;\n",
       "    }\n",
       "</style>\n",
       "<table border=\"1\" class=\"dataframe\">\n",
       "  <thead>\n",
       "    <tr style=\"text-align: right;\">\n",
       "      <th></th>\n",
       "      <th>0</th>\n",
       "      <th>1</th>\n",
       "      <th>2</th>\n",
       "    </tr>\n",
       "  </thead>\n",
       "  <tbody>\n",
       "    <tr>\n",
       "      <th>0</th>\n",
       "      <td>Bacillus_amyloliquefaciens_GCF_000196735.1_ASM...</td>\n",
       "      <td>pgk</td>\n",
       "      <td>ATGAATAAGAAAACAGTAAAAGACATCGACGTAAAAGGCAAAGTCG...</td>\n",
       "    </tr>\n",
       "    <tr>\n",
       "      <th>1</th>\n",
       "      <td>Bacillus_amyloliquefaciens_GCF_000196735.1_ASM...</td>\n",
       "      <td>rplW</td>\n",
       "      <td>ATGAAAGATCCTCGTGATGTTCTTAAGCGCCCCGTCATTACTGAAC...</td>\n",
       "    </tr>\n",
       "    <tr>\n",
       "      <th>2</th>\n",
       "      <td>Bacillus_amyloliquefaciens_GCF_000196735.1_ASM...</td>\n",
       "      <td>rplE</td>\n",
       "      <td>ATGAACCGCCTTAAAGAAAAGTACAATAAAGAAATTTCACCTGCTT...</td>\n",
       "    </tr>\n",
       "    <tr>\n",
       "      <th>3</th>\n",
       "      <td>Bacillus_amyloliquefaciens_GCF_000196735.1_ASM...</td>\n",
       "      <td>rplC</td>\n",
       "      <td>ATGACCAAAGGAATCTTAGGAAGAAAAATTGGTATGACGCAAGTAT...</td>\n",
       "    </tr>\n",
       "    <tr>\n",
       "      <th>4</th>\n",
       "      <td>Bacillus_amyloliquefaciens_GCF_000196735.1_ASM...</td>\n",
       "      <td>rplF</td>\n",
       "      <td>ATGTCTCGTGTAGGTAAGAAACTGCTTGAGATCCCTTCTGAAGTTA...</td>\n",
       "    </tr>\n",
       "  </tbody>\n",
       "</table>\n",
       "</div>"
      ],
      "text/plain": [
       "                                                   0     1  \\\n",
       "0  Bacillus_amyloliquefaciens_GCF_000196735.1_ASM...   pgk   \n",
       "1  Bacillus_amyloliquefaciens_GCF_000196735.1_ASM...  rplW   \n",
       "2  Bacillus_amyloliquefaciens_GCF_000196735.1_ASM...  rplE   \n",
       "3  Bacillus_amyloliquefaciens_GCF_000196735.1_ASM...  rplC   \n",
       "4  Bacillus_amyloliquefaciens_GCF_000196735.1_ASM...  rplF   \n",
       "\n",
       "                                                   2  \n",
       "0  ATGAATAAGAAAACAGTAAAAGACATCGACGTAAAAGGCAAAGTCG...  \n",
       "1  ATGAAAGATCCTCGTGATGTTCTTAAGCGCCCCGTCATTACTGAAC...  \n",
       "2  ATGAACCGCCTTAAAGAAAAGTACAATAAAGAAATTTCACCTGCTT...  \n",
       "3  ATGACCAAAGGAATCTTAGGAAGAAAAATTGGTATGACGCAAGTAT...  \n",
       "4  ATGTCTCGTGTAGGTAAGAAACTGCTTGAGATCCCTTCTGAAGTTA...  "
      ]
     },
     "execution_count": 18,
     "metadata": {},
     "output_type": "execute_result"
    }
   ],
   "source": [
    "df_genes = df_genes.iloc[:, :3]\n",
    "df_genes.head()"
   ]
  },
  {
   "cell_type": "code",
   "execution_count": 19,
   "metadata": {},
   "outputs": [
    {
     "data": {
      "text/plain": [
       "array(['Bacillus_amyloliquefaciens_GCF_000196735.1_ASM19673v1_genomic',\n",
       "       'Bacillus_atrophaeus_GCF_000742675.1_ASM74267v1_genomic',\n",
       "       'Bacillus_halotolerans_GCF_001517105.1_ASM151710v1_genomic',\n",
       "       'Bacillus_licheniformis_GCF_000011645.1_ASM1164v1_genomic',\n",
       "       'Bacillus_mojavensis_GCF_000245335.1_ASM24533v1_genomic',\n",
       "       'Bacillus_paralicheniformis_GCF_000408885.1_ASM40888v1_genomic',\n",
       "       'Bacillus_siamensis_GCF_000262045.1_KCTC_13613_01_genomic',\n",
       "       'Bacillus_sonorensis_GCF_002202015.1_ASM220201v1_genomic',\n",
       "       'Bacillus_subtilis_GCF_000009045.1_ASM904v1_genomic',\n",
       "       'Bacillus_tequilensis_GCF_000507145.1_KCTC_13622_01_genomic',\n",
       "       'Bacillus_vallismortis_GCF_000245315.1_ASM24531v1_genomic',\n",
       "       'Bacillus_velezensis_GCF_002117165.1_ASM211716v1_genomic'],\n",
       "      dtype=object)"
      ]
     },
     "execution_count": 19,
     "metadata": {},
     "output_type": "execute_result"
    }
   ],
   "source": [
    "df_genes[0].unique()"
   ]
  },
  {
   "cell_type": "code",
   "execution_count": 20,
   "metadata": {},
   "outputs": [
    {
     "data": {
      "text/plain": [
       "1066"
      ]
     },
     "execution_count": 20,
     "metadata": {},
     "output_type": "execute_result"
    }
   ],
   "source": [
    "orgs = ['_'.join(org_name.split('_',2)[0:2]) for org_name in df_genes[0]]\n",
    "len(orgs)"
   ]
  },
  {
   "cell_type": "code",
   "execution_count": 21,
   "metadata": {},
   "outputs": [
    {
     "data": {
      "text/plain": [
       "['Bacillus_amyloliquefaciens',\n",
       " 'Bacillus_atrophaeus',\n",
       " 'Bacillus_halotolerans',\n",
       " 'Bacillus_licheniformis',\n",
       " 'Bacillus_mojavensis',\n",
       " 'Bacillus_paralicheniformis',\n",
       " 'Bacillus_siamensis',\n",
       " 'Bacillus_sonorensis',\n",
       " 'Bacillus_subtilis',\n",
       " 'Bacillus_tequilensis',\n",
       " 'Bacillus_vallismortis',\n",
       " 'Bacillus_velezensis']"
      ]
     },
     "execution_count": 21,
     "metadata": {},
     "output_type": "execute_result"
    }
   ],
   "source": [
    "path_gene_nuc = '../../sf_data/prodigal_output/gene_nuc/'\n",
    "org_names = [f[:f.index('_', f.index('_') + 1)] for f in os.listdir(path_gene_nuc)]\n",
    "org_names"
   ]
  },
  {
   "cell_type": "code",
   "execution_count": 22,
   "metadata": {},
   "outputs": [
    {
     "name": "stdout",
     "output_type": "stream",
     "text": [
      "set()\n",
      "set()\n"
     ]
    }
   ],
   "source": [
    "# check sets of organisms names in two files\n",
    "print(set(orgs) ^ set(org_names))\n",
    "print(set(org_names) ^ set(orgs))"
   ]
  },
  {
   "cell_type": "code",
   "execution_count": 23,
   "metadata": {},
   "outputs": [],
   "source": [
    "tmp_org = []\n",
    "\n",
    "for name in df_genes[0]:\n",
    "    for (org_id, org_name) in enumerate(org_names):\n",
    "        if name.startswith(org_name):\n",
    "            tmp_org.append('_'.join((str(org_id), org_name)))"
   ]
  },
  {
   "cell_type": "code",
   "execution_count": 24,
   "metadata": {},
   "outputs": [
    {
     "data": {
      "text/html": [
       "<div>\n",
       "<style scoped>\n",
       "    .dataframe tbody tr th:only-of-type {\n",
       "        vertical-align: middle;\n",
       "    }\n",
       "\n",
       "    .dataframe tbody tr th {\n",
       "        vertical-align: top;\n",
       "    }\n",
       "\n",
       "    .dataframe thead th {\n",
       "        text-align: right;\n",
       "    }\n",
       "</style>\n",
       "<table border=\"1\" class=\"dataframe\">\n",
       "  <thead>\n",
       "    <tr style=\"text-align: right;\">\n",
       "      <th></th>\n",
       "      <th>0</th>\n",
       "      <th>1</th>\n",
       "      <th>2</th>\n",
       "      <th>org_id_name</th>\n",
       "    </tr>\n",
       "  </thead>\n",
       "  <tbody>\n",
       "    <tr>\n",
       "      <th>0</th>\n",
       "      <td>Bacillus_amyloliquefaciens_GCF_000196735.1_ASM...</td>\n",
       "      <td>pgk</td>\n",
       "      <td>ATGAATAAGAAAACAGTAAAAGACATCGACGTAAAAGGCAAAGTCG...</td>\n",
       "      <td>0_Bacillus_amyloliquefaciens</td>\n",
       "    </tr>\n",
       "    <tr>\n",
       "      <th>1</th>\n",
       "      <td>Bacillus_amyloliquefaciens_GCF_000196735.1_ASM...</td>\n",
       "      <td>rplW</td>\n",
       "      <td>ATGAAAGATCCTCGTGATGTTCTTAAGCGCCCCGTCATTACTGAAC...</td>\n",
       "      <td>0_Bacillus_amyloliquefaciens</td>\n",
       "    </tr>\n",
       "    <tr>\n",
       "      <th>2</th>\n",
       "      <td>Bacillus_amyloliquefaciens_GCF_000196735.1_ASM...</td>\n",
       "      <td>rplE</td>\n",
       "      <td>ATGAACCGCCTTAAAGAAAAGTACAATAAAGAAATTTCACCTGCTT...</td>\n",
       "      <td>0_Bacillus_amyloliquefaciens</td>\n",
       "    </tr>\n",
       "    <tr>\n",
       "      <th>3</th>\n",
       "      <td>Bacillus_amyloliquefaciens_GCF_000196735.1_ASM...</td>\n",
       "      <td>rplC</td>\n",
       "      <td>ATGACCAAAGGAATCTTAGGAAGAAAAATTGGTATGACGCAAGTAT...</td>\n",
       "      <td>0_Bacillus_amyloliquefaciens</td>\n",
       "    </tr>\n",
       "    <tr>\n",
       "      <th>4</th>\n",
       "      <td>Bacillus_amyloliquefaciens_GCF_000196735.1_ASM...</td>\n",
       "      <td>rplF</td>\n",
       "      <td>ATGTCTCGTGTAGGTAAGAAACTGCTTGAGATCCCTTCTGAAGTTA...</td>\n",
       "      <td>0_Bacillus_amyloliquefaciens</td>\n",
       "    </tr>\n",
       "  </tbody>\n",
       "</table>\n",
       "</div>"
      ],
      "text/plain": [
       "                                                   0     1  \\\n",
       "0  Bacillus_amyloliquefaciens_GCF_000196735.1_ASM...   pgk   \n",
       "1  Bacillus_amyloliquefaciens_GCF_000196735.1_ASM...  rplW   \n",
       "2  Bacillus_amyloliquefaciens_GCF_000196735.1_ASM...  rplE   \n",
       "3  Bacillus_amyloliquefaciens_GCF_000196735.1_ASM...  rplC   \n",
       "4  Bacillus_amyloliquefaciens_GCF_000196735.1_ASM...  rplF   \n",
       "\n",
       "                                                   2  \\\n",
       "0  ATGAATAAGAAAACAGTAAAAGACATCGACGTAAAAGGCAAAGTCG...   \n",
       "1  ATGAAAGATCCTCGTGATGTTCTTAAGCGCCCCGTCATTACTGAAC...   \n",
       "2  ATGAACCGCCTTAAAGAAAAGTACAATAAAGAAATTTCACCTGCTT...   \n",
       "3  ATGACCAAAGGAATCTTAGGAAGAAAAATTGGTATGACGCAAGTAT...   \n",
       "4  ATGTCTCGTGTAGGTAAGAAACTGCTTGAGATCCCTTCTGAAGTTA...   \n",
       "\n",
       "                    org_id_name  \n",
       "0  0_Bacillus_amyloliquefaciens  \n",
       "1  0_Bacillus_amyloliquefaciens  \n",
       "2  0_Bacillus_amyloliquefaciens  \n",
       "3  0_Bacillus_amyloliquefaciens  \n",
       "4  0_Bacillus_amyloliquefaciens  "
      ]
     },
     "execution_count": 24,
     "metadata": {},
     "output_type": "execute_result"
    }
   ],
   "source": [
    "df_genes['org_id_name'] = tmp_org\n",
    "df_genes.head()"
   ]
  },
  {
   "cell_type": "code",
   "execution_count": 26,
   "metadata": {},
   "outputs": [],
   "source": [
    "del tmp_org"
   ]
  },
  {
   "cell_type": "code",
   "execution_count": 27,
   "metadata": {},
   "outputs": [
    {
     "data": {
      "text/html": [
       "<div>\n",
       "<style scoped>\n",
       "    .dataframe tbody tr th:only-of-type {\n",
       "        vertical-align: middle;\n",
       "    }\n",
       "\n",
       "    .dataframe tbody tr th {\n",
       "        vertical-align: top;\n",
       "    }\n",
       "\n",
       "    .dataframe thead th {\n",
       "        text-align: right;\n",
       "    }\n",
       "</style>\n",
       "<table border=\"1\" class=\"dataframe\">\n",
       "  <thead>\n",
       "    <tr style=\"text-align: right;\">\n",
       "      <th></th>\n",
       "      <th>1</th>\n",
       "      <th>2</th>\n",
       "      <th>org_id_name</th>\n",
       "    </tr>\n",
       "  </thead>\n",
       "  <tbody>\n",
       "    <tr>\n",
       "      <th>0</th>\n",
       "      <td>pgk</td>\n",
       "      <td>ATGAATAAGAAAACAGTAAAAGACATCGACGTAAAAGGCAAAGTCG...</td>\n",
       "      <td>0_Bacillus_amyloliquefaciens</td>\n",
       "    </tr>\n",
       "    <tr>\n",
       "      <th>1</th>\n",
       "      <td>rplW</td>\n",
       "      <td>ATGAAAGATCCTCGTGATGTTCTTAAGCGCCCCGTCATTACTGAAC...</td>\n",
       "      <td>0_Bacillus_amyloliquefaciens</td>\n",
       "    </tr>\n",
       "    <tr>\n",
       "      <th>2</th>\n",
       "      <td>rplE</td>\n",
       "      <td>ATGAACCGCCTTAAAGAAAAGTACAATAAAGAAATTTCACCTGCTT...</td>\n",
       "      <td>0_Bacillus_amyloliquefaciens</td>\n",
       "    </tr>\n",
       "    <tr>\n",
       "      <th>3</th>\n",
       "      <td>rplC</td>\n",
       "      <td>ATGACCAAAGGAATCTTAGGAAGAAAAATTGGTATGACGCAAGTAT...</td>\n",
       "      <td>0_Bacillus_amyloliquefaciens</td>\n",
       "    </tr>\n",
       "    <tr>\n",
       "      <th>4</th>\n",
       "      <td>rplF</td>\n",
       "      <td>ATGTCTCGTGTAGGTAAGAAACTGCTTGAGATCCCTTCTGAAGTTA...</td>\n",
       "      <td>0_Bacillus_amyloliquefaciens</td>\n",
       "    </tr>\n",
       "  </tbody>\n",
       "</table>\n",
       "</div>"
      ],
      "text/plain": [
       "      1                                                  2  \\\n",
       "0   pgk  ATGAATAAGAAAACAGTAAAAGACATCGACGTAAAAGGCAAAGTCG...   \n",
       "1  rplW  ATGAAAGATCCTCGTGATGTTCTTAAGCGCCCCGTCATTACTGAAC...   \n",
       "2  rplE  ATGAACCGCCTTAAAGAAAAGTACAATAAAGAAATTTCACCTGCTT...   \n",
       "3  rplC  ATGACCAAAGGAATCTTAGGAAGAAAAATTGGTATGACGCAAGTAT...   \n",
       "4  rplF  ATGTCTCGTGTAGGTAAGAAACTGCTTGAGATCCCTTCTGAAGTTA...   \n",
       "\n",
       "                    org_id_name  \n",
       "0  0_Bacillus_amyloliquefaciens  \n",
       "1  0_Bacillus_amyloliquefaciens  \n",
       "2  0_Bacillus_amyloliquefaciens  \n",
       "3  0_Bacillus_amyloliquefaciens  \n",
       "4  0_Bacillus_amyloliquefaciens  "
      ]
     },
     "execution_count": 27,
     "metadata": {},
     "output_type": "execute_result"
    }
   ],
   "source": [
    "df_genes = df_genes.iloc[:, 1:]\n",
    "df_genes.head()"
   ]
  },
  {
   "cell_type": "code",
   "execution_count": 28,
   "metadata": {},
   "outputs": [
    {
     "data": {
      "text/html": [
       "<div>\n",
       "<style scoped>\n",
       "    .dataframe tbody tr th:only-of-type {\n",
       "        vertical-align: middle;\n",
       "    }\n",
       "\n",
       "    .dataframe tbody tr th {\n",
       "        vertical-align: top;\n",
       "    }\n",
       "\n",
       "    .dataframe thead th {\n",
       "        text-align: right;\n",
       "    }\n",
       "</style>\n",
       "<table border=\"1\" class=\"dataframe\">\n",
       "  <thead>\n",
       "    <tr style=\"text-align: right;\">\n",
       "      <th></th>\n",
       "      <th>gene_name</th>\n",
       "      <th>gene_seq</th>\n",
       "      <th>org_id_name</th>\n",
       "    </tr>\n",
       "  </thead>\n",
       "  <tbody>\n",
       "    <tr>\n",
       "      <th>0</th>\n",
       "      <td>pgk</td>\n",
       "      <td>ATGAATAAGAAAACAGTAAAAGACATCGACGTAAAAGGCAAAGTCG...</td>\n",
       "      <td>0_Bacillus_amyloliquefaciens</td>\n",
       "    </tr>\n",
       "    <tr>\n",
       "      <th>1</th>\n",
       "      <td>rplW</td>\n",
       "      <td>ATGAAAGATCCTCGTGATGTTCTTAAGCGCCCCGTCATTACTGAAC...</td>\n",
       "      <td>0_Bacillus_amyloliquefaciens</td>\n",
       "    </tr>\n",
       "    <tr>\n",
       "      <th>2</th>\n",
       "      <td>rplE</td>\n",
       "      <td>ATGAACCGCCTTAAAGAAAAGTACAATAAAGAAATTTCACCTGCTT...</td>\n",
       "      <td>0_Bacillus_amyloliquefaciens</td>\n",
       "    </tr>\n",
       "    <tr>\n",
       "      <th>3</th>\n",
       "      <td>rplC</td>\n",
       "      <td>ATGACCAAAGGAATCTTAGGAAGAAAAATTGGTATGACGCAAGTAT...</td>\n",
       "      <td>0_Bacillus_amyloliquefaciens</td>\n",
       "    </tr>\n",
       "    <tr>\n",
       "      <th>4</th>\n",
       "      <td>rplF</td>\n",
       "      <td>ATGTCTCGTGTAGGTAAGAAACTGCTTGAGATCCCTTCTGAAGTTA...</td>\n",
       "      <td>0_Bacillus_amyloliquefaciens</td>\n",
       "    </tr>\n",
       "  </tbody>\n",
       "</table>\n",
       "</div>"
      ],
      "text/plain": [
       "  gene_name                                           gene_seq  \\\n",
       "0       pgk  ATGAATAAGAAAACAGTAAAAGACATCGACGTAAAAGGCAAAGTCG...   \n",
       "1      rplW  ATGAAAGATCCTCGTGATGTTCTTAAGCGCCCCGTCATTACTGAAC...   \n",
       "2      rplE  ATGAACCGCCTTAAAGAAAAGTACAATAAAGAAATTTCACCTGCTT...   \n",
       "3      rplC  ATGACCAAAGGAATCTTAGGAAGAAAAATTGGTATGACGCAAGTAT...   \n",
       "4      rplF  ATGTCTCGTGTAGGTAAGAAACTGCTTGAGATCCCTTCTGAAGTTA...   \n",
       "\n",
       "                    org_id_name  \n",
       "0  0_Bacillus_amyloliquefaciens  \n",
       "1  0_Bacillus_amyloliquefaciens  \n",
       "2  0_Bacillus_amyloliquefaciens  \n",
       "3  0_Bacillus_amyloliquefaciens  \n",
       "4  0_Bacillus_amyloliquefaciens  "
      ]
     },
     "execution_count": 28,
     "metadata": {},
     "output_type": "execute_result"
    }
   ],
   "source": [
    "df_genes.rename(columns={1:'gene_name',2:'gene_seq',3:'org_id_name'}, inplace=True)\n",
    "df_genes.head()"
   ]
  },
  {
   "cell_type": "code",
   "execution_count": 29,
   "metadata": {},
   "outputs": [
    {
     "data": {
      "text/html": [
       "<div>\n",
       "<style scoped>\n",
       "    .dataframe tbody tr th:only-of-type {\n",
       "        vertical-align: middle;\n",
       "    }\n",
       "\n",
       "    .dataframe tbody tr th {\n",
       "        vertical-align: top;\n",
       "    }\n",
       "\n",
       "    .dataframe thead th {\n",
       "        text-align: right;\n",
       "    }\n",
       "</style>\n",
       "<table border=\"1\" class=\"dataframe\">\n",
       "  <thead>\n",
       "    <tr style=\"text-align: right;\">\n",
       "      <th></th>\n",
       "      <th>org_id_name</th>\n",
       "      <th>gene_name</th>\n",
       "    </tr>\n",
       "  </thead>\n",
       "  <tbody>\n",
       "    <tr>\n",
       "      <th>0</th>\n",
       "      <td>0_Bacillus_amyloliquefaciens</td>\n",
       "      <td>pgk</td>\n",
       "    </tr>\n",
       "    <tr>\n",
       "      <th>1</th>\n",
       "      <td>0_Bacillus_amyloliquefaciens</td>\n",
       "      <td>rplW</td>\n",
       "    </tr>\n",
       "    <tr>\n",
       "      <th>2</th>\n",
       "      <td>0_Bacillus_amyloliquefaciens</td>\n",
       "      <td>rplE</td>\n",
       "    </tr>\n",
       "    <tr>\n",
       "      <th>3</th>\n",
       "      <td>0_Bacillus_amyloliquefaciens</td>\n",
       "      <td>rplC</td>\n",
       "    </tr>\n",
       "    <tr>\n",
       "      <th>4</th>\n",
       "      <td>0_Bacillus_amyloliquefaciens</td>\n",
       "      <td>rplF</td>\n",
       "    </tr>\n",
       "  </tbody>\n",
       "</table>\n",
       "</div>"
      ],
      "text/plain": [
       "                    org_id_name gene_name\n",
       "0  0_Bacillus_amyloliquefaciens       pgk\n",
       "1  0_Bacillus_amyloliquefaciens      rplW\n",
       "2  0_Bacillus_amyloliquefaciens      rplE\n",
       "3  0_Bacillus_amyloliquefaciens      rplC\n",
       "4  0_Bacillus_amyloliquefaciens      rplF"
      ]
     },
     "execution_count": 29,
     "metadata": {},
     "output_type": "execute_result"
    }
   ],
   "source": [
    "df_meta_info = df_genes.loc[:, ['org_id_name', 'gene_name']]\n",
    "df_meta_info.head()"
   ]
  },
  {
   "cell_type": "code",
   "execution_count": 30,
   "metadata": {},
   "outputs": [],
   "source": [
    "df_meta_info.to_csv('dna2vec_data/meta_info_1066_genes.tsv', sep='\\t', index=False)"
   ]
  },
  {
   "cell_type": "code",
   "execution_count": 31,
   "metadata": {},
   "outputs": [
    {
     "data": {
      "text/html": [
       "<div>\n",
       "<style scoped>\n",
       "    .dataframe tbody tr th:only-of-type {\n",
       "        vertical-align: middle;\n",
       "    }\n",
       "\n",
       "    .dataframe tbody tr th {\n",
       "        vertical-align: top;\n",
       "    }\n",
       "\n",
       "    .dataframe thead th {\n",
       "        text-align: right;\n",
       "    }\n",
       "</style>\n",
       "<table border=\"1\" class=\"dataframe\">\n",
       "  <thead>\n",
       "    <tr style=\"text-align: right;\">\n",
       "      <th></th>\n",
       "      <th>gene_name</th>\n",
       "      <th>gene_seq</th>\n",
       "      <th>org_id_name</th>\n",
       "    </tr>\n",
       "  </thead>\n",
       "  <tbody>\n",
       "    <tr>\n",
       "      <th>0</th>\n",
       "      <td>pgk</td>\n",
       "      <td>ATGAATAAGAAAACAGTAAAAGACATCGACGTAAAAGGCAAAGTCG...</td>\n",
       "      <td>0_Bacillus_amyloliquefaciens</td>\n",
       "    </tr>\n",
       "    <tr>\n",
       "      <th>1</th>\n",
       "      <td>rplW</td>\n",
       "      <td>ATGAAAGATCCTCGTGATGTTCTTAAGCGCCCCGTCATTACTGAAC...</td>\n",
       "      <td>0_Bacillus_amyloliquefaciens</td>\n",
       "    </tr>\n",
       "    <tr>\n",
       "      <th>2</th>\n",
       "      <td>rplE</td>\n",
       "      <td>ATGAACCGCCTTAAAGAAAAGTACAATAAAGAAATTTCACCTGCTT...</td>\n",
       "      <td>0_Bacillus_amyloliquefaciens</td>\n",
       "    </tr>\n",
       "    <tr>\n",
       "      <th>3</th>\n",
       "      <td>rplC</td>\n",
       "      <td>ATGACCAAAGGAATCTTAGGAAGAAAAATTGGTATGACGCAAGTAT...</td>\n",
       "      <td>0_Bacillus_amyloliquefaciens</td>\n",
       "    </tr>\n",
       "    <tr>\n",
       "      <th>4</th>\n",
       "      <td>rplF</td>\n",
       "      <td>ATGTCTCGTGTAGGTAAGAAACTGCTTGAGATCCCTTCTGAAGTTA...</td>\n",
       "      <td>0_Bacillus_amyloliquefaciens</td>\n",
       "    </tr>\n",
       "  </tbody>\n",
       "</table>\n",
       "</div>"
      ],
      "text/plain": [
       "  gene_name                                           gene_seq  \\\n",
       "0       pgk  ATGAATAAGAAAACAGTAAAAGACATCGACGTAAAAGGCAAAGTCG...   \n",
       "1      rplW  ATGAAAGATCCTCGTGATGTTCTTAAGCGCCCCGTCATTACTGAAC...   \n",
       "2      rplE  ATGAACCGCCTTAAAGAAAAGTACAATAAAGAAATTTCACCTGCTT...   \n",
       "3      rplC  ATGACCAAAGGAATCTTAGGAAGAAAAATTGGTATGACGCAAGTAT...   \n",
       "4      rplF  ATGTCTCGTGTAGGTAAGAAACTGCTTGAGATCCCTTCTGAAGTTA...   \n",
       "\n",
       "                    org_id_name  \n",
       "0  0_Bacillus_amyloliquefaciens  \n",
       "1  0_Bacillus_amyloliquefaciens  \n",
       "2  0_Bacillus_amyloliquefaciens  \n",
       "3  0_Bacillus_amyloliquefaciens  \n",
       "4  0_Bacillus_amyloliquefaciens  "
      ]
     },
     "execution_count": 31,
     "metadata": {},
     "output_type": "execute_result"
    }
   ],
   "source": [
    "df_genes.head()"
   ]
  },
  {
   "cell_type": "markdown",
   "metadata": {},
   "source": [
    "### extract 5grams from 1000 genes"
   ]
  },
  {
   "cell_type": "code",
   "execution_count": 32,
   "metadata": {},
   "outputs": [],
   "source": [
    "def ngram_extractor(g_seq_lst, n_min=3, n_max=3):\n",
    "    ngram_range = list(range(min(n_min,n_max), max(n_min+1, n_max+1)))\n",
    "    \n",
    "    ngrams_result = []\n",
    "    \n",
    "    start = timer()\n",
    "    for (g_num, g_seq) in enumerate(g_seq_lst):\n",
    "        if(g_num) % 100 == 0:\n",
    "            print(f'time: {timer()-start:.2} sec\\tid_gene={g_num}')\n",
    "        \n",
    "        ngrams_with_order = []\n",
    "        \n",
    "        [ngrams_with_order.append(g_seq[indx:indx+n])\n",
    "         for indx in range(len(g_seq) - (n_min-1))\n",
    "         for n in ngram_range\n",
    "         if (indx+n) <= len(g_seq)]\n",
    "        \n",
    "        ngrams_result.append(ngrams_with_order)\n",
    "        \n",
    "    return ngrams_result"
   ]
  },
  {
   "cell_type": "code",
   "execution_count": 33,
   "metadata": {},
   "outputs": [
    {
     "data": {
      "text/plain": [
       "'ATGGTTATGACAGATCCAATTGCAGATATGCTGACTCGTATTCGTAATGCAAACATGGTACGTCATGAGAAGCTTGAAATTCCTGCTTCTAAATTGAAAAGAGAAATTGCTGACATTTTAAAGCGTGAAGGTTTCATTCGTGACGTTGAGTTCGTAGAAGACAGCAAACAAGGTATCATCCGCGTTTTCTTGAAATACGGACAAAACAACGAGCGCGTTATCACTGGTCTTAAAAGAATCAGCAAACCAGGTTTGCGTGTATACGCTAAATCAAATGAAGTACCTCGCGTACTTAACGGTCTTGGAATCGCGATTATTTCTACATCACAAGGTGTTTTAACGGACAAAGAAGCCCGTGCAAAACAAGCTGGTGGAGAAGTTCTAGCATACGTTTGGTAA'"
      ]
     },
     "execution_count": 33,
     "metadata": {},
     "output_type": "execute_result"
    }
   ],
   "source": [
    "genes_seq = [gene_seq for gene_seq in df_genes['gene_seq']]\n",
    "genes_seq[7]"
   ]
  },
  {
   "cell_type": "code",
   "execution_count": 34,
   "metadata": {},
   "outputs": [
    {
     "name": "stdout",
     "output_type": "stream",
     "text": [
      "time: 2.1e-06 sec\tid_gene=0\n",
      "time: 0.16 sec\tid_gene=100\n",
      "time: 0.26 sec\tid_gene=200\n",
      "time: 0.35 sec\tid_gene=300\n",
      "time: 0.45 sec\tid_gene=400\n",
      "time: 0.56 sec\tid_gene=500\n",
      "time: 0.65 sec\tid_gene=600\n",
      "time: 0.74 sec\tid_gene=700\n",
      "time: 0.87 sec\tid_gene=800\n",
      "time: 0.97 sec\tid_gene=900\n",
      "time: 1.1 sec\tid_gene=1000\n"
     ]
    }
   ],
   "source": [
    "genes_5grams = ngram_extractor(genes_seq, n_min=5, n_max=5)"
   ]
  },
  {
   "cell_type": "markdown",
   "metadata": {},
   "source": [
    "### gene2vec (for 1000 genes)"
   ]
  },
  {
   "cell_type": "code",
   "execution_count": 35,
   "metadata": {},
   "outputs": [],
   "source": [
    "genes_5grams_vec = []\n",
    "for gene in genes_5grams:\n",
    "    genes_5grams_vec.append(np.vstack([model_5.wv[ngram] for ngram in gene]).mean(axis=0))"
   ]
  },
  {
   "cell_type": "code",
   "execution_count": 36,
   "metadata": {},
   "outputs": [
    {
     "data": {
      "text/plain": [
       "1066"
      ]
     },
     "execution_count": 36,
     "metadata": {},
     "output_type": "execute_result"
    }
   ],
   "source": [
    "len(genes_5grams_vec)"
   ]
  },
  {
   "cell_type": "code",
   "execution_count": 37,
   "metadata": {},
   "outputs": [
    {
     "data": {
      "text/plain": [
       "300"
      ]
     },
     "execution_count": 37,
     "metadata": {},
     "output_type": "execute_result"
    }
   ],
   "source": [
    "len(genes_5grams_vec[0])"
   ]
  },
  {
   "cell_type": "code",
   "execution_count": 39,
   "metadata": {},
   "outputs": [],
   "source": [
    "pd.DataFrame(genes_5grams_vec).to_csv('dna2vec_data/genes_vec_5grams_1066_genes.tsv', sep='\\t', header=False, index=False)"
   ]
  },
  {
   "cell_type": "code",
   "execution_count": null,
   "metadata": {},
   "outputs": [],
   "source": []
  }
 ],
 "metadata": {
  "kernelspec": {
   "display_name": "Python 3",
   "language": "python",
   "name": "python3"
  },
  "language_info": {
   "codemirror_mode": {
    "name": "ipython",
    "version": 3
   },
   "file_extension": ".py",
   "mimetype": "text/x-python",
   "name": "python",
   "nbconvert_exporter": "python",
   "pygments_lexer": "ipython3",
   "version": "3.7.3"
  }
 },
 "nbformat": 4,
 "nbformat_minor": 2
}
